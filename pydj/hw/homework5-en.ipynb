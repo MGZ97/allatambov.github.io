{
 "cells": [
  {
   "cell_type": "markdown",
   "metadata": {},
   "source": [
    "##  Homework 5\n",
    "\n",
    "*Some problems are taken from [the home assignment](http://nbviewer.jupyter.org/url/python.math-hse.info/static/assignments_release/dj2017/ps02/ps02.ipynb) for the [course](http://math-info.hse.ru/s17/1) \"Introduction to programming\" (by I.V.Schurov, NRU HSE, 2017-18).*\n",
    "\n",
    "The maximum number of points is 9 (9 points correspond to grade 10), but you can solve more problems so as to practise."
   ]
  },
  {
   "cell_type": "markdown",
   "metadata": {},
   "source": [
    "### Problem 1\n",
    "\n",
    "Write a program that asks a user to enter any address in the format `city,street,building` and prints a list of elements of this address (in square brackets with commas and spaces). Note that there are no spaces after commas in the initial address at the input!\n",
    "\n",
    "**Example**\n",
    "\n",
    "*Input:*\n",
    "\n",
    "    Moscow,Myasnitskaya,20\n",
    "\n",
    "*Output:*\n",
    "\n",
    "    ['Moscow', 'Myasnitskaya', '20']"
   ]
  },
  {
   "cell_type": "code",
   "execution_count": 1,
   "metadata": {
    "nbgrader": {
     "grade": false,
     "grade_id": "p1",
     "locked": false,
     "schema_version": 1,
     "solution": true
    }
   },
   "outputs": [],
   "source": [
    "# YOUR CODE HERE"
   ]
  },
  {
   "cell_type": "markdown",
   "metadata": {},
   "source": [
    "### Problem 2\n",
    "\n",
    "Here is the list of Moscow metro stations (yellow line, sorted according to the map):\n",
    "\n",
    "    line = [\"Tretyakovskaya\", \"Marksistskaya\", \"Ploshchad Ilyicha\",\n",
    "    \"Aviamotornaya\", \"Shosse Entuziastov\",\n",
    "    \"Perovo\", \"Novogireyevo\", \"Novokosino\"]\n",
    "\n",
    "Let's assume that we travel from Tretyakovskaya to Novokosino.\n",
    "\n",
    "Write a program that asks a user to enter a current metro station (with no extra spaces at the beginning and at the end) and prints a message like that: \n",
    "\n",
    "    Next station: name of station.\n",
    "\n",
    "Assume that a user knows which station is the last and will not ask for the station after Novokosino.\n",
    "\n",
    "**Example**\n",
    "\n",
    "*Input:*\n",
    "\n",
    "    Current station: Ploshchad Ilyicha\n",
    "\n",
    "*Output:*\n",
    "\n",
    "    Next station: Aviamotornaya\n",
    "\n",
    "**Hint:** so as to get an index of a list element, you can use `.index()`. "
   ]
  },
  {
   "cell_type": "code",
   "execution_count": 2,
   "metadata": {
    "nbgrader": {
     "grade": false,
     "grade_id": "p2",
     "locked": false,
     "schema_version": 1,
     "solution": true
    }
   },
   "outputs": [],
   "source": [
    "# YOUR CODE HERE"
   ]
  },
  {
   "cell_type": "markdown",
   "metadata": {},
   "source": [
    "### Problem 3\n",
    "\n",
    "Write a program that asks a user to enter a phone number in the format  `X-XXX-XXX-XX-XX-XX` and prints this number in the new format `X(XXX)XXX-XX-XX`.\n",
    "\n",
    "**Example**\n",
    "\n",
    "*Input:*\n",
    "\n",
    "    Enter a phone number: 8-906-000-11-22\n",
    "\n",
    "*Output:*\n",
    "\n",
    "    8(906)000-11-22"
   ]
  },
  {
   "cell_type": "code",
   "execution_count": 3,
   "metadata": {
    "nbgrader": {
     "grade": false,
     "grade_id": "p3",
     "locked": false,
     "schema_version": 1,
     "solution": true
    }
   },
   "outputs": [],
   "source": [
    "# YOUR CODE HERE"
   ]
  },
  {
   "cell_type": "markdown",
   "metadata": {},
   "source": [
    "### Problem 4\n",
    "\n",
    "Here is the list of file names: \n",
    "\n",
    "    files = ['file 1.txt', 'file 2.txt', 'file 6.txt', 'file 9.txt']\n",
    "\n",
    "Write a program that renames the files in this list, i.e. replaces all spaces to `_` and prints a new list `files` on the screen.\n",
    "\n",
    "**Example**\n",
    "\n",
    "*Input:*\n",
    "\n",
    "    files = ['file 1.txt', 'file 2.txt', 'file 6.txt', 'file 9.txt']\n",
    "\n",
    "*Output:*\n",
    "\n",
    "    files = ['file_1.txt', 'file_2.txt', 'file_6.txt', 'file_9.txt']\n",
    "    \n",
    "**Hint:** think of the `.replace()` method for strings.    "
   ]
  },
  {
   "cell_type": "code",
   "execution_count": 4,
   "metadata": {
    "nbgrader": {
     "grade": false,
     "grade_id": "p4",
     "locked": false,
     "schema_version": 1,
     "solution": true
    }
   },
   "outputs": [],
   "source": [
    "# YOUR CODE HERE"
   ]
  },
  {
   "cell_type": "markdown",
   "metadata": {},
   "source": [
    "### Problem 5 \n",
    "\n",
    "Enter two strings from the keyboard. Split the first string into a list of words and add the second string to the end of this list. Print out the list obtained.\n",
    "\n",
    "**Example**\n",
    "\n",
    "_Input:_\n",
    "\n",
    "    Hello Brave New World\n",
    "    This is a test\n",
    "\n",
    "_Output:_\n",
    "\n",
    "    ['Hello', 'Brave', 'New', 'World', 'This is a test']"
   ]
  },
  {
   "cell_type": "code",
   "execution_count": 5,
   "metadata": {
    "nbgrader": {
     "grade": false,
     "grade_id": "p5",
     "locked": false,
     "schema_version": 1,
     "solution": true
    }
   },
   "outputs": [],
   "source": [
    "# YOUR CODE HERE"
   ]
  },
  {
   "cell_type": "markdown",
   "metadata": {},
   "source": [
    "### Problem 6 \n",
    "\n",
    "We have two integers A and B (A ≤ B). Each of these numbers are entered from the keyboard, then a user presses *Enter*. Print out all integers  from A to B (B included) as a single column.\n",
    "\n",
    "You can use a for-loop here.\n",
    "\n",
    "**Example**\n",
    "\n",
    "**Input**\n",
    "\n",
    "    3\n",
    "    6\n",
    "\n",
    "**Output**\n",
    "\n",
    "    3\n",
    "    4\n",
    "    5\n",
    "    6"
   ]
  },
  {
   "cell_type": "code",
   "execution_count": 6,
   "metadata": {
    "nbgrader": {
     "grade": false,
     "grade_id": "p6",
     "locked": false,
     "schema_version": 1,
     "solution": true
    }
   },
   "outputs": [],
   "source": [
    "# YOUR CODE HERE"
   ]
  },
  {
   "cell_type": "markdown",
   "metadata": {},
   "source": [
    "### Problem 7\n",
    "\n",
    "Write a program that asks a user to enter an integer `n` and `n` integers, and then prints a product of all these integers.\n",
    "\n",
    "**Example**\n",
    "\n",
    "*Input:*\n",
    "\n",
    "    3\n",
    "    9\n",
    "    2\n",
    "    5\n",
    "\n",
    "*Output:*\n",
    "\n",
    "    90"
   ]
  },
  {
   "cell_type": "code",
   "execution_count": 7,
   "metadata": {
    "nbgrader": {
     "grade": false,
     "grade_id": "p7",
     "locked": false,
     "schema_version": 1,
     "solution": true
    }
   },
   "outputs": [],
   "source": [
    "# YOUR CODE HERE"
   ]
  },
  {
   "cell_type": "markdown",
   "metadata": {},
   "source": [
    "### Problem 8 (2 points)\n",
    "\n",
    "The factorial of a non-negative integer $n$ is the product of all integers from 1 to $n$ inclusively. The factorial $n$ is denoted by $n!$. For example,\n",
    "\n",
    "$$\n",
    "4! = 1 \\times 2 \\times 3 \\times 4 = 24.\n",
    "$$\n",
    "\n",
    "Write a program that asks a user to enter a non-negative integer $n$ that calculates $n!$ and prints the result on the screen. You cannot use pre-loaded functions from any libraries (constructions with `import` are not allowed).\n",
    "\n",
    "**Example**\n",
    "\n",
    "*Input:*\n",
    "\n",
    "    5\n",
    "\n",
    "*Output:*\n",
    "\n",
    "    120"
   ]
  },
  {
   "cell_type": "code",
   "execution_count": 8,
   "metadata": {
    "nbgrader": {
     "grade": false,
     "grade_id": "p8",
     "locked": false,
     "schema_version": 1,
     "solution": true
    }
   },
   "outputs": [],
   "source": [
    "# YOUR CODE HERE"
   ]
  },
  {
   "cell_type": "markdown",
   "metadata": {},
   "source": [
    "### Problem 9 (2 points)\n",
    "\n",
    "Fibonacci numbers is a sequence of numbers defined in the following way:\n",
    "\n",
    "$$a_1 = 1,\\quad a_2 = 1, \\quad a_{k+1}=a_k+a_{k-1}$$\n",
    "\n",
    "Write a program that asks a user to enter `k` and prints $a_k$. Assume that $k$ is always greater that 1. \n",
    "\n",
    "\n",
    "**Examples**\n",
    "\n",
    "    \n",
    "_Input:_\n",
    "\n",
    "    3\n",
    "\n",
    "_Output:_\n",
    "\n",
    "    2\n",
    "  \n",
    "_Input:_\n",
    "\n",
    "    5\n",
    "\n",
    "_Output:_\n",
    "\n",
    "    5\n",
    "  \n",
    "_Input:_\n",
    "\n",
    "    6\n",
    "\n",
    "_Output:_\n",
    "\n",
    "    8"
   ]
  },
  {
   "cell_type": "code",
   "execution_count": 9,
   "metadata": {
    "nbgrader": {
     "grade": false,
     "grade_id": "p9",
     "locked": false,
     "schema_version": 1,
     "solution": true
    }
   },
   "outputs": [],
   "source": [
    "# YOUR CODE HERE"
   ]
  }
 ],
 "metadata": {
  "celltoolbar": "Create Assignment",
  "kernelspec": {
   "display_name": "Python 3",
   "language": "python",
   "name": "python3"
  },
  "language_info": {
   "codemirror_mode": {
    "name": "ipython",
    "version": 3
   },
   "file_extension": ".py",
   "mimetype": "text/x-python",
   "name": "python",
   "nbconvert_exporter": "python",
   "pygments_lexer": "ipython3",
   "version": "3.7.4"
  }
 },
 "nbformat": 4,
 "nbformat_minor": 2
}
