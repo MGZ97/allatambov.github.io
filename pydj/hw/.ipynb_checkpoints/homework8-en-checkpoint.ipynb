{
 "cells": [
  {
   "cell_type": "markdown",
   "metadata": {},
   "source": [
    "## Homework 8\n",
    "\n",
    "*Alla Tambovtseva, NRU HSE*"
   ]
  },
  {
   "cell_type": "markdown",
   "metadata": {},
   "source": [
    "### Problem 1\n",
    "\n",
    "Create an empty dictionary `lens` and add two items: \n",
    "\n",
    "* key is \"Liasis papuana\" and value is 4;\n",
    "* key is \"Python reticulatus\" and value 6.\n",
    "\n",
    "The dictionary should look like this:\n",
    "\n",
    "    {'Liasis papuana': 4, 'Python reticulatus' : 6}"
   ]
  },
  {
   "cell_type": "code",
   "execution_count": 1,
   "metadata": {
    "nbgrader": {
     "grade": false,
     "grade_id": "p1",
     "locked": false,
     "schema_version": 1,
     "solution": true
    }
   },
   "outputs": [],
   "source": [
    "### YOUR CODE HERE"
   ]
  },
  {
   "cell_type": "markdown",
   "metadata": {},
   "source": [
    "### Problem 2\n",
    "\n",
    "Python Peter has a notebook with names of friends from different countries. This notebook looks like a dictionary: \n",
    "\n",
    "    pythons = {\"Ronald\" : \"Uganda\", \n",
    "          \"Antonia\" : \"Angola\", \n",
    "          \"Asif\" : \"Bangladesh\", \n",
    "          \"Oliver\" : \"Australia\", \n",
    "          \"Nick\" : \"West Timor\", \n",
    "          \"Harrison\" : \"Australia\", \n",
    "          \"MaiLi\" : \"China\",\n",
    "          \"Rubi\" : \"Australia\", \n",
    "          \"Aris\" : \"Indonesia\", \n",
    "          \"Onkia\" : \"Mozambik\"}\n",
    "\n",
    "Peter want to go to Australis, so he needs names of pythons that live in Australia. Write a program that prints names of pythons that live in Australia:\n",
    "\n",
    "**Expected output:**\n",
    "\n",
    "    Oliver\n",
    "    Rubi\n",
    "    Harisson"
   ]
  },
  {
   "cell_type": "code",
   "execution_count": 2,
   "metadata": {
    "nbgrader": {
     "grade": false,
     "grade_id": "p2",
     "locked": false,
     "schema_version": 1,
     "solution": true
    }
   },
   "outputs": [],
   "source": [
    "### YOUR CODE HERE"
   ]
  },
  {
   "cell_type": "markdown",
   "metadata": {},
   "source": [
    "### Problem 3\n",
    "\n",
    "Here is the dictionary with keys that correspond to numeric ids and values that correspond to cities. \n",
    "\n",
    "    cities = {100: 'Moscow', 101: 'Saint-Petersburg', \n",
    "              103: 'Ekaterinburg', 104: 'Perm', \n",
    "              107: 'Krasnoyarsk', 111 : 'Kirov'}\n",
    "\n",
    "Write a program that asks a user to enter a key and a value (one value – one input) and then:\n",
    "\n",
    "* if this key is in `cities`, it prints a message \"There is an item with this key. Choose another key.\";\n",
    "\n",
    "* if this key is not in `cities`, the key and a value are added to `cities` + `cities` is printed;\n",
    "\n",
    "**Example:**\n",
    "\n",
    "*Input:*\n",
    "\n",
    "    Enter a key: 101\n",
    "    Enter a value: Murmansk\n",
    "\n",
    "*Output:*\n",
    "    \n",
    "    There is an item with this key. Choose another key.\n",
    "\n",
    "*Input:*\n",
    "\n",
    "    Enter a key: 117\n",
    "    Enter a value: Omsk\n",
    "\n",
    "*Output: (order of items can differ):*\n",
    "    \n",
    "    {100: 'Moscow', 101: 'Saint-Petersburg', \n",
    "    103: 'Ekaterinburg', 104: 'Perm', \n",
    "    107: 'Krasnoyarsk', 111 : 'Kirov', 117 : 'Omsk'}\n",
    "              \n",
    "Note: id should be numeric!\n",
    "\n",
    "**Hint:** use operator `in`."
   ]
  },
  {
   "cell_type": "code",
   "execution_count": 3,
   "metadata": {
    "nbgrader": {
     "grade": false,
     "grade_id": "p3",
     "locked": false,
     "schema_version": 1,
     "solution": true
    }
   },
   "outputs": [],
   "source": [
    "### YOUR CODE HERE"
   ]
  },
  {
   "cell_type": "markdown",
   "metadata": {},
   "source": [
    "### Problem 4\n",
    "\n",
    "Write a program that asks a user to enter students' names separated by space, then their grades separated by space, and then creates a dictionary with keys corresponding to students' names and values corresponding to students' grades.\n",
    "\n",
    "**Example:**\n",
    "\n",
    "*Input:*\n",
    "\n",
    "    Enter names: Ann Nick\n",
    "    Enter grades: 8 7\n",
    "\n",
    "*Output (order of items can differ):*\n",
    "\n",
    "    {'Ann' : 8, 'Nick' : 7}"
   ]
  },
  {
   "cell_type": "code",
   "execution_count": 4,
   "metadata": {
    "nbgrader": {
     "grade": false,
     "grade_id": "p4",
     "locked": false,
     "schema_version": 1,
     "solution": true
    }
   },
   "outputs": [],
   "source": [
    "### YOUR CODE HERE"
   ]
  },
  {
   "cell_type": "markdown",
   "metadata": {},
   "source": [
    "### Problem 5\n",
    "\n",
    "Here is the dictionary `results`:\n",
    "\n",
    "    results = {\"Best score\": 25, \"Champion\" : \"Alex\"}\n",
    "\n",
    "Write a program that asks a user to enter his/her name and the score (in one line using space) and \n",
    "\n",
    "* if this score is greater than the best score stored in `results`, it replaces the value of \"Best score\" in `results` with the value entered by the user, and replaces value of \"Champion\" in `results` with the value entered by the user; \n",
    "\n",
    "* if this score is not greater than the best score stored in `results`, program does not change `results`.\n",
    "\n",
    "Then the dictionary `results` is printed. Assume that the score entered is always integer.\n",
    "\n",
    "**Example:**\n",
    "\n",
    "*Input:*\n",
    "\n",
    "    Enter your name and score: Alice 27\n",
    "\n",
    "*Output:*\n",
    "\n",
    "    {\"Best score\": 27, \"Champion\" : \"Alice\"}\n",
    "    \n",
    "*Input:*\n",
    "\n",
    "    Enter your name and score: Anton 23\n",
    " \n",
    "*Output:*\n",
    "\n",
    "    {\"Best score\": 25, \"Champion\" : \"Alex\"}"
   ]
  },
  {
   "cell_type": "code",
   "execution_count": 5,
   "metadata": {
    "nbgrader": {
     "grade": false,
     "grade_id": "p5",
     "locked": false,
     "schema_version": 1,
     "solution": true
    }
   },
   "outputs": [],
   "source": [
    "### YOUR CODE HERE"
   ]
  },
  {
   "cell_type": "markdown",
   "metadata": {},
   "source": [
    "### Problem 6 (2 points)\n",
    "\n",
    "Here is a dictionary that stores information on metro stations in Novosibirsk (stations in lists are ordered from the north to the south for Leninskaya line and from the west to the east for Dzerzhinskaya line). \n",
    "\n",
    "    nmetro = {\"Leninskaya\" : \n",
    "            [\"Zaeltsovskaya\", \"Gagarinskaya\", \"Krasny prospekt\", \n",
    "            \"Ploschad Lenina\", \"Oktyabrskaya\",\n",
    "            \"Rechnoy Vokzal\", \"Studencheskaya\", \"Ploschad Marsksa\"], \n",
    "              \"Dzerzhinskaya\" : \n",
    "            [\"Ploschad Garina-Mikhailovskogo\",\"Sibirskaya\",\n",
    "            \"Marshala Pokryshkina\",\"Berezovaya roscha\",\n",
    "             \"Zolotaya Niva\"]}\n",
    "\n",
    "Write a program that asks a user to enter the name of the current station and the direction ('1' – from the north to the south or from the west to the east, '2' – from the south to the north or from the east to the west) and prints the name of the next station. \n",
    "\n",
    "**Example:**\n",
    "\n",
    "*Input:*\n",
    "\n",
    "    Enter current station: Gagarinskaya\n",
    "    Enter direction: 2\n",
    "\n",
    "*Output:*\n",
    "\n",
    "    Next station: Zaeltsovskaya\n",
    "\n",
    "\n",
    "*Input:*\n",
    "\n",
    "    Enter current station: Sibirskaya\n",
    "    Enter direction: 1\n",
    "\n",
    "*Output:*\n",
    "\n",
    "    Next station: Marshala Pokryshkina"
   ]
  },
  {
   "cell_type": "code",
   "execution_count": 6,
   "metadata": {
    "nbgrader": {
     "grade": false,
     "grade_id": "p6",
     "locked": false,
     "schema_version": 1,
     "solution": true
    }
   },
   "outputs": [],
   "source": [
    "### YOUR CODE HERE"
   ]
  }
 ],
 "metadata": {
  "celltoolbar": "Create Assignment",
  "kernelspec": {
   "display_name": "Python 3",
   "language": "python",
   "name": "python3"
  },
  "language_info": {
   "codemirror_mode": {
    "name": "ipython",
    "version": 3
   },
   "file_extension": ".py",
   "mimetype": "text/x-python",
   "name": "python",
   "nbconvert_exporter": "python",
   "pygments_lexer": "ipython3",
   "version": "3.7.4"
  }
 },
 "nbformat": 4,
 "nbformat_minor": 2
}
