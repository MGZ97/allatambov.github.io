{
 "cells": [
  {
   "cell_type": "markdown",
   "metadata": {},
   "source": [
    "# Programming and Data Analysis\n",
    "\n",
    "## Homework 3\n",
    "\n",
    "*Some problems are taken from [this](http://nbviewer.jupyter.org/url/python.math-hse.info/static/assignments_release/dj2017/ps01/ps01.ipynb) homework (Course «Introduction to Programming» NRU HSE, 2017-18, by I.V.Schurov).*\n",
    "\n",
    "The maximum number of points is 6 (6 points correspond to grade 10), but you can solve more problems so as to practise."
   ]
  },
  {
   "cell_type": "markdown",
   "metadata": {},
   "source": [
    "### Problem 0 (not graded, just for example)\n",
    "\n",
    "Write a problem that asks a user to enter an integer and shows the following message:\n",
    "     \n",
    "     Next number: [number].\n",
    "     \n",
    "**Example**\n",
    "\n",
    "*Input*\n",
    "\n",
    "    Enter an integer: 7\n",
    "\n",
    "*Output*\n",
    "\n",
    "    Next number is 8."
   ]
  },
  {
   "cell_type": "code",
   "execution_count": 1,
   "metadata": {},
   "outputs": [
    {
     "name": "stdout",
     "output_type": "stream",
     "text": [
      "Enter an integer: 7\n",
      "Next number: 8.\n"
     ]
    }
   ],
   "source": [
    "# SOLUTION\n",
    "\n",
    "n = int(input(\"Enter an integer: \"))\n",
    "res = n + 1\n",
    "print(f\"Next number: {res}.\")"
   ]
  },
  {
   "cell_type": "markdown",
   "metadata": {},
   "source": [
    "### Problem 1 (1 point)\n",
    "\n",
    "Write a program that asks a user to enter his/her shoe size and shows a corresponding size of rock shoes (shoes for rock climbing). It is suggested that size of rock shoes is usually less than the size of ordinanry shoes by 2.\n",
    "\n",
    "**Example**\n",
    "\n",
    "*Input*\n",
    "\n",
    "    Enter shoe size: 38\n",
    "\n",
    "*Output*\n",
    "\n",
    "    36"
   ]
  },
  {
   "cell_type": "code",
   "execution_count": null,
   "metadata": {
    "deletable": false,
    "nbgrader": {
     "checksum": "a39f18da18a351c38371b0727169451d",
     "grade": false,
     "grade_id": "p0",
     "locked": false,
     "schema_version": 1,
     "solution": true
    }
   },
   "outputs": [],
   "source": [
    "# YOUR CODE HERE"
   ]
  },
  {
   "cell_type": "code",
   "execution_count": null,
   "metadata": {
    "deletable": false,
    "nbgrader": {
     "checksum": "573b3cf6e3c0d29dcb4a5149d5cb8ac5",
     "grade": true,
     "grade_id": "p0-test",
     "locked": true,
     "points": 1,
     "schema_version": 1,
     "solution": false
    }
   },
   "outputs": [],
   "source": []
  },
  {
   "cell_type": "markdown",
   "metadata": {},
   "source": [
    "### Problem 2 (1 point)\n",
    "\n",
    "\n",
    "Write a program that asks a user to enter three numbers one by one (three inputs) and shows their product.\n",
    "\n",
    "**Example.**\n",
    "\n",
    "*Input:*\n",
    "\n",
    "    2\n",
    "    3\n",
    "    5\n",
    "\n",
    "*Output:*\n",
    "\n",
    "    30"
   ]
  },
  {
   "cell_type": "code",
   "execution_count": null,
   "metadata": {
    "deletable": false,
    "nbgrader": {
     "checksum": "7e6b5eb5b61efbc121076358d52a057d",
     "grade": false,
     "grade_id": "p1",
     "locked": false,
     "schema_version": 1,
     "solution": true
    }
   },
   "outputs": [],
   "source": [
    "# YOUR CODE HERE"
   ]
  },
  {
   "cell_type": "code",
   "execution_count": null,
   "metadata": {
    "deletable": false,
    "nbgrader": {
     "checksum": "36022f90bc39c00f4d1ec9a268ce70f2",
     "grade": true,
     "grade_id": "p1_test",
     "locked": true,
     "points": 1,
     "schema_version": 1,
     "solution": false
    }
   },
   "outputs": [],
   "source": []
  },
  {
   "cell_type": "markdown",
   "metadata": {},
   "source": [
    "### Problem 3 (1 point)\n",
    "\n",
    "Write a code that asks a user to enter his/her name and prints the following message (mind spaces):\n",
    "\n",
    "    Name... such a good name!\n",
    " \n",
    "**Examples:**\n",
    "\n",
    "*Input:*\n",
    "\n",
    "    Anna\n",
    "\n",
    "*Output:*\n",
    "\n",
    "    Anna... such a good name!\n",
    "\n",
    "*Input:*\n",
    "\n",
    "    Nick\n",
    "\n",
    "*Output:*\n",
    "\n",
    "    Nick... such a good name!"
   ]
  },
  {
   "cell_type": "code",
   "execution_count": null,
   "metadata": {
    "deletable": false,
    "nbgrader": {
     "checksum": "6213bf4add532bae23786ef1119ba02e",
     "grade": false,
     "grade_id": "p2",
     "locked": false,
     "schema_version": 1,
     "solution": true
    }
   },
   "outputs": [],
   "source": [
    "# YOUR CODE HERE"
   ]
  },
  {
   "cell_type": "code",
   "execution_count": null,
   "metadata": {
    "deletable": false,
    "nbgrader": {
     "checksum": "6207f593b30c80c005eecd74772434c5",
     "grade": true,
     "grade_id": "p2-test",
     "locked": true,
     "points": 1,
     "schema_version": 1,
     "solution": false
    }
   },
   "outputs": [],
   "source": []
  },
  {
   "cell_type": "markdown",
   "metadata": {},
   "source": [
    "### Problem 4 (1 point)\n",
    "\n",
    "Write a program that asks a user to enter two numbers, either integers or floats, one by one (two inputs) and shows their [geometric mean](https://en.wikipedia.org/wiki/Geometric_mean). Assume that a user enters only nonnegative numbers.\n",
    "\n",
    "**Examples:**\n",
    "\n",
    "*Input:*\n",
    "\n",
    "    3\n",
    "    12\n",
    "\n",
    "*Output:*\n",
    "\n",
    "    6.0\n",
    "\n",
    "*Input:*\n",
    "\n",
    "    5\n",
    "    4    \n",
    "\n",
    "*Output:*\n",
    "\n",
    "    4.47213595499958"
   ]
  },
  {
   "cell_type": "code",
   "execution_count": null,
   "metadata": {
    "deletable": false,
    "nbgrader": {
     "checksum": "bfbb27aeeff0887c4c5fd767f49c428a",
     "grade": false,
     "grade_id": "p3",
     "locked": false,
     "schema_version": 1,
     "solution": true
    }
   },
   "outputs": [],
   "source": [
    "# YOUR CODE HERE"
   ]
  },
  {
   "cell_type": "code",
   "execution_count": null,
   "metadata": {
    "deletable": false,
    "nbgrader": {
     "checksum": "d3b83b7e90a41381ff0977564de3e7f8",
     "grade": true,
     "grade_id": "p3-test",
     "locked": true,
     "points": 1,
     "schema_version": 1,
     "solution": false
    }
   },
   "outputs": [],
   "source": []
  },
  {
   "cell_type": "markdown",
   "metadata": {},
   "source": [
    "### Problem 5 (1 point)\n",
    "\n",
    "On average Python receives five messages from Anaconda ($\\lambda = 5$). A user enters a number of messages that Anaconda can send to Python ($k$). Write a program that shows the probability that Python will get $k$ messages from Anaconda. The message should look like this:\n",
    "\n",
    "    Number of messages from Anaconda is [k], the probability is [v].\n",
    "\n",
    "The probability that Python will get $k$ messages is calculated in the following way (Poisson distribution):\n",
    "\n",
    "$$P(X = k) = e^{-\\lambda}\\cdot \\frac{\\lambda^k}{k!},$$ where $k!$ – \"k factorial\" is a product of all integers from 1 to $k$. \n",
    "\n",
    "**Hint:** you can take the function `factorial()` from the module `math` so as to calculate the factorial of $k$.\n",
    "\n",
    "**Examples:**\n",
    "\n",
    "*Input:*\n",
    "\n",
    "    Enter number of messages: 2\n",
    "\n",
    "*Output:*\n",
    "\n",
    "    Number of messages from Anaconda is 2, the probability is 0.084."
   ]
  },
  {
   "cell_type": "code",
   "execution_count": null,
   "metadata": {
    "deletable": false,
    "nbgrader": {
     "checksum": "97c11d4b6d2d43d02800b505b4b2d613",
     "grade": false,
     "grade_id": "p4",
     "locked": false,
     "schema_version": 1,
     "solution": true
    }
   },
   "outputs": [],
   "source": [
    "# YOUR CODE HERE "
   ]
  },
  {
   "cell_type": "code",
   "execution_count": null,
   "metadata": {
    "deletable": false,
    "nbgrader": {
     "checksum": "03583312c720b4407fd758d0d5627a14",
     "grade": true,
     "grade_id": "p4-test",
     "locked": true,
     "points": 1,
     "schema_version": 1,
     "solution": false
    }
   },
   "outputs": [],
   "source": []
  },
  {
   "cell_type": "markdown",
   "metadata": {},
   "source": [
    "### Problem 6 (1 point)\n",
    "\n",
    "Write a program that asks a user to enter an amount of money that he/she wants to send to his friend and prints the amount of money that will be taken from his card including 5% bank commission.\n",
    "\n",
    "*Note:* assume that a user enters an integer number.\n",
    "\n",
    "**Examples:** \n",
    "\n",
    "*Input:*\n",
    "\n",
    "    Money to send: 1000\n",
    "\n",
    "*Output:*\n",
    "\n",
    "    Money to take from the card: 1050.0"
   ]
  },
  {
   "cell_type": "code",
   "execution_count": null,
   "metadata": {
    "deletable": false,
    "nbgrader": {
     "checksum": "2f329072027064ca1556839ec75193ec",
     "grade": false,
     "grade_id": "p5",
     "locked": false,
     "schema_version": 1,
     "solution": true
    }
   },
   "outputs": [],
   "source": [
    "# YOUR CODE HERE"
   ]
  },
  {
   "cell_type": "code",
   "execution_count": null,
   "metadata": {
    "deletable": false,
    "nbgrader": {
     "checksum": "db26704a83dad384d6727beee1404cd0",
     "grade": true,
     "grade_id": "p5-test",
     "locked": true,
     "points": 1,
     "schema_version": 1,
     "solution": false
    }
   },
   "outputs": [],
   "source": []
  },
  {
   "cell_type": "markdown",
   "metadata": {},
   "source": [
    "### Problem 7 (2 points)\n",
    "\n",
    "We have the integer $n$. Print the next even number. You CANNOT use conditional operator `if` or loops for this task.\n",
    "\n",
    "**Note:** there is an operator `//` to perform integer division and an operator `%` to take the residual from such a division. For example, the result of `15 % 7` is `1`.\n",
    "\n",
    "**Examples:**\n",
    "\n",
    "_Input:_\n",
    "\n",
    "    7\n",
    "\n",
    "*Output:*\n",
    "\n",
    "    8\n",
    "\n",
    "_Input:_\n",
    "\n",
    "    8\n",
    "\n",
    "*Output:*\n",
    "\n",
    "    10"
   ]
  },
  {
   "cell_type": "code",
   "execution_count": null,
   "metadata": {
    "deletable": false,
    "nbgrader": {
     "checksum": "0f79019eb3e406ec69e358f27813514b",
     "grade": false,
     "grade_id": "p7",
     "locked": false,
     "schema_version": 1,
     "solution": true
    }
   },
   "outputs": [],
   "source": [
    "# YOUR CODE HERE"
   ]
  },
  {
   "cell_type": "code",
   "execution_count": null,
   "metadata": {
    "deletable": false,
    "nbgrader": {
     "checksum": "bbd6d541188f5f6114a363e2367861d6",
     "grade": true,
     "grade_id": "p7-test",
     "locked": true,
     "points": 2,
     "schema_version": 1,
     "solution": false
    }
   },
   "outputs": [],
   "source": []
  },
  {
   "cell_type": "code",
   "execution_count": null,
   "metadata": {
    "deletable": false,
    "nbgrader": {
     "checksum": "673974d30c2412c10006a2d49f459e06",
     "grade": false,
     "grade_id": "p8",
     "locked": false,
     "schema_version": 1,
     "solution": true
    }
   },
   "outputs": [],
   "source": [
    "# YOUR CODE HERE"
   ]
  },
  {
   "cell_type": "code",
   "execution_count": null,
   "metadata": {
    "deletable": false,
    "nbgrader": {
     "checksum": "dd8d5511c0bd8e8c820727d9d55e31fe",
     "grade": true,
     "grade_id": "p8-test",
     "locked": true,
     "points": 3,
     "schema_version": 1,
     "solution": false
    }
   },
   "outputs": [],
   "source": []
  }
 ],
 "metadata": {
  "kernelspec": {
   "display_name": "Python 3",
   "language": "python",
   "name": "python3"
  },
  "language_info": {
   "codemirror_mode": {
    "name": "ipython",
    "version": 3
   },
   "file_extension": ".py",
   "mimetype": "text/x-python",
   "name": "python",
   "nbconvert_exporter": "python",
   "pygments_lexer": "ipython3",
   "version": "3.7.4"
  }
 },
 "nbformat": 4,
 "nbformat_minor": 2
}
