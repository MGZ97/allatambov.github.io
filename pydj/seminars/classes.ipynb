{
 "cells": [
  {
   "cell_type": "markdown",
   "metadata": {},
   "source": [
    "# Python для сбора и анализа данных\n",
    "\n",
    "## Объекты и классы\n",
    "\n",
    "*Алла Тамбовцева, НИУ ВШЭ*"
   ]
  },
  {
   "cell_type": "markdown",
   "metadata": {},
   "source": [
    "### Введение в классы\n",
    "\n",
    "На самом деле, с классами мы уже немного знакомы. Правда, вместо того, чтобы создавать объекты придуманных нами классов, мы использовали готовые объекты в Python, созданные до нас. \n",
    "\n",
    "Класс часто называют проектом объекта определенного типа, то есть шаблоном, который описывает атрибуты (характеристики) объекта и методы, которые можно применять к этому объекту. Например, в Python есть списки, объекты типа *list*, на которых определены методы `.append()`, `.extend()`, `.pop()` и другие. Это означает, что при разработке языка написали класс, который зафиксировал, что такое список и как с ним работать. Или, что еще более интересно, в Python есть объект *NumPy array*, массив из библиотеки *NumPy*, у которого есть набор атрибутов и набор методов. Вспомним, как он выглядит:"
   ]
  },
  {
   "cell_type": "code",
   "execution_count": 1,
   "metadata": {},
   "outputs": [],
   "source": [
    "import numpy as np"
   ]
  },
  {
   "cell_type": "code",
   "execution_count": 2,
   "metadata": {},
   "outputs": [
    {
     "data": {
      "text/plain": [
       "array([8, 2, 8])"
      ]
     },
     "execution_count": 2,
     "metadata": {},
     "output_type": "execute_result"
    }
   ],
   "source": [
    "# создаем массив\n",
    "A = np.array([8, 2, 8])\n",
    "A"
   ]
  },
  {
   "cell_type": "markdown",
   "metadata": {},
   "source": [
    "Посмотрим на атрибуты `.dtype` и `.ndim`:"
   ]
  },
  {
   "cell_type": "code",
   "execution_count": 3,
   "metadata": {},
   "outputs": [
    {
     "data": {
      "text/plain": [
       "dtype('int64')"
      ]
     },
     "execution_count": 3,
     "metadata": {},
     "output_type": "execute_result"
    }
   ],
   "source": [
    "A.dtype  # одна характеристика массива"
   ]
  },
  {
   "cell_type": "code",
   "execution_count": 4,
   "metadata": {},
   "outputs": [
    {
     "data": {
      "text/plain": [
       "1"
      ]
     },
     "execution_count": 4,
     "metadata": {},
     "output_type": "execute_result"
    }
   ],
   "source": [
    "A.ndim  # другая характеристика массива"
   ]
  },
  {
   "cell_type": "markdown",
   "metadata": {},
   "source": [
    "А теперь применим метод `.sort()`, который изменит нам исходный массив, отсортировав его по возрастанию (тут полезно вспомнить, что метод – это функция, определенная на конкретном типе, в данном случае – на массиве):"
   ]
  },
  {
   "cell_type": "code",
   "execution_count": 5,
   "metadata": {},
   "outputs": [
    {
     "data": {
      "text/plain": [
       "array([2, 8, 8])"
      ]
     },
     "execution_count": 5,
     "metadata": {},
     "output_type": "execute_result"
    }
   ],
   "source": [
    "A.sort()  # функция sort(), которая работает на массивах\n",
    "A"
   ]
  },
  {
   "cell_type": "markdown",
   "metadata": {},
   "source": [
    "### Написание собственного класса"
   ]
  },
  {
   "cell_type": "markdown",
   "metadata": {},
   "source": [
    "Теперь давайте создадим свой класс. Чтобы пример был запоминающимся и более-менее осязаемым, давайте продолжим волшебную тему с предыдущего занятия и создадим класс `Cauldron`, который будет описывать котёл. А точнее, этот класс будет определять характеристики котла (атрибуты класса «котёл») и действия, которые мы можем к нему применять (методы класса «котёл»).\n",
    "\n",
    "Давайте для начала считать, что у котла есть два атрибута – его размер и материал, при этом с самим котлом мы ничего не делаем. \n",
    "\n",
    "Создание класса начинается с оператора `class`, после которого мы указываем его название. После названия мы ставим двоеточие и приступаем к описанию класса. Описание класса всегда начинается с его инициализации – мы должны сообщить Python, что у нас создается новый объект с некоторыми атрибутами. "
   ]
  },
  {
   "cell_type": "code",
   "execution_count": null,
   "metadata": {},
   "outputs": [],
   "source": [
    "class Cauldron:"
   ]
  },
  {
   "cell_type": "markdown",
   "metadata": {},
   "source": [
    "Для инициализации объекта нам нужно написать специальную функцию `__init__` (от *initialize*, обратите внимание на двойной `_` вокруг `init`) и описать, какие атрибуты у него будут:"
   ]
  },
  {
   "cell_type": "code",
   "execution_count": 6,
   "metadata": {},
   "outputs": [],
   "source": [
    "# self – указание на сам объект\n",
    "# атрибуты size и material\n",
    "\n",
    "class Cauldron:\n",
    "    def __init__(self, size, material):\n",
    "        self.size = size\n",
    "        self.material = material"
   ]
  },
  {
   "cell_type": "markdown",
   "metadata": {},
   "source": [
    "Что делает (и не делает) код выше? Во-первых, он не создает объект класса `Cauldron`, а только описывает его. Во-вторых, он сообщает Python, что для создания объекта класса `Cauldron` пользователь должен обязательно указать размер котла и его материал.\n",
    "\n",
    "Попробуем создать медный котёл среднего размера:"
   ]
  },
  {
   "cell_type": "code",
   "execution_count": 7,
   "metadata": {},
   "outputs": [],
   "source": [
    "caul = Cauldron('medium', 'copper')"
   ]
  },
  {
   "cell_type": "markdown",
   "metadata": {},
   "source": [
    "Посмотрим на него:"
   ]
  },
  {
   "cell_type": "code",
   "execution_count": 8,
   "metadata": {},
   "outputs": [
    {
     "data": {
      "text/plain": [
       "<__main__.Cauldron at 0x108185f50>"
      ]
     },
     "execution_count": 8,
     "metadata": {},
     "output_type": "execute_result"
    }
   ],
   "source": [
    "caul"
   ]
  },
  {
   "cell_type": "markdown",
   "metadata": {},
   "source": [
    "Объект от нас скрыт. Ничего страшного, зато мы можем после названия поставить точку, нажать на *Tab* и увидеть, какие атрибуты нам доступны! Запросим материал:"
   ]
  },
  {
   "cell_type": "code",
   "execution_count": 9,
   "metadata": {},
   "outputs": [
    {
     "data": {
      "text/plain": [
       "'copper'"
      ]
     },
     "execution_count": 9,
     "metadata": {},
     "output_type": "execute_result"
    }
   ],
   "source": [
    "caul.material"
   ]
  },
  {
   "cell_type": "markdown",
   "metadata": {},
   "source": [
    "А теперь размер:"
   ]
  },
  {
   "cell_type": "code",
   "execution_count": 23,
   "metadata": {},
   "outputs": [
    {
     "data": {
      "text/plain": [
       "'medium'"
      ]
     },
     "execution_count": 23,
     "metadata": {},
     "output_type": "execute_result"
    }
   ],
   "source": [
    "caul.size"
   ]
  },
  {
   "cell_type": "markdown",
   "metadata": {},
   "source": [
    "А теперь изменим наш класс – добавим в него атрибут `contents`, который будет представлять собой список с содержимым котла. Плюс, допустим, что изначально котёл пустой, то есть по умолчанию в `contents` сохранен пустой список. "
   ]
  },
  {
   "cell_type": "code",
   "execution_count": 10,
   "metadata": {},
   "outputs": [],
   "source": [
    "class Cauldron:\n",
    "    def __init__(self, size, material, contents=[]):\n",
    "        self.size = size\n",
    "        self.material = material\n",
    "        self.contents = contents"
   ]
  },
  {
   "cell_type": "markdown",
   "metadata": {},
   "source": [
    "**Обратите внимание:** как обычно, аргументы функции, у которых заданы значения по умолчанию, идут после тех аргументов, у которых значения по умолчанию не заданы.\n",
    "\n",
    "Создадим обновленный объект `caul`:"
   ]
  },
  {
   "cell_type": "code",
   "execution_count": 13,
   "metadata": {},
   "outputs": [],
   "source": [
    "# не задали contents, но Python не ругается\n",
    "\n",
    "caul = Cauldron('medium', 'copper') "
   ]
  },
  {
   "cell_type": "code",
   "execution_count": 14,
   "metadata": {},
   "outputs": [
    {
     "data": {
      "text/plain": [
       "[]"
      ]
     },
     "execution_count": 14,
     "metadata": {},
     "output_type": "execute_result"
    }
   ],
   "source": [
    "# потому что по умолчанию там пустой список\n",
    "\n",
    "caul.contents"
   ]
  },
  {
   "cell_type": "markdown",
   "metadata": {},
   "source": [
    "Теперь давайте допишем метод `.add()`, который будет позволять добавлять ингредиенты в котёл. Несложно догадаться, что внутри этого метода будет использоваться обычный `.append()`, так как `contents` – это список:"
   ]
  },
  {
   "cell_type": "code",
   "execution_count": 15,
   "metadata": {},
   "outputs": [],
   "source": [
    "class Cauldron:\n",
    "    def __init__(self, size, material, contents=[]):\n",
    "        self.size = size\n",
    "        self.material = material\n",
    "        self.contents = contents\n",
    "    \n",
    "    # обновляем contents\n",
    "    def add(self, x):\n",
    "        self.contents.append(x)"
   ]
  },
  {
   "cell_type": "markdown",
   "metadata": {},
   "source": [
    "Создадим новый котёл и добавим туда имбирь и змеиные клыки:"
   ]
  },
  {
   "cell_type": "code",
   "execution_count": 16,
   "metadata": {},
   "outputs": [],
   "source": [
    "caul = Cauldron('medium', 'copper') \n",
    "caul.add('ginger')\n",
    "caul.add('snake fangs')  # do not write snape fangs, please"
   ]
  },
  {
   "cell_type": "markdown",
   "metadata": {},
   "source": [
    "Проверим содержимое котла и по совместимости атрибута `.contents`:"
   ]
  },
  {
   "cell_type": "code",
   "execution_count": 17,
   "metadata": {},
   "outputs": [
    {
     "data": {
      "text/plain": [
       "['ginger', 'snake fangs']"
      ]
     },
     "execution_count": 17,
     "metadata": {},
     "output_type": "execute_result"
    }
   ],
   "source": [
    "caul.contents"
   ]
  },
  {
   "cell_type": "markdown",
   "metadata": {},
   "source": [
    "Все добавилось! Теперь напишем метод `.engorgio()`, который будет изменять размер котла на `huge` и делать все буквы в ингредиентах в `contents` заглавными."
   ]
  },
  {
   "cell_type": "code",
   "execution_count": 20,
   "metadata": {},
   "outputs": [],
   "source": [
    "class Cauldron:\n",
    "    def __init__(self, size, material, contents=[]):\n",
    "        self.size = size\n",
    "        self.material = material\n",
    "        self.contents = contents\n",
    "    \n",
    "    def add(self, x):\n",
    "        self.contents.append(x)\n",
    "        \n",
    "    def engorgio(self):\n",
    "        self.size = 'huge'\n",
    "        self.contents = [s.upper() for s in self.contents]"
   ]
  },
  {
   "cell_type": "code",
   "execution_count": 21,
   "metadata": {},
   "outputs": [],
   "source": [
    "caul = Cauldron('medium', 'copper') \n",
    "caul.add('ginger')\n",
    "caul.add('snake fangs')\n",
    "caul.engorgio()"
   ]
  },
  {
   "cell_type": "code",
   "execution_count": 22,
   "metadata": {},
   "outputs": [
    {
     "data": {
      "text/plain": [
       "['GINGER', 'SNAKE FANGS']"
      ]
     },
     "execution_count": 22,
     "metadata": {},
     "output_type": "execute_result"
    }
   ],
   "source": [
    "caul.contents # сработало"
   ]
  },
  {
   "cell_type": "code",
   "execution_count": 23,
   "metadata": {},
   "outputs": [
    {
     "data": {
      "text/plain": [
       "'huge'"
      ]
     },
     "execution_count": 23,
     "metadata": {},
     "output_type": "execute_result"
    }
   ],
   "source": [
    "caul.size # тоже сработало"
   ]
  },
  {
   "cell_type": "markdown",
   "metadata": {},
   "source": [
    "Теперь пойдем еще дальше. Напишем метод `.expulso()`, который будет «взрывать» котёл, то есть разбивать все элементы в `.contents` на буквы."
   ]
  },
  {
   "cell_type": "code",
   "execution_count": 24,
   "metadata": {},
   "outputs": [],
   "source": [
    "class Cauldron:\n",
    "    def __init__(self, size, material, contents=[]):\n",
    "        self.size = size\n",
    "        self.material = material\n",
    "        self.contents = contents\n",
    "    \n",
    "    def add(self, x):\n",
    "        self.contents.append(x)\n",
    "        \n",
    "    def engorgio(self):\n",
    "        self.size = 'huge'\n",
    "        self.contents = [s.upper() for s in self.contents]\n",
    "        \n",
    "    def expulso(self):\n",
    "        self.contents = [list(s) for s in self.contents]"
   ]
  },
  {
   "cell_type": "markdown",
   "metadata": {},
   "source": [
    "Применим сначала `.engorgio()`, а потом `.expulso()`:"
   ]
  },
  {
   "cell_type": "code",
   "execution_count": 25,
   "metadata": {},
   "outputs": [],
   "source": [
    "caul = Cauldron('medium', 'copper', \n",
    "                ['dittany', 'ginger']) # сразу с contents"
   ]
  },
  {
   "cell_type": "code",
   "execution_count": 27,
   "metadata": {},
   "outputs": [],
   "source": [
    "caul.engorgio()\n",
    "caul.expulso()"
   ]
  },
  {
   "cell_type": "code",
   "execution_count": 29,
   "metadata": {},
   "outputs": [
    {
     "data": {
      "text/plain": [
       "[['D', 'I', 'T', 'T', 'A', 'N', 'Y'], ['G', 'I', 'N', 'G', 'E', 'R']]"
      ]
     },
     "execution_count": 29,
     "metadata": {},
     "output_type": "execute_result"
    }
   ],
   "source": [
    "caul.contents"
   ]
  },
  {
   "cell_type": "markdown",
   "metadata": {},
   "source": [
    "Теперь давайте проверим, что будет, если в какой-нибудь из методов, то есть в какую-нибудь из функций внутри `Cauldron()`, мы добавим строку с `print()`. Например, сообщим, что метод `.engorgio()` должен еще выводить на экран само заклинание."
   ]
  },
  {
   "cell_type": "code",
   "execution_count": 30,
   "metadata": {},
   "outputs": [],
   "source": [
    "class Cauldron:\n",
    "    def __init__(self, size, material, contents=[]):\n",
    "        self.size = size\n",
    "        self.material = material\n",
    "        self.contents = contents\n",
    "    \n",
    "    def add(self, x):\n",
    "        self.contents.append(x)\n",
    "        \n",
    "    def engorgio(self):\n",
    "        self.size = 'huge'\n",
    "        self.contents = [s.upper() for s in self.contents]\n",
    "        print(\"Engorgio!\")\n",
    "        \n",
    "    def expulso(self):\n",
    "        self.contents = [list(s) for s in self.contents]"
   ]
  },
  {
   "cell_type": "code",
   "execution_count": 31,
   "metadata": {},
   "outputs": [
    {
     "name": "stdout",
     "output_type": "stream",
     "text": [
      "Engorgio!\n"
     ]
    }
   ],
   "source": [
    "caul = Cauldron('medium', 'copper', \n",
    "                ['dittany', 'ginger']) # сразу с contents\n",
    "caul.engorgio()"
   ]
  },
  {
   "cell_type": "code",
   "execution_count": null,
   "metadata": {},
   "outputs": [],
   "source": [
    "caul.contents  # изменились, плюс, выше получили еще подтверждение "
   ]
  },
  {
   "cell_type": "markdown",
   "metadata": {},
   "source": [
    "Атрибут `.contents` изменился, но теперь у нас еще одно подтверждение (сообщение *Engorgio!*), что метод сработал.\n",
    "\n",
    "Давайте напишем еще метод `.reparo()`, который будет устранять последствия разрушения – склеивать буквы обратно в слова. Этот метод будет более интересным по сравнению с предыдущими, потому что он должен что-то делать только в случае, если мы раньше применили метод `.expulso()` и все сломали. \n",
    "\n",
    "Что это означает технически? Нам нужно проверить, какого типа элементы содержит атрибут `.contents`. Если строки, то `.expulso()` мы не применяли, и все в порядке, если списки, то `.expulso()` был запущен, и необходимо элементы каждого списка внутри `contents` склеить."
   ]
  },
  {
   "cell_type": "code",
   "execution_count": 32,
   "metadata": {},
   "outputs": [],
   "source": [
    "class Cauldron:\n",
    "    def __init__(self, size, material, contents=[]):\n",
    "        self.size = size\n",
    "        self.material = material\n",
    "        self.contents = contents\n",
    "    \n",
    "    def add(self, x):\n",
    "        self.contents.append(x)\n",
    "        \n",
    "    def engorgio(self):\n",
    "        self.size = 'huge'\n",
    "        self.contents = [s.upper() for s in self.contents]\n",
    "        print(\"Engorgio!\")\n",
    "        \n",
    "    def expulso(self):\n",
    "        self.contents = [list(s) for s in self.contents]\n",
    "        \n",
    "    def reparo(self):\n",
    "        if len(self.contents) != 0:\n",
    "            if type(self.contents[0]) is list:\n",
    "                self.contents = [\"\".join(s) for s in self.contents]"
   ]
  },
  {
   "cell_type": "markdown",
   "metadata": {},
   "source": [
    "В нашем случае достаточно проверить тип первого элемента в `.contents`, потому что если первый элемент является списком, то и остальные тоже – мы сами так определили метод `.expulso()`, который разбивает все ингредиенты на буквы.\n",
    "\n",
    "В коде выше мы дополнительно проверили длину списка в `.contents`, чтобы в случае применения метода `.reparo()` к пустому котлу, мы не получили ошибку (если список пустой, то Python не сможет найти в нем элемент с индексом 0).\n",
    "\n",
    "Применяем и проверяем:"
   ]
  },
  {
   "cell_type": "code",
   "execution_count": 33,
   "metadata": {},
   "outputs": [],
   "source": [
    "# разбиваем полный котел\n",
    "\n",
    "caul = Cauldron('medium', 'copper', \n",
    "                ['dittany', 'ginger'])\n",
    "caul.expulso()"
   ]
  },
  {
   "cell_type": "code",
   "execution_count": 34,
   "metadata": {},
   "outputs": [
    {
     "data": {
      "text/plain": [
       "['dittany', 'ginger']"
      ]
     },
     "execution_count": 34,
     "metadata": {},
     "output_type": "execute_result"
    }
   ],
   "source": [
    "# восстанавливаем\n",
    "\n",
    "caul.reparo()\n",
    "caul.contents"
   ]
  },
  {
   "cell_type": "code",
   "execution_count": 35,
   "metadata": {},
   "outputs": [],
   "source": [
    "# разбиваем пустой котел\n",
    "\n",
    "caul = Cauldron('medium', 'copper')\n",
    "caul.expulso()"
   ]
  },
  {
   "cell_type": "code",
   "execution_count": 36,
   "metadata": {},
   "outputs": [
    {
     "data": {
      "text/plain": [
       "[]"
      ]
     },
     "execution_count": 36,
     "metadata": {},
     "output_type": "execute_result"
    }
   ],
   "source": [
    "# восстанавливаем\n",
    "\n",
    "caul.reparo()\n",
    "caul.contents  # reparo() ничего не делает, но и ошибки нет"
   ]
  },
  {
   "cell_type": "markdown",
   "metadata": {},
   "source": [
    "Теперь давайте добавим в `Cauldron()` методы другого типа – методы, которые не просто изменяют имеющиеся атрибуты, а добавляют новые или удаляют старые.\n",
    "\n",
    "Напишем метод `.colovaria()`, который будет принимать на вход строку с цветом и добавлять к объекту атрибут `color` с введенным значением."
   ]
  },
  {
   "cell_type": "code",
   "execution_count": 37,
   "metadata": {},
   "outputs": [],
   "source": [
    "class Cauldron:\n",
    "    # изначально среди атрибутов нет color\n",
    "    def __init__(self, size, material, contents=[]):\n",
    "        self.size = size\n",
    "        self.material = material\n",
    "        self.contents = contents\n",
    "    \n",
    "    def add(self, x):\n",
    "        self.contents.append(x)\n",
    "        \n",
    "    def engorgio(self):\n",
    "        self.size = 'huge'\n",
    "        self.contents = [s.upper() for s in self.contents]\n",
    "        print(\"Engorgio!\")\n",
    "        \n",
    "    def expulso(self):\n",
    "        self.contents = [list(s) for s in self.contents]\n",
    "        \n",
    "    def reparo(self):\n",
    "        if len(self.contents) != 0:\n",
    "            if type(self.contents[0]) is list:\n",
    "                self.contents = [\"\".join(s) for s in self.contents]\n",
    "    \n",
    "    # а здесь создаем атрибут color и записываем туда color\n",
    "    def colovaria(self, color):\n",
    "        self.color = color\n",
    "    "
   ]
  },
  {
   "cell_type": "code",
   "execution_count": 38,
   "metadata": {},
   "outputs": [],
   "source": [
    "caul = Cauldron('medium', 'copper', ['dittany', 'ginger'])"
   ]
  },
  {
   "cell_type": "markdown",
   "metadata": {},
   "source": [
    "Если сейчас напишем `caul.` и нажмем *Tab*, среди перечисленных методов и атрибутов `color` мы не увидим. Если вызовем его явно, получим ошибку:"
   ]
  },
  {
   "cell_type": "code",
   "execution_count": 39,
   "metadata": {},
   "outputs": [
    {
     "ename": "AttributeError",
     "evalue": "'Cauldron' object has no attribute 'color'",
     "output_type": "error",
     "traceback": [
      "\u001b[0;31m---------------------------------------------------------------------------\u001b[0m",
      "\u001b[0;31mAttributeError\u001b[0m                            Traceback (most recent call last)",
      "\u001b[0;32m<ipython-input-39-7bddfc7855c2>\u001b[0m in \u001b[0;36m<module>\u001b[0;34m\u001b[0m\n\u001b[0;32m----> 1\u001b[0;31m \u001b[0mcaul\u001b[0m\u001b[0;34m.\u001b[0m\u001b[0mcolor\u001b[0m\u001b[0;34m\u001b[0m\u001b[0;34m\u001b[0m\u001b[0m\n\u001b[0m",
      "\u001b[0;31mAttributeError\u001b[0m: 'Cauldron' object has no attribute 'color'"
     ]
    }
   ],
   "source": [
    "caul.color"
   ]
  },
  {
   "cell_type": "markdown",
   "metadata": {},
   "source": [
    "Теперь применим метод `.colovaria()`:"
   ]
  },
  {
   "cell_type": "code",
   "execution_count": 40,
   "metadata": {},
   "outputs": [
    {
     "data": {
      "text/plain": [
       "'red'"
      ]
     },
     "execution_count": 40,
     "metadata": {},
     "output_type": "execute_result"
    }
   ],
   "source": [
    "caul.colovaria('red')\n",
    "caul.color  # появился! "
   ]
  },
  {
   "cell_type": "markdown",
   "metadata": {},
   "source": [
    "Давайте прекратим эксперименты над котлом и напишем последний метод `.evanesco()`, который будет не просто присваивать атрибуту `.contents` значение `None`, а будет удалять этот атрибут совсем. Если его удалим, то дальше ничего интересного сделать с котлом не сможем – все методы у нас работают с содержимым котла в `contents`."
   ]
  },
  {
   "cell_type": "code",
   "execution_count": 41,
   "metadata": {},
   "outputs": [],
   "source": [
    "class Cauldron:\n",
    "    \n",
    "    def __init__(self, size, material, contents=[]):\n",
    "        self.size = size\n",
    "        self.material = material\n",
    "        self.contents = contents\n",
    "    \n",
    "    def add(self, x):\n",
    "        self.contents.append(x)\n",
    "        \n",
    "    def engorgio(self):\n",
    "        self.size = 'huge'\n",
    "        self.contents = [s.upper() for s in self.contents]\n",
    "        print(\"Engorgio!\")\n",
    "        \n",
    "    def expulso(self):\n",
    "        self.contents = [list(s) for s in self.contents]\n",
    "        \n",
    "    def reparo(self):\n",
    "        if len(self.contents) != 0:\n",
    "            if type(self.contents[0]) is list:\n",
    "                self.contents = [\"\".join(s) for s in self.contents]\n",
    "    def colovaria(self, color):\n",
    "        self.color = color\n",
    "    \n",
    "    def evanesco(self):\n",
    "        del self.contents"
   ]
  },
  {
   "cell_type": "markdown",
   "metadata": {},
   "source": [
    "Проверяем:"
   ]
  },
  {
   "cell_type": "code",
   "execution_count": 42,
   "metadata": {},
   "outputs": [],
   "source": [
    "caul = Cauldron('medium', 'copper', ['dittany', 'ginger'])\n",
    "caul.evanesco()"
   ]
  },
  {
   "cell_type": "code",
   "execution_count": 43,
   "metadata": {},
   "outputs": [
    {
     "ename": "AttributeError",
     "evalue": "'Cauldron' object has no attribute 'contents'",
     "output_type": "error",
     "traceback": [
      "\u001b[0;31m---------------------------------------------------------------------------\u001b[0m",
      "\u001b[0;31mAttributeError\u001b[0m                            Traceback (most recent call last)",
      "\u001b[0;32m<ipython-input-43-71c0e9761fc7>\u001b[0m in \u001b[0;36m<module>\u001b[0;34m\u001b[0m\n\u001b[0;32m----> 1\u001b[0;31m \u001b[0mcaul\u001b[0m\u001b[0;34m.\u001b[0m\u001b[0mcontents\u001b[0m  \u001b[0;31m# нет contents\u001b[0m\u001b[0;34m\u001b[0m\u001b[0;34m\u001b[0m\u001b[0m\n\u001b[0m",
      "\u001b[0;31mAttributeError\u001b[0m: 'Cauldron' object has no attribute 'contents'"
     ]
    }
   ],
   "source": [
    "caul.contents  # нет contents"
   ]
  },
  {
   "cell_type": "code",
   "execution_count": 44,
   "metadata": {},
   "outputs": [
    {
     "ename": "AttributeError",
     "evalue": "'Cauldron' object has no attribute 'contents'",
     "output_type": "error",
     "traceback": [
      "\u001b[0;31m---------------------------------------------------------------------------\u001b[0m",
      "\u001b[0;31mAttributeError\u001b[0m                            Traceback (most recent call last)",
      "\u001b[0;32m<ipython-input-44-b2e7ade75814>\u001b[0m in \u001b[0;36m<module>\u001b[0;34m\u001b[0m\n\u001b[0;32m----> 1\u001b[0;31m \u001b[0mcaul\u001b[0m\u001b[0;34m.\u001b[0m\u001b[0mexpulso\u001b[0m\u001b[0;34m(\u001b[0m\u001b[0;34m)\u001b[0m \u001b[0;31m# разбивать нечего\u001b[0m\u001b[0;34m\u001b[0m\u001b[0;34m\u001b[0m\u001b[0m\n\u001b[0m",
      "\u001b[0;32m<ipython-input-41-48da0ff0e812>\u001b[0m in \u001b[0;36mexpulso\u001b[0;34m(self)\u001b[0m\n\u001b[1;32m     15\u001b[0m \u001b[0;34m\u001b[0m\u001b[0m\n\u001b[1;32m     16\u001b[0m     \u001b[0;32mdef\u001b[0m \u001b[0mexpulso\u001b[0m\u001b[0;34m(\u001b[0m\u001b[0mself\u001b[0m\u001b[0;34m)\u001b[0m\u001b[0;34m:\u001b[0m\u001b[0;34m\u001b[0m\u001b[0;34m\u001b[0m\u001b[0m\n\u001b[0;32m---> 17\u001b[0;31m         \u001b[0mself\u001b[0m\u001b[0;34m.\u001b[0m\u001b[0mcontents\u001b[0m \u001b[0;34m=\u001b[0m \u001b[0;34m[\u001b[0m\u001b[0mlist\u001b[0m\u001b[0;34m(\u001b[0m\u001b[0ms\u001b[0m\u001b[0;34m)\u001b[0m \u001b[0;32mfor\u001b[0m \u001b[0ms\u001b[0m \u001b[0;32min\u001b[0m \u001b[0mself\u001b[0m\u001b[0;34m.\u001b[0m\u001b[0mcontents\u001b[0m\u001b[0;34m]\u001b[0m\u001b[0;34m\u001b[0m\u001b[0;34m\u001b[0m\u001b[0m\n\u001b[0m\u001b[1;32m     18\u001b[0m \u001b[0;34m\u001b[0m\u001b[0m\n\u001b[1;32m     19\u001b[0m     \u001b[0;32mdef\u001b[0m \u001b[0mreparo\u001b[0m\u001b[0;34m(\u001b[0m\u001b[0mself\u001b[0m\u001b[0;34m)\u001b[0m\u001b[0;34m:\u001b[0m\u001b[0;34m\u001b[0m\u001b[0;34m\u001b[0m\u001b[0m\n",
      "\u001b[0;31mAttributeError\u001b[0m: 'Cauldron' object has no attribute 'contents'"
     ]
    }
   ],
   "source": [
    "caul.expulso() # разбивать нечего"
   ]
  },
  {
   "cell_type": "markdown",
   "metadata": {},
   "source": [
    "### Наследование в классах"
   ]
  },
  {
   "cell_type": "markdown",
   "metadata": {},
   "source": [
    "Наследование нужно, если мы хотим создать новый класс, но при этом не хотим определять все атрибуты и методы с нуля. Вместо этого мы можем унаследовать атрибуты и методы от какого-нибудь другого, уже существующего, класса, а потом добавить к ним новые. \n",
    "\n",
    "Наследование, кстати, объясняет, почему у объектов типа *pandas DataFrame*, *pandas Series* и *NumPy array* есть одинаковые методы: датафрейм *pandas* наследует некоторые методы от *Series*, а *Series*, в свою очередь, наследует часть атрибутов и методов у *array*. \n",
    "\n",
    "Давайте создадим класс `Cauldron_Pers`, который будет описывать не просто котёл, а чей-то личный котёл. Это класс унаследует у `Cauldron` все методы и атрибуты, а потом к ним мы добавим новые, например, имя владельца котла и его оценку за зелье. "
   ]
  },
  {
   "cell_type": "code",
   "execution_count": 45,
   "metadata": {},
   "outputs": [],
   "source": [
    "class Cauldron_Pers(Cauldron):\n",
    "    def __init__(self, size, material, contents=[]):\n",
    "        super().__init__(size, material, contents)"
   ]
  },
  {
   "cell_type": "markdown",
   "metadata": {},
   "source": [
    "Чтобы Python понимал, от какого класса мы наследуем атрибуты и методы, мы поместили название класса-родителя `Cauldron` (*parent class*, от которого наследуем) в скобки после названия дочернего класса `Cauldron_Pers` (*child class*). После этого мы записали функцию `__init__` для инициализации класса, а потом воспользовались функцией `super()`. Эта функция наследует все атрибуты и методы класса-родителя. Посмотрим, что получилось:"
   ]
  },
  {
   "cell_type": "code",
   "execution_count": 46,
   "metadata": {},
   "outputs": [
    {
     "data": {
      "text/plain": [
       "'medium'"
      ]
     },
     "execution_count": 46,
     "metadata": {},
     "output_type": "execute_result"
    }
   ],
   "source": [
    "my = Cauldron_Pers('medium', 'cooper')\n",
    "my.size # унаследовалось"
   ]
  },
  {
   "cell_type": "markdown",
   "metadata": {},
   "source": [
    "Теперь добавим новые атрибуты, как и задумывали. Имя владельца `owner` будет у нас обязательным аргументом, а для оценки `mark` выставим значение по умолчанию, равное `None`."
   ]
  },
  {
   "cell_type": "code",
   "execution_count": 47,
   "metadata": {},
   "outputs": [],
   "source": [
    "class Cauldron_Pers(Cauldron):\n",
    "    def __init__(self, size, material, owner, contents=[], mark=None):\n",
    "        super().__init__(size, material, contents)\n",
    "        self.owner = owner\n",
    "        self.mark = mark"
   ]
  },
  {
   "cell_type": "code",
   "execution_count": 49,
   "metadata": {},
   "outputs": [],
   "source": [
    "my = Cauldron_Pers('standard', 'copper', 'Alla')"
   ]
  },
  {
   "cell_type": "code",
   "execution_count": 50,
   "metadata": {},
   "outputs": [
    {
     "data": {
      "text/plain": [
       "'Alla'"
      ]
     },
     "execution_count": 50,
     "metadata": {},
     "output_type": "execute_result"
    }
   ],
   "source": [
    "my.owner  # работает"
   ]
  },
  {
   "cell_type": "code",
   "execution_count": 51,
   "metadata": {},
   "outputs": [],
   "source": [
    "my.mark  # ничего, так как None"
   ]
  },
  {
   "cell_type": "code",
   "execution_count": 55,
   "metadata": {},
   "outputs": [],
   "source": [
    "# если прогоним ячейку два раза, каждый ингредиент\n",
    "# добавится дважды\n",
    "\n",
    "my.add('dittany')\n",
    "my.add('lavender')"
   ]
  },
  {
   "cell_type": "code",
   "execution_count": 56,
   "metadata": {},
   "outputs": [],
   "source": [
    "my.expulso()  # даже взрывается"
   ]
  },
  {
   "cell_type": "code",
   "execution_count": 57,
   "metadata": {},
   "outputs": [
    {
     "data": {
      "text/plain": [
       "[['d', 'i', 't', 't', 'a', 'n', 'y'],\n",
       " ['l', 'a', 'v', 'e', 'n', 'd', 'e', 'r'],\n",
       " ['d', 'i', 't', 't', 'a', 'n', 'y'],\n",
       " ['l', 'a', 'v', 'e', 'n', 'd', 'e', 'r']]"
      ]
     },
     "execution_count": 57,
     "metadata": {},
     "output_type": "execute_result"
    }
   ],
   "source": [
    "my.contents"
   ]
  },
  {
   "cell_type": "markdown",
   "metadata": {},
   "source": [
    "Все методы из `Cauldron` работают. Добавим какой-нибудь характерный только для личного котла метод и закончим. Пусть это будет метод `.set_mark()` для выставления оценки."
   ]
  },
  {
   "cell_type": "code",
   "execution_count": 58,
   "metadata": {},
   "outputs": [],
   "source": [
    "class Cauldron_Pers(Cauldron):\n",
    "    def __init__(self, size, material, owner, contents=[], mark=None):\n",
    "        super().__init__(size, material, contents)\n",
    "        self.owner = owner\n",
    "        self.mark = mark\n",
    "        \n",
    "    def set_mark(self, m):\n",
    "        self.mark = m"
   ]
  },
  {
   "cell_type": "code",
   "execution_count": 59,
   "metadata": {},
   "outputs": [],
   "source": [
    "my = Cauldron_Pers('standard', 'copper', 'Alla')"
   ]
  },
  {
   "cell_type": "markdown",
   "metadata": {},
   "source": [
    "Было бы оптимистичным ожидать что-то хорошее за взорванный котёл с двумя ингредиентами, поэтому пусть будет так:"
   ]
  },
  {
   "cell_type": "code",
   "execution_count": 60,
   "metadata": {},
   "outputs": [],
   "source": [
    "my.set_mark(0)"
   ]
  },
  {
   "cell_type": "code",
   "execution_count": 61,
   "metadata": {},
   "outputs": [
    {
     "data": {
      "text/plain": [
       "0"
      ]
     },
     "execution_count": 61,
     "metadata": {},
     "output_type": "execute_result"
    }
   ],
   "source": [
    "my.mark"
   ]
  },
  {
   "cell_type": "markdown",
   "metadata": {},
   "source": [
    "**Важно:**  если мы создадим метод с таким же названием, что и унаследованный, то новый метод заменит старый. Например, если бы мы определили в `Cauldron_Pers` метод `.expulso()`, который бы записывал в `contents` значение `None`, этот метод бы вытеснил унаследованный `.expulso()`, разбивающий названия ингредиентов на буквы:"
   ]
  },
  {
   "cell_type": "code",
   "execution_count": 62,
   "metadata": {},
   "outputs": [],
   "source": [
    "class Cauldron_Pers(Cauldron):\n",
    "    def __init__(self, size, material, owner, contents=[], mark=None):\n",
    "        super().__init__(size, material, contents)\n",
    "        self.owner = owner\n",
    "        self.mark = mark\n",
    "        \n",
    "    def set_mark(self, m):\n",
    "        self.mark = m\n",
    "        \n",
    "    def expulso(self):\n",
    "        self.contents = None"
   ]
  },
  {
   "cell_type": "code",
   "execution_count": 65,
   "metadata": {},
   "outputs": [
    {
     "name": "stdout",
     "output_type": "stream",
     "text": [
      "None\n"
     ]
    }
   ],
   "source": [
    "my = Cauldron_Pers('standard', 'copper', 'Alla')\n",
    "my.add('fangs')\n",
    "my.expulso()\n",
    "print(my.contents)  # ничего - None"
   ]
  },
  {
   "cell_type": "markdown",
   "metadata": {},
   "source": [
    "### Документация к классам и методам\n",
    "\n",
    "Документация для классов пишется так же, как и документация к функциям, с помощью так называемой *docstring*:"
   ]
  },
  {
   "cell_type": "code",
   "execution_count": 66,
   "metadata": {},
   "outputs": [],
   "source": [
    "class Cauldron_Pers(Cauldron):\n",
    "    \n",
    "    def __init__(self, size, material, owner, contents=[], mark=None):\n",
    "        \"\"\"\n",
    "        Creates a personal cauldron with \n",
    "        the following attributes:\n",
    "        size – a string;\n",
    "        material – a string;\n",
    "        owner – a string;\n",
    "        contents – a list (contents = [] by default);\n",
    "        mark – an integer (mark = None by default).\n",
    "        \"\"\"\n",
    "        super().__init__(size, material, contents)\n",
    "        self.owner = owner\n",
    "        self.mark = mark\n",
    "        \n",
    "    def set_mark(self, m):\n",
    "        \"\"\"\n",
    "        Parameters: m is an integer\n",
    "        Changes attribute mark to m.\n",
    "        \"\"\"\n",
    "        self.mark = m\n",
    "        \n",
    "    def expulso(self):\n",
    "        self.contents = None"
   ]
  },
  {
   "cell_type": "markdown",
   "metadata": {},
   "source": [
    "Обратите внимание, общее описание внутри `__init__`.\n",
    "\n",
    "Запросим *help* по созданному нами классу и по методам внутри него."
   ]
  },
  {
   "cell_type": "code",
   "execution_count": 71,
   "metadata": {},
   "outputs": [
    {
     "name": "stdout",
     "output_type": "stream",
     "text": [
      "Help on class Cauldron_Pers in module __main__:\n",
      "\n",
      "class Cauldron_Pers(Cauldron)\n",
      " |  Cauldron_Pers(size, material, owner, contents=[], mark=None)\n",
      " |  \n",
      " |  Creates a personal cauldron with \n",
      " |  the following attributes:\n",
      " |  size – a string;\n",
      " |  material – a string;\n",
      " |  owner – a string;\n",
      " |  contents – a list (contents = [] by default);\n",
      " |  mark – an integer (mark = None by default).\n",
      " |  \n",
      " |  Method resolution order:\n",
      " |      Cauldron_Pers\n",
      " |      Cauldron\n",
      " |      builtins.object\n",
      " |  \n",
      " |  Methods defined here:\n",
      " |  \n",
      " |  __init__(self, size, material, owner, contents=[], mark=None)\n",
      " |      Initialize self.  See help(type(self)) for accurate signature.\n",
      " |  \n",
      " |  expulso(self)\n",
      " |  \n",
      " |  set_mark(self, m)\n",
      " |      Parameters: m is an integer.\n",
      " |      Changes attribute mark to m.\n",
      " |  \n",
      " |  ----------------------------------------------------------------------\n",
      " |  Methods inherited from Cauldron:\n",
      " |  \n",
      " |  add(self, x)\n",
      " |  \n",
      " |  colovaria(self, color)\n",
      " |  \n",
      " |  engorgio(self)\n",
      " |  \n",
      " |  evanesco(self)\n",
      " |  \n",
      " |  reparo(self)\n",
      " |  \n",
      " |  ----------------------------------------------------------------------\n",
      " |  Data descriptors inherited from Cauldron:\n",
      " |  \n",
      " |  __dict__\n",
      " |      dictionary for instance variables (if defined)\n",
      " |  \n",
      " |  __weakref__\n",
      " |      list of weak references to the object (if defined)\n",
      "\n"
     ]
    }
   ],
   "source": [
    "help(Cauldron_Pers)"
   ]
  },
  {
   "cell_type": "markdown",
   "metadata": {},
   "source": [
    "В документации есть наше описание, перечень методов, перечень методов, которые унаследованы у другого класса. \n",
    "\n",
    "При этом мы можем создать объект класса `Cauldron_Pers` и запросить помощь по отдельному методу:"
   ]
  },
  {
   "cell_type": "code",
   "execution_count": 72,
   "metadata": {},
   "outputs": [
    {
     "name": "stdout",
     "output_type": "stream",
     "text": [
      "Help on method set_mark in module __main__:\n",
      "\n",
      "set_mark(m) method of __main__.Cauldron_Pers instance\n",
      "    Parameters: m is an integer.\n",
      "    Changes attribute mark to m.\n",
      "\n"
     ]
    }
   ],
   "source": [
    "my = Cauldron_Pers('standard', 'copper', 'Alla')\n",
    "help(my.set_mark)"
   ]
  }
 ],
 "metadata": {
  "kernelspec": {
   "display_name": "Python 3",
   "language": "python",
   "name": "python3"
  },
  "language_info": {
   "codemirror_mode": {
    "name": "ipython",
    "version": 3
   },
   "file_extension": ".py",
   "mimetype": "text/x-python",
   "name": "python",
   "nbconvert_exporter": "python",
   "pygments_lexer": "ipython3",
   "version": "3.7.4"
  }
 },
 "nbformat": 4,
 "nbformat_minor": 2
}
