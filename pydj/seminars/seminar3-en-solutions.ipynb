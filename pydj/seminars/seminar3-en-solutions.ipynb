{
 "cells": [
  {
   "cell_type": "markdown",
   "metadata": {},
   "source": [
    "# Programming and Data Analysis\n",
    "\n",
    "*Alla Tambovtseva, NRU HSE*\n",
    "\n",
    "## Seminar 3: lists, loops, methods on strings"
   ]
  },
  {
   "cell_type": "markdown",
   "metadata": {},
   "source": [
    "### Part 1: lists and for-loops"
   ]
  },
  {
   "cell_type": "markdown",
   "metadata": {},
   "source": [
    "### Problem 1\n",
    "\n",
    "We have the list `L`:\n",
    "\n",
    "    L = [4, 8, 9, 0, 10, 12, 56, 6, 7]\n",
    "\n",
    "Write a program that asks a user to enter an index of an element in `L` and a new value of this element, and then replaces the element chosen with the new value. The list `L` should be changed.\n",
    "\n",
    "**Example:** a user entered numbers 3 and 100, and the list `L` changed: \n",
    "\n",
    "    L = [4, 8, 9, 100, 10, 12, 56, 6, 7]"
   ]
  },
  {
   "cell_type": "markdown",
   "metadata": {},
   "source": [
    "### Problem 2\n",
    "\n",
    "Write a program that asks a user to enter two numbers and returns a list of integers that lie between these two numbers.\n",
    "\n",
    "**Example:** a user enters 5 and 9, gets `[6, 7, 8]`. "
   ]
  },
  {
   "cell_type": "markdown",
   "metadata": {},
   "source": [
    "### Problem 3\n",
    "\n",
    "Write a program that asks a user to enter an integer $n$ and prints out a sum of squares of numbers from 0 to $n$. You should not create lists to solve this problem."
   ]
  },
  {
   "cell_type": "markdown",
   "metadata": {},
   "source": [
    "### Part 2: methods on strings"
   ]
  },
  {
   "cell_type": "markdown",
   "metadata": {},
   "source": [
    "### Problem 1\n",
    "\n",
    "Write a program that asks a user to enter his/her surname, first name and second name in one line with spaces and prints the following message:\n",
    "\n",
    "    Your surname:  surname\n",
    "    Your first name: first name\n",
    "    Your second name: second name\n",
    "\n",
    "**Example:**\n",
    "\n",
    "*Input:*\n",
    "\n",
    "    Enter your surname, first name and second name: Tambovtseva Alla Andreevna\n",
    "\n",
    "*Output:*\n",
    "\n",
    "    Your surname:  Tambovtseva\n",
    "    Your first name: Alla\n",
    "    Your second name: Andreevna"
   ]
  },
  {
   "cell_type": "markdown",
   "metadata": {},
   "source": [
    "### Problem 2\n",
    "\n",
    "Write a program that takes a string \"1; 2; 3; 100\" and returns:\n",
    "\n",
    "* a list of integers;\n",
    "* a list of floats."
   ]
  },
  {
   "cell_type": "markdown",
   "metadata": {},
   "source": [
    "### Problem 3\n",
    "\n",
    "Write a program that asks a user to enter a phone number with parts separated by dashes (-) and returns a number without dashes and spaces.\n",
    "\n",
    "*Input:*\n",
    "\n",
    "    8-900-123-45-67\n",
    "\n",
    "*Output:*\n",
    "\n",
    "    89001234567"
   ]
  },
  {
   "cell_type": "markdown",
   "metadata": {},
   "source": [
    "### Problem 4\n",
    "\n",
    "Write a program that takes the list of words\n",
    "\n",
    "    words = [\"Speak \",\"to\", \"me \", \"of\", \"Florence\" ,\"And \", \"of\", \"the\", \"Renaissance\"]\n",
    "\n",
    "and returns the following list:\n",
    "\n",
    "    words_clean = [\"speak\", \"to\", \"me\", \"of\", \"florence\", \"and\", \"of\", \"the\", \"renaissance\"]\n",
    "\n",
    "In other words, the program should delete extra spaces and makes all letters lowercase.\n",
    "\n",
    "**Hint:** ask `help()` for methods `.strip()` and `.lower()`."
   ]
  }
 ],
 "metadata": {
  "kernelspec": {
   "display_name": "Python 3",
   "language": "python",
   "name": "python3"
  },
  "language_info": {
   "codemirror_mode": {
    "name": "ipython",
    "version": 3
   },
   "file_extension": ".py",
   "mimetype": "text/x-python",
   "name": "python",
   "nbconvert_exporter": "python",
   "pygments_lexer": "ipython3",
   "version": "3.7.4"
  }
 },
 "nbformat": 4,
 "nbformat_minor": 2
}
