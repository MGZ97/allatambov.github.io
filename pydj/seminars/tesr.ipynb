{
 "cells": [
  {
   "cell_type": "markdown",
   "metadata": {},
   "source": [
    "1. Какой из циклов выведет ровно пять элементов? (Возможно несколько вариантов ответа)"
   ]
  },
  {
   "cell_type": "code",
   "execution_count": 2,
   "metadata": {
    "collapsed": true
   },
   "outputs": [
    {
     "name": "stdout",
     "output_type": "stream",
     "text": [
      "2\n",
      "3\n",
      "4\n",
      "5\n",
      "6\n",
      "\n",
      "\n",
      "4\n",
      "7\n",
      "3\n",
      "-1\n",
      "\n",
      "\n",
      "b\n",
      "f\n",
      "6\n",
      "name\n",
      "[1, 6, 8]\n",
      "\n",
      "\n",
      "m\n",
      "a\n",
      "m\n",
      "a\n",
      "m\n",
      "a\n",
      "m\n",
      "a\n",
      "m\n",
      "a\n"
     ]
    }
   ],
   "source": [
    "for i in range(2, 7):\n",
    "    print(i)\n",
    "    \n",
    "\n",
    "for b in [4, 7, 3, -1]:\n",
    "    print(b)\n",
    "    \n",
    "    \n",
    "m = ['b', 'f', 6, 'name', [1,6,8], 't', '8']\n",
    "for letter in m[:5]:\n",
    "    print(letter)\n",
    "    \n",
    "    \n",
    "for ma in 'ma'*5:\n",
    "    print(ma)"
   ]
  },
  {
   "cell_type": "code",
   "execution_count": 12,
   "metadata": {
    "collapsed": true
   },
   "outputs": [
    {
     "name": "stdout",
     "output_type": "stream",
     "text": [
      "7\n",
      "5\n",
      "4\n",
      "6\n",
      "7\n",
      "\n",
      "E\n",
      "l\n",
      "e\n",
      "o\n",
      "n\n",
      "o\n",
      "r\n",
      "\n",
      "4\n",
      "5\n",
      "6\n",
      "7\n",
      "8\n",
      "\n",
      "9\n",
      "5.7\n",
      "[1, 4]\n",
      "b\n",
      "6\n"
     ]
    }
   ],
   "source": [
    "n = [4, 6, 7]\n",
    "m = [7, 5]\n",
    "c = m + n\n",
    "for d in c:\n",
    "    print(d)\n",
    "    \n",
    "\n",
    "name = 'Eleonor'\n",
    "for letter in name:\n",
    "    print(letter)\n",
    "    \n",
    "\n",
    "for element in range(4, 9):\n",
    "    print(element)\n",
    "    \n",
    "    \n",
    "my_list = [7, 5, '9', 5.7, [1, 4], 'b', 6]\n",
    "for i in my_list[2:]:\n",
    "    print(i)"
   ]
  },
  {
   "cell_type": "markdown",
   "metadata": {},
   "source": [
    "2. В каком списке получится больше 4 элементов? (Возможно несколько вариантов ответа)"
   ]
  },
  {
   "cell_type": "code",
   "execution_count": 5,
   "metadata": {
    "collapsed": true
   },
   "outputs": [
    {
     "data": {
      "text/plain": [
       "([3, 6, 5, [3, 6]],\n",
       " [6, 5, 4, 3, 2],\n",
       " [5, 'f', 6, 6, 3],\n",
       " ['t', 6.7, 'letter', 5, 7])"
      ]
     },
     "execution_count": 5,
     "metadata": {},
     "output_type": "execute_result"
    }
   ],
   "source": [
    "k = [3, 6, 5]\n",
    "k.append([3, 6])\n",
    "\n",
    "\n",
    "l = list(range(6, 1, -1))\n",
    "\n",
    "\n",
    "m = [5, 'f', 6]\n",
    "m.extend([6, 3])\n",
    "\n",
    "\n",
    "n = ['t', 6.7, 'letter'] + [5, 7]"
   ]
  },
  {
   "cell_type": "code",
   "execution_count": 13,
   "metadata": {
    "collapsed": true
   },
   "outputs": [
    {
     "data": {
      "text/plain": [
       "([5, 'g', [6, 7], [5, 7]],\n",
       " ['d', [4, 5], 'l', 5],\n",
       " [6, 3, '5', 6, 'name'],\n",
       " [14, 15, 16, 17, 18])"
      ]
     },
     "execution_count": 13,
     "metadata": {},
     "output_type": "execute_result"
    }
   ],
   "source": [
    "k = [5, 'g', b]\n",
    "k.append([5, 7])\n",
    "\n",
    "\n",
    "l = ['d', [4, 5]] + ['l', 5]\n",
    "\n",
    "\n",
    "m = [5, 6, 3, '5', 6, 'name']\n",
    "m = m[1:]\n",
    "\n",
    "\n",
    "n = list(range(14, 19))"
   ]
  },
  {
   "cell_type": "markdown",
   "metadata": {},
   "source": [
    "3. Какое утверждение верно? (Возможно несколько вариантов ответа)"
   ]
  },
  {
   "cell_type": "markdown",
   "metadata": {},
   "source": [
    "1) И в срезах, и в функции `range` правый конец не включается\n",
    "\n",
    "2) В условных контрукциях с `if` строчки с `elif` не обязательны, а `else` требуется всегда\n",
    "\n",
    "3) Циклы могут находиться внутри условных конструкций и наоборот\n",
    "\n",
    "4) Количество элементов, которые может выдать функция `range`, на единицу меньше разности первых двух ее аргументов (то есть функция `range(4, 8)` может дать 3 элемента)\n",
    "\n",
    "5) Для списков метод `.extend()` и оператор сложения (`+`) дают одинаковый результат"
   ]
  },
  {
   "cell_type": "markdown",
   "metadata": {},
   "source": [
    "1) Метод `.append()` служит для присоединения одного элемента к списку, а `.extend()` -- сразу нескольких\n",
    "\n",
    "2) В условной конструкции с `if` может быть сколько угодно `elif` и `else`\n",
    "\n",
    "3) Копию списка можно получить, взяв срез, в котором не указано ни начало, ни конец (например, `m[:]`)\n",
    "\n",
    "4) Переменная в первой строчке цикла всегда должна называться `i`, с другим названием переменной цикл не заработает\n",
    "\n",
    "5) Условие в констуркции с `if` может быть сложным, тогда его части должны соединяться логическими операторами (`AND` или `OR`) "
   ]
  },
  {
   "cell_type": "markdown",
   "metadata": {},
   "source": [
    "4. Какой список получится в результате выполнения программы?"
   ]
  },
  {
   "cell_type": "code",
   "execution_count": 7,
   "metadata": {
    "collapsed": true
   },
   "outputs": [
    {
     "name": "stdout",
     "output_type": "stream",
     "text": [
      "[1, 5, 6, '7', 7, 9]\n"
     ]
    }
   ],
   "source": [
    "my_list = [1, 5, 6]\n",
    "\n",
    "if len(my_list) > 3:\n",
    "    my_list.append([3, '5'])\n",
    "else:\n",
    "    my_list.extend(['7', 7, 9])\n",
    "    \n",
    "print(my_list)"
   ]
  },
  {
   "cell_type": "code",
   "execution_count": 1,
   "metadata": {
    "collapsed": true
   },
   "outputs": [
    {
     "name": "stdout",
     "output_type": "stream",
     "text": [
      "['x', 'y', 'z', [1, 5]]\n"
     ]
    }
   ],
   "source": [
    "my_list = ['x', 'y', 'z']\n",
    "\n",
    "if my_list[-1] == 'y':\n",
    "    my_list[1] = 5\n",
    "else:\n",
    "    my_list.append([1, 5])\n",
    "    \n",
    "print(my_list)"
   ]
  },
  {
   "cell_type": "markdown",
   "metadata": {},
   "source": [
    "5. Какая цифра распечатается после выполнения программы (то есть какой из вариантов условия выполнится)?"
   ]
  },
  {
   "cell_type": "code",
   "execution_count": 8,
   "metadata": {
    "collapsed": true
   },
   "outputs": [
    {
     "name": "stdout",
     "output_type": "stream",
     "text": [
      "3\n"
     ]
    }
   ],
   "source": [
    "numbers = []\n",
    "\n",
    "for k in range(3, 9):\n",
    "    numbers.append(k)\n",
    "    \n",
    "if numbers[2] == 4:\n",
    "    print(1)\n",
    "elif len(numbers) == 5:\n",
    "    print(2)\n",
    "elif numbers[-1] == 8:\n",
    "    print(3)\n",
    "else:\n",
    "    print(4)"
   ]
  },
  {
   "cell_type": "code",
   "execution_count": 2,
   "metadata": {
    "collapsed": true
   },
   "outputs": [
    {
     "name": "stdout",
     "output_type": "stream",
     "text": [
      "4\n"
     ]
    }
   ],
   "source": [
    "numbers = []\n",
    "\n",
    "for k in [3, 't', 7, [2, 9]]:\n",
    "    numbers.append(k)\n",
    "\n",
    "if len(numbers) == 5:\n",
    "    print(1)\n",
    "elif numbers[-1] == 9:\n",
    "    print(2)\n",
    "elif numbers[1] == 3:\n",
    "    print(3)\n",
    "else:\n",
    "    print(4)"
   ]
  },
  {
   "cell_type": "markdown",
   "metadata": {},
   "source": [
    "6. Какой из вариантов кода распечатает список `[5, 6, 7]`?  (Возможно несколько вариантов ответа)"
   ]
  },
  {
   "cell_type": "code",
   "execution_count": 3,
   "metadata": {
    "collapsed": true
   },
   "outputs": [
    {
     "name": "stdout",
     "output_type": "stream",
     "text": [
      "[4, 5, 6]\n",
      "[6, 6, 7]\n",
      "[5, 6, 7, 8]\n",
      "[5, 6, 7]\n"
     ]
    }
   ],
   "source": [
    "print(list(range(4, 7)))\n",
    "\n",
    "\n",
    "a = [5, 6]\n",
    "b = [6, 7]\n",
    "c = a[1:2]+b\n",
    "print(c)\n",
    "\n",
    "\n",
    "m = [4, 5, 6, 7, 8, 9, 10]\n",
    "print(m[1:5])\n",
    "\n",
    "\n",
    "n = [6, 7]\n",
    "if n[0] == 6:\n",
    "    n = [5] + n\n",
    "else:\n",
    "    n[0] == 5 \n",
    "print(n)"
   ]
  },
  {
   "cell_type": "code",
   "execution_count": 4,
   "metadata": {},
   "outputs": [
    {
     "name": "stdout",
     "output_type": "stream",
     "text": [
      "[5, 6, 7]\n",
      "[5, 6, 7]\n",
      "[5, 6]\n",
      "[5, 6, 8, 7]\n"
     ]
    }
   ],
   "source": [
    "a = []\n",
    "for b in range(5, 8):\n",
    "    a.append(b)\n",
    "print(a)\n",
    "\n",
    "\n",
    "k = [5, 6]\n",
    "l = [7, 8, 9]\n",
    "c = k + l[:1]\n",
    "print(c)\n",
    "\n",
    "\n",
    "print(list(range(5, 7)))\n",
    "\n",
    "\n",
    "m = [5, 6, 8]\n",
    "if m[-1] == 6:\n",
    "    m[-1] == 7\n",
    "else:\n",
    "    m.append(7)\n",
    "print(m)"
   ]
  },
  {
   "cell_type": "markdown",
   "metadata": {},
   "source": [
    "7. Дан список `m`. Какой из вариантов кода распечатает цифру четыре?  (Возможно несколько вариантов ответа)"
   ]
  },
  {
   "cell_type": "code",
   "execution_count": 8,
   "metadata": {
    "collapsed": true
   },
   "outputs": [
    {
     "name": "stdout",
     "output_type": "stream",
     "text": [
      "3\n",
      "4\n",
      "4\n",
      "[4]\n"
     ]
    }
   ],
   "source": [
    "m=[3, 4, 4, 4, '4', 3, 6, 3, [3, 4, 6]]\n",
    "\n",
    "n = m.count(4)\n",
    "print(n)\n",
    "\n",
    "\n",
    "n = m[3]\n",
    "print(n)\n",
    "\n",
    "\n",
    "n = m[-1][1]\n",
    "print(n)\n",
    "\n",
    "\n",
    "n = m[2:3]\n",
    "print(n)"
   ]
  },
  {
   "cell_type": "code",
   "execution_count": 9,
   "metadata": {
    "collapsed": true
   },
   "outputs": [
    {
     "name": "stdout",
     "output_type": "stream",
     "text": [
      "3\n",
      "4\n",
      "[6]\n",
      "4\n"
     ]
    }
   ],
   "source": [
    "m = [4, 5, 6, 7, 6, 6, 4, [6, 5]]\n",
    "\n",
    "a = m.count(6)\n",
    "print(a)\n",
    "\n",
    "\n",
    "a = m[-2]\n",
    "print(a)\n",
    "\n",
    "\n",
    "a = m[2:3]\n",
    "print(a)\n",
    "\n",
    "\n",
    "if m[1] == 5:\n",
    "    a = 4\n",
    "else:\n",
    "    a = 5\n",
    "print(a)"
   ]
  }
 ],
 "metadata": {
  "kernelspec": {
   "display_name": "Python 3",
   "language": "python",
   "name": "python3"
  },
  "language_info": {
   "codemirror_mode": {
    "name": "ipython",
    "version": 3
   },
   "file_extension": ".py",
   "mimetype": "text/x-python",
   "name": "python",
   "nbconvert_exporter": "python",
   "pygments_lexer": "ipython3",
   "version": "3.7.4"
  }
 },
 "nbformat": 4,
 "nbformat_minor": 2
}
