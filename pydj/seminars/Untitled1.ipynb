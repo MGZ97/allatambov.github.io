{
 "cells": [
  {
   "cell_type": "code",
   "execution_count": 1,
   "metadata": {},
   "outputs": [
    {
     "name": "stdout",
     "output_type": "stream",
     "text": [
      "Enter an integer: 8\n",
      "Malo\n"
     ]
    }
   ],
   "source": [
    "x = int(input(\"Enter an integer: \"))\n",
    "\n",
    "if x > 10:\n",
    "    print(\"Mnogo\")\n",
    "else:\n",
    "    print(\"Malo\")"
   ]
  },
  {
   "cell_type": "code",
   "execution_count": 3,
   "metadata": {},
   "outputs": [
    {
     "name": "stdout",
     "output_type": "stream",
     "text": [
      "Norm\n"
     ]
    }
   ],
   "source": [
    "if x > 10:\n",
    "    print(\"Mnogo\") \n",
    "else:\n",
    "    if x > 5:\n",
    "        print(\"Norm\")\n",
    "    else: \n",
    "        print(\"Malo\") "
   ]
  },
  {
   "cell_type": "code",
   "execution_count": 4,
   "metadata": {},
   "outputs": [
    {
     "name": "stdout",
     "output_type": "stream",
     "text": [
      "Norm\n"
     ]
    }
   ],
   "source": [
    "if x > 10:\n",
    "    print(\"Mnogo\") \n",
    "elif x > 5:\n",
    "    print(\"Norm\")\n",
    "else:\n",
    "    print(\"Malo\")"
   ]
  },
  {
   "cell_type": "code",
   "execution_count": 5,
   "metadata": {},
   "outputs": [
    {
     "name": "stdout",
     "output_type": "stream",
     "text": [
      "Norm\n"
     ]
    }
   ],
   "source": [
    "if x > 10:\n",
    "    print(\"Mnogo\") \n",
    "if (x > 5) & (x <= 10):\n",
    "    print(\"Norm\")\n",
    "if (x <= 5):\n",
    "    print(\"Malo\") "
   ]
  },
  {
   "cell_type": "code",
   "execution_count": 6,
   "metadata": {},
   "outputs": [],
   "source": [
    "mark = 3"
   ]
  },
  {
   "cell_type": "code",
   "execution_count": 9,
   "metadata": {},
   "outputs": [
    {
     "name": "stdout",
     "output_type": "stream",
     "text": [
      "Это нормально\n"
     ]
    }
   ],
   "source": [
    "if (mark <= 10) & (mark > 0):\n",
    "    print(\"Это нормально\")\n",
    "elif mark == 10:\n",
    "    print(\"Отлично\")\n",
    "elif mark < 6:\n",
    "    print(\"Плохо\") "
   ]
  },
  {
   "cell_type": "code",
   "execution_count": 21,
   "metadata": {},
   "outputs": [],
   "source": [
    "grade = 6\n",
    "# 11 > grade >= 8 excellent\n",
    "# 5 < grade < 8 # good\n",
    "# 3 < grade < 6 # satisfactory\n",
    "# grade < 4 # bad"
   ]
  },
  {
   "cell_type": "code",
   "execution_count": 22,
   "metadata": {},
   "outputs": [
    {
     "name": "stdout",
     "output_type": "stream",
     "text": [
      "Good\n"
     ]
    }
   ],
   "source": [
    "if (grade < 11) & (grade >= 8):\n",
    "    print(\"Excellent\")\n",
    "elif grade >= 11:\n",
    "    print(\"Too much\")\n",
    "elif grade > 5:\n",
    "    print(\"Good\")\n",
    "elif grade > 3:\n",
    "    print(\"Satisfactory\")\n",
    "elif grade >= 0:\n",
    "    print(\"Bad\")\n",
    "else:\n",
    "    print(\"Negative mark!\")"
   ]
  },
  {
   "cell_type": "code",
   "execution_count": 27,
   "metadata": {},
   "outputs": [
    {
     "name": "stdout",
     "output_type": "stream",
     "text": [
      "Bad\n"
     ]
    }
   ],
   "source": [
    "grade = 3\n",
    "if (grade > 10) | (grade < 0):\n",
    "    print(\"Something strange\")\n",
    "if (grade > 7) & (grade <=10):\n",
    "    print(\"Excellent\")\n",
    "if (grade > 5) & (grade <= 7):\n",
    "    print(\"Good\")\n",
    "if grade < 5:\n",
    "    print(\"Bad\")"
   ]
  },
  {
   "cell_type": "code",
   "execution_count": 30,
   "metadata": {},
   "outputs": [
    {
     "name": "stdout",
     "output_type": "stream",
     "text": [
      "Something strange\n",
      "Bad\n"
     ]
    }
   ],
   "source": [
    "grade = 12\n",
    "if (grade > 10) | (grade < 0):\n",
    "    print(\"Something strange\")\n",
    "if (grade > 7) & (grade <=10):\n",
    "    print(\"Excellent\")\n",
    "if (grade > 5) & (grade <= 7):\n",
    "    print(\"Good\")\n",
    "else:\n",
    "    print(\"Bad\")"
   ]
  },
  {
   "cell_type": "code",
   "execution_count": 31,
   "metadata": {},
   "outputs": [],
   "source": [
    "nums = [1, 0, 9, 10, -1, 8] "
   ]
  },
  {
   "cell_type": "code",
   "execution_count": 33,
   "metadata": {},
   "outputs": [
    {
     "name": "stdout",
     "output_type": "stream",
     "text": [
      "1\n",
      "0\n",
      "9\n",
      "10\n"
     ]
    }
   ],
   "source": [
    "i = 0\n",
    "while nums[i] >= 0:\n",
    "    print(nums[i]) \n",
    "    i = i + 1"
   ]
  },
  {
   "cell_type": "code",
   "execution_count": 34,
   "metadata": {},
   "outputs": [
    {
     "name": "stdout",
     "output_type": "stream",
     "text": [
      "5\n",
      "20\n",
      "98\n",
      "56\n",
      "67\n"
     ]
    }
   ],
   "source": [
    "turnout = [5, 20, 98, 56, 67, 146, 34, 44] \n",
    "j = 0\n",
    "while turnout[j] < 100:\n",
    "    print(turnout[j])\n",
    "    j = j + 1"
   ]
  },
  {
   "cell_type": "code",
   "execution_count": 39,
   "metadata": {},
   "outputs": [
    {
     "name": "stdout",
     "output_type": "stream",
     "text": [
      "5\n",
      "20\n",
      "98\n",
      "56\n",
      "67\n"
     ]
    }
   ],
   "source": [
    "for t in turnout:\n",
    "    if t < 100:\n",
    "        print(t)\n",
    "    else:\n",
    "        break"
   ]
  },
  {
   "cell_type": "code",
   "execution_count": 40,
   "metadata": {},
   "outputs": [
    {
     "name": "stdout",
     "output_type": "stream",
     "text": [
      "5\n",
      "20\n",
      "98\n",
      "56\n",
      "67\n",
      "34\n",
      "44\n"
     ]
    }
   ],
   "source": [
    "for t in turnout:\n",
    "    if t < 100:\n",
    "        print(t)\n",
    "    else:\n",
    "        pass"
   ]
  },
  {
   "cell_type": "code",
   "execution_count": 41,
   "metadata": {},
   "outputs": [],
   "source": [
    "from random import randrange"
   ]
  },
  {
   "cell_type": "code",
   "execution_count": 47,
   "metadata": {},
   "outputs": [],
   "source": [
    "n = randrange(1, 101)  "
   ]
  },
  {
   "cell_type": "code",
   "execution_count": 48,
   "metadata": {},
   "outputs": [
    {
     "name": "stdout",
     "output_type": "stream",
     "text": [
      "Ваша попытка: 88\n",
      "Слишком большое число\n",
      "Ваша попытка: 56\n",
      "Слишком большое число\n",
      "Ваша попытка: 20\n",
      "Слишком маленькое число\n",
      "Ваша попытка: 32\n",
      "Слишком большое число\n",
      "Ваша попытка: 25\n",
      "Слишком маленькое число\n",
      "Ваша попытка: 27\n",
      "Слишком большое число\n",
      "Ваша попытка: 26\n",
      "Вы угадали!\n"
     ]
    }
   ],
   "source": [
    "while True:\n",
    "    guess = int(input(\"Ваша попытка: \"))\n",
    "    if guess == n:\n",
    "        print(\"Вы угадали!\")\n",
    "        break\n",
    "    elif guess > n:\n",
    "        print(\"Слишком большое число\")\n",
    "    else:\n",
    "        print(\"Слишком маленькое число\") "
   ]
  },
  {
   "cell_type": "code",
   "execution_count": 51,
   "metadata": {},
   "outputs": [
    {
     "name": "stdout",
     "output_type": "stream",
     "text": [
      "Введите положительное число: 8.4\n",
      "Молодец!\n"
     ]
    }
   ],
   "source": [
    "# 1\n",
    "k = float(input(\"Введите положительное число: \"))\n",
    "if k > 0:\n",
    "    print(\"Молодец!\")\n",
    "else:\n",
    "    print(\"Это не положительное число!\") "
   ]
  },
  {
   "cell_type": "code",
   "execution_count": 52,
   "metadata": {},
   "outputs": [
    {
     "name": "stdout",
     "output_type": "stream",
     "text": [
      "Введите два числа: 7.7 5\n"
     ]
    },
    {
     "data": {
      "text/plain": [
       "['7.7', '5']"
      ]
     },
     "execution_count": 52,
     "metadata": {},
     "output_type": "execute_result"
    }
   ],
   "source": [
    "# 2\n",
    "inp = input(\"Введите два числа: \") \n",
    "L = inp.split()\n",
    "L "
   ]
  },
  {
   "cell_type": "code",
   "execution_count": 53,
   "metadata": {},
   "outputs": [
    {
     "name": "stdout",
     "output_type": "stream",
     "text": [
      "7.7\n"
     ]
    }
   ],
   "source": [
    "if float(L[0]) > float(L[1]):\n",
    "    print(float(L[0]))\n",
    "else:\n",
    "    print(float(L[1])) "
   ]
  },
  {
   "cell_type": "code",
   "execution_count": 55,
   "metadata": {},
   "outputs": [
    {
     "data": {
      "text/plain": [
       "[7.7, 5.0]"
      ]
     },
     "execution_count": 55,
     "metadata": {},
     "output_type": "execute_result"
    }
   ],
   "source": [
    "L2 = [float(i) for i in L] \n",
    "L2"
   ]
  },
  {
   "cell_type": "code",
   "execution_count": 56,
   "metadata": {},
   "outputs": [],
   "source": [
    "L2 = []\n",
    "for i in L:\n",
    "    L2.append(float(i)) "
   ]
  },
  {
   "cell_type": "code",
   "execution_count": 57,
   "metadata": {},
   "outputs": [
    {
     "data": {
      "text/plain": [
       "1"
      ]
     },
     "execution_count": 57,
     "metadata": {},
     "output_type": "execute_result"
    }
   ],
   "source": [
    "5 % 2"
   ]
  },
  {
   "cell_type": "code",
   "execution_count": 58,
   "metadata": {},
   "outputs": [
    {
     "data": {
      "text/plain": [
       "0"
      ]
     },
     "execution_count": 58,
     "metadata": {},
     "output_type": "execute_result"
    }
   ],
   "source": [
    "8 % 2"
   ]
  },
  {
   "cell_type": "code",
   "execution_count": 59,
   "metadata": {},
   "outputs": [
    {
     "data": {
      "text/plain": [
       "0"
      ]
     },
     "execution_count": 59,
     "metadata": {},
     "output_type": "execute_result"
    }
   ],
   "source": [
    "0 % 2"
   ]
  },
  {
   "cell_type": "code",
   "execution_count": 60,
   "metadata": {},
   "outputs": [],
   "source": [
    "N = [9, 7, 4, 0, 2, 1, 3, 6] "
   ]
  },
  {
   "cell_type": "code",
   "execution_count": 61,
   "metadata": {},
   "outputs": [
    {
     "name": "stdout",
     "output_type": "stream",
     "text": [
      "9 Это нечетное число\n",
      "7 Это нечетное число\n",
      "4 Это четное число\n",
      "0 Это четное число\n",
      "2 Это четное число\n",
      "1 Это нечетное число\n",
      "3 Это нечетное число\n",
      "6 Это четное число\n"
     ]
    }
   ],
   "source": [
    "for n in N:\n",
    "    if n % 2 == 0:\n",
    "        print(n, \"Это четное число\")\n",
    "    else:\n",
    "        print(n, \"Это нечетное число\") "
   ]
  },
  {
   "cell_type": "code",
   "execution_count": 62,
   "metadata": {},
   "outputs": [],
   "source": [
    "favorites = [3, 7, 11, 23, 18, 48, 81] "
   ]
  },
  {
   "cell_type": "code",
   "execution_count": 63,
   "metadata": {},
   "outputs": [
    {
     "name": "stdout",
     "output_type": "stream",
     "text": [
      "Введите число: 5\n"
     ]
    }
   ],
   "source": [
    "num = int(input(\"Введите число: \")) "
   ]
  },
  {
   "cell_type": "code",
   "execution_count": 64,
   "metadata": {},
   "outputs": [
    {
     "name": "stdout",
     "output_type": "stream",
     "text": [
      "Эх, ну почему?\n"
     ]
    }
   ],
   "source": [
    "if num in favorites:\n",
    "    print(\"Мое любимое число!\")\n",
    "else:\n",
    "    print(\"Эх, ну почему?\") "
   ]
  },
  {
   "cell_type": "code",
   "execution_count": 66,
   "metadata": {},
   "outputs": [
    {
     "name": "stdout",
     "output_type": "stream",
     "text": [
      "Enter password: 12\n",
      "Try again\n",
      "Enter password: 123\n",
      "Try again\n",
      "Enter password: 12345\n",
      "Login success\n"
     ]
    }
   ],
   "source": [
    "password = \"12345\"\n",
    "while True:\n",
    "    guess = input(\"Enter password: \")\n",
    "    if guess == password:\n",
    "        print(\"Login success\")\n",
    "        break\n",
    "    else:\n",
    "        print(\"Try again\") "
   ]
  },
  {
   "cell_type": "code",
   "execution_count": 81,
   "metadata": {},
   "outputs": [
    {
     "data": {
      "text/plain": [
       "[2, 8, 4]"
      ]
     },
     "execution_count": 81,
     "metadata": {},
     "output_type": "execute_result"
    }
   ],
   "source": [
    "L =  [5, 2, 8, 4]\n",
    "L[1:]"
   ]
  },
  {
   "cell_type": "code",
   "execution_count": 82,
   "metadata": {},
   "outputs": [],
   "source": [
    "L[4:5] = [0, 1]"
   ]
  },
  {
   "cell_type": "code",
   "execution_count": 83,
   "metadata": {},
   "outputs": [
    {
     "data": {
      "text/plain": [
       "[5, 2, 8, 4, 0, 1]"
      ]
     },
     "execution_count": 83,
     "metadata": {},
     "output_type": "execute_result"
    }
   ],
   "source": [
    "L"
   ]
  },
  {
   "cell_type": "code",
   "execution_count": 91,
   "metadata": {},
   "outputs": [],
   "source": [
    "L =  [1, 8, 9, 7]"
   ]
  },
  {
   "cell_type": "code",
   "execution_count": 85,
   "metadata": {},
   "outputs": [],
   "source": [
    "L.extend([10, 12])"
   ]
  },
  {
   "cell_type": "code",
   "execution_count": 90,
   "metadata": {},
   "outputs": [
    {
     "data": {
      "text/plain": [
       "[1, 8, 9, 7, 10, 12, 10]"
      ]
     },
     "execution_count": 90,
     "metadata": {},
     "output_type": "execute_result"
    }
   ],
   "source": [
    "L"
   ]
  },
  {
   "cell_type": "code",
   "execution_count": 87,
   "metadata": {},
   "outputs": [
    {
     "data": {
      "text/plain": [
       "7"
      ]
     },
     "execution_count": 87,
     "metadata": {},
     "output_type": "execute_result"
    }
   ],
   "source": [
    "L[-3]"
   ]
  },
  {
   "cell_type": "code",
   "execution_count": 94,
   "metadata": {},
   "outputs": [],
   "source": [
    "L.extend([10])"
   ]
  },
  {
   "cell_type": "code",
   "execution_count": 95,
   "metadata": {},
   "outputs": [
    {
     "data": {
      "text/plain": [
       "[1, 8, 9, 7, 10]"
      ]
     },
     "execution_count": 95,
     "metadata": {},
     "output_type": "execute_result"
    }
   ],
   "source": [
    "L"
   ]
  },
  {
   "cell_type": "code",
   "execution_count": 96,
   "metadata": {},
   "outputs": [],
   "source": [
    "a = 4\n",
    "for i in [1, 2, 3]:\n",
    "    a = a * 2\n",
    "i = i - 1"
   ]
  },
  {
   "cell_type": "code",
   "execution_count": 97,
   "metadata": {},
   "outputs": [
    {
     "data": {
      "text/plain": [
       "32"
      ]
     },
     "execution_count": 97,
     "metadata": {},
     "output_type": "execute_result"
    }
   ],
   "source": [
    "a"
   ]
  },
  {
   "cell_type": "code",
   "execution_count": 98,
   "metadata": {},
   "outputs": [],
   "source": [
    "a = 4\n",
    "for i in range(0, 2):\n",
    "    a = a * 2\n",
    "a = a - 1"
   ]
  },
  {
   "cell_type": "code",
   "execution_count": 99,
   "metadata": {},
   "outputs": [
    {
     "data": {
      "text/plain": [
       "15"
      ]
     },
     "execution_count": 99,
     "metadata": {},
     "output_type": "execute_result"
    }
   ],
   "source": [
    "a"
   ]
  },
  {
   "cell_type": "code",
   "execution_count": null,
   "metadata": {},
   "outputs": [],
   "source": []
  }
 ],
 "metadata": {
  "kernelspec": {
   "display_name": "Python 3",
   "language": "python",
   "name": "python3"
  },
  "language_info": {
   "codemirror_mode": {
    "name": "ipython",
    "version": 3
   },
   "file_extension": ".py",
   "mimetype": "text/x-python",
   "name": "python",
   "nbconvert_exporter": "python",
   "pygments_lexer": "ipython3",
   "version": "3.7.4"
  }
 },
 "nbformat": 4,
 "nbformat_minor": 2
}
