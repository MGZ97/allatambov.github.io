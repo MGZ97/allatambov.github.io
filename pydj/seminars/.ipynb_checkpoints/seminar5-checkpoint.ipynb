{
 "cells": [
  {
   "cell_type": "markdown",
   "metadata": {},
   "source": [
    "# Программирование и анализ данных\n",
    "\n",
    "*Алла Тамбовцева, НИУ ВШЭ*\n",
    "\n",
    "## Семинар по темам: кортежи и словари"
   ]
  },
  {
   "cell_type": "markdown",
   "metadata": {},
   "source": [
    "### Задача 1\n",
    "\n",
    "Дан словарь с названиями разных рептилий:"
   ]
  },
  {
   "cell_type": "code",
   "execution_count": 4,
   "metadata": {},
   "outputs": [],
   "source": [
    "rept = {\"python\" : \" питон\", \n",
    "        \"anaconda\" : \"анаконда\", \n",
    "        \"tortoize\" : \" черепаха\" }"
   ]
  },
  {
   "cell_type": "markdown",
   "metadata": {},
   "source": [
    "* Добавьте в словарь пару \"snake\" - \" змея\".\n",
    "* Исправьте ключ \"tortoize\" на правильный \"tortoise\".\n",
    "* Выведите на экран сообщения вида\n",
    "\n",
    "    Питон по-английски будет python.\n",
    "\n",
    "для всех слов в словаре (сообщение для каждого слова ‒ с новой строчки)."
   ]
  },
  {
   "cell_type": "markdown",
   "metadata": {},
   "source": [
    "### Задача 2\n",
    "\n",
    "В списке `cnt` хранятся названия стран, а в списке `fh` – значения индекса Freedom House  для этих стран. Создайте словарь, используя в качестве ключей названия стран, а в качестве значений –  значения индекса."
   ]
  },
  {
   "cell_type": "code",
   "execution_count": 5,
   "metadata": {},
   "outputs": [],
   "source": [
    "cnt = [\"Andorra\", \"Belarus\", \"Denmark\", \"Kenya\", \"Jamaica\", \"Romania\"]\n",
    "fh = [1.0, 6.0, 1.0, 4.0, 2.5, 2.0]"
   ]
  },
  {
   "cell_type": "markdown",
   "metadata": {},
   "source": [
    "### Задача 8\n",
    "\n",
    "Дан список, состоящий из пар чисел:"
   ]
  },
  {
   "cell_type": "code",
   "execution_count": 6,
   "metadata": {},
   "outputs": [],
   "source": [
    "pairs = [(2, 4), (4, 6), (0, 1), (5, 2), (9, 1), (3, 8)]"
   ]
  },
  {
   "cell_type": "markdown",
   "metadata": {},
   "source": [
    "Создайте словарь `calc`, где ключами являются пары чисел, а значениями – их произведение (произведение тоже должно считаться в Python, не в уме)."
   ]
  }
 ],
 "metadata": {
  "kernelspec": {
   "display_name": "Python 3",
   "language": "python",
   "name": "python3"
  },
  "language_info": {
   "codemirror_mode": {
    "name": "ipython",
    "version": 3
   },
   "file_extension": ".py",
   "mimetype": "text/x-python",
   "name": "python",
   "nbconvert_exporter": "python",
   "pygments_lexer": "ipython3",
   "version": "3.7.4"
  }
 },
 "nbformat": 4,
 "nbformat_minor": 2
}
