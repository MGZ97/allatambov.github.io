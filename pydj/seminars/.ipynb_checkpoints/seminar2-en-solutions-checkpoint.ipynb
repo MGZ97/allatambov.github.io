{
 "cells": [
  {
   "cell_type": "markdown",
   "metadata": {},
   "source": [
    "# Programming and Data Analysis\n",
    "\n",
    "*Alla Tambovtseva, NRU HSE*\n",
    "\n",
    "\n",
    "## Seminar 2: lists"
   ]
  },
  {
   "cell_type": "markdown",
   "metadata": {},
   "source": [
    "### Problem 0\n",
    "\n",
    "There are two lists `a` and `b` (see below).\n",
    "    \n",
    "1. Print the first element of `a`, the third element of `a`, and the last element of `a`.\n",
    "2. Add to the list `b` a number 7 (just write to the end).\n",
    "3. Change the fifth element of the list `a` to 8.\n",
    "4. Create the list `merged`, that includes all the elements of `a` and of `b`.\n",
    "5. Create the list `c` that can be obtained by changing the last element of `a` to 100. The list `a` should not be changed!"
   ]
  },
  {
   "cell_type": "code",
   "execution_count": 1,
   "metadata": {},
   "outputs": [],
   "source": [
    "a = [1, 0, 9, 12, 18, 34, 89, 91, 33, 127]\n",
    "b = [2, 8, 9, 11, 76, 25, 44]"
   ]
  },
  {
   "cell_type": "code",
   "execution_count": 2,
   "metadata": {},
   "outputs": [
    {
     "name": "stdout",
     "output_type": "stream",
     "text": [
      "1 9 127\n"
     ]
    }
   ],
   "source": [
    "# 1\n",
    "print(a[0], a[2], a[-1])"
   ]
  },
  {
   "cell_type": "code",
   "execution_count": 3,
   "metadata": {},
   "outputs": [
    {
     "data": {
      "text/plain": [
       "[2, 8, 9, 11, 76, 25, 44, 7]"
      ]
     },
     "execution_count": 3,
     "metadata": {},
     "output_type": "execute_result"
    }
   ],
   "source": [
    "# 2\n",
    "b.append(7)\n",
    "b"
   ]
  },
  {
   "cell_type": "code",
   "execution_count": 4,
   "metadata": {},
   "outputs": [
    {
     "data": {
      "text/plain": [
       "[1, 0, 9, 12, 8, 34, 89, 91, 33, 127]"
      ]
     },
     "execution_count": 4,
     "metadata": {},
     "output_type": "execute_result"
    }
   ],
   "source": [
    "# 3\n",
    "a[4] = 8\n",
    "a"
   ]
  },
  {
   "cell_type": "code",
   "execution_count": 5,
   "metadata": {},
   "outputs": [
    {
     "data": {
      "text/plain": [
       "[1, 0, 9, 12, 8, 34, 89, 91, 33, 127, 2, 8, 9, 11, 76, 25, 44, 7]"
      ]
     },
     "execution_count": 5,
     "metadata": {},
     "output_type": "execute_result"
    }
   ],
   "source": [
    "# 4\n",
    "merged = a + b\n",
    "merged"
   ]
  },
  {
   "cell_type": "code",
   "execution_count": 6,
   "metadata": {},
   "outputs": [
    {
     "name": "stdout",
     "output_type": "stream",
     "text": [
      "[1, 0, 9, 12, 8, 34, 89, 91, 33, 127] [1, 0, 9, 12, 8, 34, 89, 91, 33, 100]\n"
     ]
    }
   ],
   "source": [
    "# 5\n",
    "c = a.copy()\n",
    "c[-1] = 100\n",
    "print(a, c)"
   ]
  },
  {
   "cell_type": "markdown",
   "metadata": {},
   "source": [
    "### Problem 1\n",
    "\n",
    "There is a list of names:"
   ]
  },
  {
   "cell_type": "code",
   "execution_count": 7,
   "metadata": {},
   "outputs": [],
   "source": [
    "girls = [\"Ivetta\", \"Violetta\", \"Cassandra\", \n",
    "         \"Viktoria\", \"Amelia\", \"Rose\", \"Elizabeth\"] "
   ]
  },
  {
   "cell_type": "markdown",
   "metadata": {},
   "source": [
    "Using `girls`, print the following lists:\n",
    "\n",
    "    [\"Violetta\", \"Cassandra\", \"Viktoria\", \"Amelia\"]\n",
    "    [\"Viktoria\", \"Amelia\", \"Rose\", \"Elizabeth\"]\n",
    "    [\"Ivetta\", \"Violetta\", \"Viktoria\", \"Amelia\"]\n",
    "    [\"Cassandra\", \"Amelia\", \"Rose\"]"
   ]
  },
  {
   "cell_type": "code",
   "execution_count": 8,
   "metadata": {},
   "outputs": [
    {
     "name": "stdout",
     "output_type": "stream",
     "text": [
      "['Violetta', 'Cassandra', 'Viktoria', 'Amelia']\n",
      "['Viktoria', 'Amelia', 'Rose', 'Elizabeth']\n",
      "['Ivetta', 'Violetta', 'Viktoria', 'Amelia']\n",
      "['Cassandra', 'Amelia', 'Rose']\n"
     ]
    }
   ],
   "source": [
    "print(girls[1:5])  # 1\n",
    "print(girls[3:])  # 2\n",
    "print(girls[0:2] + girls[3:5])  # 3\n",
    "print(girls[2:3] + girls[4:6])  # 4"
   ]
  },
  {
   "cell_type": "markdown",
   "metadata": {},
   "source": [
    "### Problem 2\n",
    "\n",
    "We have the list `L`. Print (one element from a new line): \n",
    "\n",
    "* all elements of `L`;\n",
    "* natural logarithms of elements of `L`."
   ]
  },
  {
   "cell_type": "code",
   "execution_count": 9,
   "metadata": {},
   "outputs": [],
   "source": [
    "L = [12, 3, 8, 125, 10, 98, 54, 199]"
   ]
  },
  {
   "cell_type": "markdown",
   "metadata": {},
   "source": [
    "Change the fifth element of `L` to 0. Do the same operations as above. Why do you get such results?"
   ]
  },
  {
   "cell_type": "code",
   "execution_count": 10,
   "metadata": {},
   "outputs": [
    {
     "name": "stdout",
     "output_type": "stream",
     "text": [
      "12\n",
      "3\n",
      "8\n",
      "125\n",
      "10\n",
      "98\n",
      "54\n",
      "199\n"
     ]
    }
   ],
   "source": [
    "# before adding 0 - all elements\n",
    "for i in L:\n",
    "    print(i)"
   ]
  },
  {
   "cell_type": "code",
   "execution_count": 11,
   "metadata": {},
   "outputs": [
    {
     "name": "stdout",
     "output_type": "stream",
     "text": [
      "2.4849066497880004\n",
      "1.0986122886681098\n",
      "2.0794415416798357\n",
      "4.8283137373023015\n",
      "2.302585092994046\n",
      "4.584967478670572\n",
      "3.9889840465642745\n",
      "5.293304824724492\n"
     ]
    }
   ],
   "source": [
    "# before adding 0 - logarithms\n",
    "import math\n",
    "for j in L:\n",
    "    print(math.log(j))"
   ]
  },
  {
   "cell_type": "code",
   "execution_count": 12,
   "metadata": {},
   "outputs": [
    {
     "name": "stdout",
     "output_type": "stream",
     "text": [
      "2.4849066497880004\n",
      "1.0986122886681098\n",
      "2.0794415416798357\n",
      "4.8283137373023015\n"
     ]
    },
    {
     "ename": "ValueError",
     "evalue": "math domain error",
     "output_type": "error",
     "traceback": [
      "\u001b[0;31m---------------------------------------------------------------------------\u001b[0m",
      "\u001b[0;31mValueError\u001b[0m                                Traceback (most recent call last)",
      "\u001b[0;32m<ipython-input-12-cb3b043b64a5>\u001b[0m in \u001b[0;36m<module>\u001b[0;34m\u001b[0m\n\u001b[1;32m      4\u001b[0m \u001b[0;34m\u001b[0m\u001b[0m\n\u001b[1;32m      5\u001b[0m \u001b[0;32mfor\u001b[0m \u001b[0mj\u001b[0m \u001b[0;32min\u001b[0m \u001b[0mL\u001b[0m\u001b[0;34m:\u001b[0m\u001b[0;34m\u001b[0m\u001b[0;34m\u001b[0m\u001b[0m\n\u001b[0;32m----> 6\u001b[0;31m     \u001b[0mprint\u001b[0m\u001b[0;34m(\u001b[0m\u001b[0mmath\u001b[0m\u001b[0;34m.\u001b[0m\u001b[0mlog\u001b[0m\u001b[0;34m(\u001b[0m\u001b[0mj\u001b[0m\u001b[0;34m)\u001b[0m\u001b[0;34m)\u001b[0m\u001b[0;34m\u001b[0m\u001b[0;34m\u001b[0m\u001b[0m\n\u001b[0m",
      "\u001b[0;31mValueError\u001b[0m: math domain error"
     ]
    }
   ],
   "source": [
    "# after adding 0 – logarithms\n",
    "L[4] = 0\n",
    "L\n",
    "\n",
    "for j in L:\n",
    "    print(math.log(j))"
   ]
  },
  {
   "cell_type": "markdown",
   "metadata": {},
   "source": [
    "We got an error because we cannot take the natural logarithm (or any logarithm) of a nonpositive number."
   ]
  },
  {
   "cell_type": "markdown",
   "metadata": {},
   "source": [
    "### Problem 3\n",
    "\n",
    "In the list `age` we store respondents' age: \n",
    "\n",
    "    age = [24, 35, 42, 27, 45, 48, 33]\n",
    "    \n",
    "Create the list `age2` with values of respondents' age squared.\n",
    "\n",
    "**Hint:** use a for-loop."
   ]
  },
  {
   "cell_type": "code",
   "execution_count": 13,
   "metadata": {},
   "outputs": [
    {
     "data": {
      "text/plain": [
       "[576, 1225, 1764, 729, 2025, 2304, 1089]"
      ]
     },
     "execution_count": 13,
     "metadata": {},
     "output_type": "execute_result"
    }
   ],
   "source": [
    "age = [24, 35, 42, 27, 45, 48, 33]\n",
    "age2 = []\n",
    "for a in age:\n",
    "    age2.append(a ** 2)\n",
    "age2"
   ]
  },
  {
   "cell_type": "code",
   "execution_count": 14,
   "metadata": {},
   "outputs": [
    {
     "data": {
      "text/plain": [
       "[576, 1225, 1764, 729, 2025, 2304, 1089]"
      ]
     },
     "execution_count": 14,
     "metadata": {},
     "output_type": "execute_result"
    }
   ],
   "source": [
    "# the same, but using list comprehensions\n",
    "age2 = [a**2 for a in age]\n",
    "age2"
   ]
  },
  {
   "cell_type": "markdown",
   "metadata": {},
   "source": [
    "### Problem 4\n",
    "\n",
    "Python asks a user to enter an integer number $k$ from 1 to 10. Python takes this value $k$ and prints the $k$-th element of the list `numbers`, assuming that the numeration starts from 1.  "
   ]
  },
  {
   "cell_type": "code",
   "execution_count": 15,
   "metadata": {},
   "outputs": [],
   "source": [
    "numbers = [1, 5, 6, 8, 10, 21, 25, 1, 0, -9, 9]"
   ]
  },
  {
   "cell_type": "markdown",
   "metadata": {},
   "source": [
    "**Example:**\n",
    "    \n",
    "*Input:*\n",
    "\n",
    "    Enter an integer from 1 to 10: 3\n",
    "    \n",
    "*Output:*\n",
    "\n",
    "    6"
   ]
  },
  {
   "cell_type": "code",
   "execution_count": 16,
   "metadata": {},
   "outputs": [
    {
     "name": "stdout",
     "output_type": "stream",
     "text": [
      "Enter a number: 3\n",
      "6\n"
     ]
    }
   ],
   "source": [
    "k = int(input(\"Enter a number: \"))\n",
    "print(numbers[k-1])"
   ]
  },
  {
   "cell_type": "markdown",
   "metadata": {},
   "source": [
    "### Problem 5\n",
    "\n",
    "Explain, what the following code does and why it returns such results:"
   ]
  },
  {
   "cell_type": "code",
   "execution_count": 17,
   "metadata": {},
   "outputs": [
    {
     "name": "stdout",
     "output_type": "stream",
     "text": [
      "5\n",
      "3\n",
      "5\n",
      "7\n"
     ]
    }
   ],
   "source": [
    "l = [1,2,3,4]\n",
    "\n",
    "for i in range(len(l)):\n",
    "    a = l[i] + l[i-1]\n",
    "    print(a)"
   ]
  },
  {
   "cell_type": "markdown",
   "metadata": {},
   "source": [
    "Let us discuss this code step by step. What is `range(len(l))`?"
   ]
  },
  {
   "cell_type": "code",
   "execution_count": 18,
   "metadata": {},
   "outputs": [
    {
     "data": {
      "text/plain": [
       "[0, 1, 2, 3]"
      ]
     },
     "execution_count": 18,
     "metadata": {},
     "output_type": "execute_result"
    }
   ],
   "source": [
    "list(range(len(l))) # indices of elements of l"
   ]
  },
  {
   "cell_type": "markdown",
   "metadata": {},
   "source": [
    "So, our for-loop iterates over indices of elements of `l`. Then `l[i]` is the i-th element of `l` and `l[i-1]` is the element that precedes i-th element. We add these two elements and save the result to `a`.\n",
    "\n",
    "If `i = 0`, we get `l[0]` and `l[-1]`. So, at the first step of a loop we add the first and the last element of a list.\n",
    "\n",
    "    1 + 4 = 5\n",
    "\n",
    "If `i = 1`, we get `l[1]` and `l[0]`. So, at the second step we add the second and the third element of a list.\n",
    "\n",
    "    2 + 1 = 3\n",
    "\n",
    "And so on."
   ]
  }
 ],
 "metadata": {
  "kernelspec": {
   "display_name": "Python 3",
   "language": "python",
   "name": "python3"
  },
  "language_info": {
   "codemirror_mode": {
    "name": "ipython",
    "version": 3
   },
   "file_extension": ".py",
   "mimetype": "text/x-python",
   "name": "python",
   "nbconvert_exporter": "python",
   "pygments_lexer": "ipython3",
   "version": "3.7.4"
  }
 },
 "nbformat": 4,
 "nbformat_minor": 2
}
