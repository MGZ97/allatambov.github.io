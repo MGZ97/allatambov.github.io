{
 "cells": [
  {
   "cell_type": "markdown",
   "metadata": {},
   "source": [
    "# Programming and Data Analysis\n",
    "\n",
    "*Alla Tambovtseva, NRU HSE*\n",
    "\n",
    "\n",
    "## Seminar 1\n",
    "\n",
    "*Note: a program here is a chunk of working code. For convenience you can regard a program as a cell with code.* \n",
    "\n"
   ]
  },
  {
   "cell_type": "markdown",
   "metadata": {},
   "source": [
    "### Problem 0\n",
    "\n",
    "Solve using Python:\n",
    "\n",
    "* $\\log(25)$, $\\log(\\exp(3))$, $\\log_{10}1000$;\n",
    "* $\\pi^3$, $123^4$; \n",
    "* $\\sqrt{459}$."
   ]
  },
  {
   "cell_type": "code",
   "execution_count": 1,
   "metadata": {},
   "outputs": [
    {
     "name": "stdout",
     "output_type": "stream",
     "text": [
      "3.2188758248682006\n",
      "3.0\n",
      "2.9999999999999996\n",
      "3.0\n",
      "31.006276680299816\n",
      "228886641\n",
      "21.42428528562855\n",
      "21.42428528562855\n"
     ]
    }
   ],
   "source": [
    "import math\n",
    "\n",
    "# part 1\n",
    "print(math.log(25))\n",
    "print(math.log(math.exp(3)))\n",
    "print(math.log(1000, 10))  \n",
    "print(math.log10(1000))  # alternative to the line above\n",
    "\n",
    "# part 2\n",
    "print(math.pi ** 3)\n",
    "print(123 ** 4)\n",
    "\n",
    "# part 3\n",
    "print(math.sqrt(459))\n",
    "print(459 ** 0.5)  # alternative to the line above"
   ]
  },
  {
   "cell_type": "markdown",
   "metadata": {},
   "source": [
    "### Problem 1\n",
    "\n",
    "In the variables `a` и `b` we store some numbers. Write a code that will swap the values of these variables. You can create new variables in this task.\n",
    "\n",
    "**Example:**"
   ]
  },
  {
   "cell_type": "code",
   "execution_count": 2,
   "metadata": {},
   "outputs": [],
   "source": [
    "# before\n",
    "a = 2\n",
    "b = 5"
   ]
  },
  {
   "cell_type": "code",
   "execution_count": 3,
   "metadata": {},
   "outputs": [
    {
     "name": "stdout",
     "output_type": "stream",
     "text": [
      "2\n",
      "5\n"
     ]
    }
   ],
   "source": [
    "# after\n",
    "print(a)\n",
    "print(b)"
   ]
  },
  {
   "cell_type": "code",
   "execution_count": 4,
   "metadata": {},
   "outputs": [
    {
     "name": "stdout",
     "output_type": "stream",
     "text": [
      "5\n",
      "2\n"
     ]
    }
   ],
   "source": [
    "c = a\n",
    "a = b\n",
    "b = c\n",
    "print(a)\n",
    "print(b)"
   ]
  },
  {
   "cell_type": "markdown",
   "metadata": {},
   "source": [
    "*Note:* we can do the same without creating `c`:"
   ]
  },
  {
   "cell_type": "code",
   "execution_count": 5,
   "metadata": {},
   "outputs": [
    {
     "name": "stdout",
     "output_type": "stream",
     "text": [
      "5 2\n"
     ]
    }
   ],
   "source": [
    "a = 2\n",
    "b = 5\n",
    "a, b = b, a\n",
    "print(a, b)"
   ]
  },
  {
   "cell_type": "markdown",
   "metadata": {},
   "source": [
    "### Problem 2\n",
    "\n",
    "Write a code that takes a natural logarithm of GDP that is stored in the variable `gdp` and rounds the result to two decimal places."
   ]
  },
  {
   "cell_type": "code",
   "execution_count": 6,
   "metadata": {},
   "outputs": [
    {
     "data": {
      "text/plain": [
       "15.32"
      ]
     },
     "execution_count": 6,
     "metadata": {},
     "output_type": "execute_result"
    }
   ],
   "source": [
    "gdp = 4500000\n",
    "log_gdp = round(math.log(gdp), 2) \n",
    "log_gdp"
   ]
  },
  {
   "cell_type": "markdown",
   "metadata": {},
   "source": [
    "### Problem 3\n",
    "\n",
    "In the variable `fh` we store the value of the political freedom index (provided by *Freedom House*) and in the variable `p`\n",
    "we store the value of another index Polity IV. Write a code that will calculate the value of a new index `Freedom`:\n",
    "\n",
    "$$\n",
    "\\text{Freedom} = 0.4 \\cdot \\text{Freedom House} + 0.6 \\cdot \\text{Polity IV}\n",
    "$$"
   ]
  },
  {
   "cell_type": "code",
   "execution_count": 7,
   "metadata": {},
   "outputs": [
    {
     "name": "stdout",
     "output_type": "stream",
     "text": [
      "4.4\n"
     ]
    }
   ],
   "source": [
    "fh = 8\n",
    "p = 2\n",
    "Freedom = 0.4 * 8 + 0.6 * 2\n",
    "print(Freedom)"
   ]
  },
  {
   "cell_type": "markdown",
   "metadata": {},
   "source": [
    "### Problem 4\n",
    "\n",
    "When the spring came, a python decided to do sunbathing every day. However, he knew that the sun is very active in spring, so it is dangerous to spend a lot of time on the sun. He developed the following scheme: on the first day he should spend one minute outside, on the second day – four minutes, on the third day – seven minutes, and so on. So, he should increase the time spent outside by three minutes every day. \n",
    "\n",
    "Write a code that will allow to calculate how many minutes the python would spend on sunbathing every day\n",
    "\n",
    "*Note:* your code should print the number of a day and the number of minutes. You should not use loops here, but you can run a cell with your code many times. "
   ]
  },
  {
   "cell_type": "code",
   "execution_count": 8,
   "metadata": {},
   "outputs": [],
   "source": [
    "# solution 1 – run the next cell several times\n",
    "i = 1\n",
    "day = 1"
   ]
  },
  {
   "cell_type": "code",
   "execution_count": 9,
   "metadata": {},
   "outputs": [
    {
     "name": "stdout",
     "output_type": "stream",
     "text": [
      "2 4\n"
     ]
    }
   ],
   "source": [
    "i = i + 1\n",
    "day = day + 3\n",
    "print(i, day) "
   ]
  },
  {
   "cell_type": "code",
   "execution_count": 10,
   "metadata": {},
   "outputs": [
    {
     "name": "stdout",
     "output_type": "stream",
     "text": [
      "Enter day number: 5\n",
      "13\n"
     ]
    }
   ],
   "source": [
    "# solution 2 – ask for a number of a day\n",
    "n = int(input(\"Enter day number: \"))\n",
    "res = 1 + 3 * (n - 1)\n",
    "print(res)"
   ]
  },
  {
   "cell_type": "markdown",
   "metadata": {},
   "source": [
    "### Problem 5\n",
    "\n",
    "Write a code that asks a user to enter his/her name and surname and print out the following message:"
   ]
  },
  {
   "cell_type": "markdown",
   "metadata": {},
   "source": [
    "```Name Surname```, welcome!"
   ]
  },
  {
   "cell_type": "code",
   "execution_count": 11,
   "metadata": {},
   "outputs": [
    {
     "name": "stdout",
     "output_type": "stream",
     "text": [
      "Enter name: Alla\n",
      "Enter surname: T\n"
     ]
    }
   ],
   "source": [
    "name = input(\"Enter name: \")\n",
    "surname = input(\"Enter surname: \")"
   ]
  },
  {
   "cell_type": "code",
   "execution_count": 12,
   "metadata": {},
   "outputs": [
    {
     "name": "stdout",
     "output_type": "stream",
     "text": [
      "Alla T, welcome!\n"
     ]
    }
   ],
   "source": [
    "# solution 1 – no special string formatting\n",
    "print(name, \" \", surname, \", welcome!\", sep=\"\")"
   ]
  },
  {
   "cell_type": "code",
   "execution_count": 13,
   "metadata": {},
   "outputs": [
    {
     "name": "stdout",
     "output_type": "stream",
     "text": [
      "Alla T, welcome!\n"
     ]
    }
   ],
   "source": [
    "# solution 2 – with f-strings\n",
    "print(f\"{name} {surname}, welcome!\")"
   ]
  },
  {
   "cell_type": "code",
   "execution_count": 14,
   "metadata": {},
   "outputs": [
    {
     "name": "stdout",
     "output_type": "stream",
     "text": [
      "Alla T, welcome!\n"
     ]
    }
   ],
   "source": [
    "# solution 3 – with 'classical' string formatting\n",
    "print(\"%s %s, welcome!\" %(name, surname))"
   ]
  },
  {
   "cell_type": "markdown",
   "metadata": {},
   "source": [
    "### Problem 6\n",
    "\n",
    "Write a code that asks a user to enter his/her height in centimeters and his/her weight in kilos (one value per line) and prints out the message like this:\n",
    "\n",
    "    Body mass index: [value].\n",
    "    \n",
    "where instead of `[value]` we put the estimated value of Body mass index. \n",
    "\n",
    "Body mass index is calculated in the following way:\n",
    "\n",
    "$$\n",
    "\\text{BMI} = \\text{m} / \\text{h}^2, \n",
    "$$\n",
    "\n",
    "where `m` is the person's weight, `h` is the person's height *in meters*."
   ]
  },
  {
   "cell_type": "code",
   "execution_count": 15,
   "metadata": {},
   "outputs": [
    {
     "name": "stdout",
     "output_type": "stream",
     "text": [
      "Enter your height: 168\n",
      "Enter your weight: 56\n"
     ]
    }
   ],
   "source": [
    "height = int(input(\"Enter your height: \"))\n",
    "weight = int(input(\"Enter your weight: \"))\n",
    "bmi = weight / (height / 100) ** 2"
   ]
  },
  {
   "cell_type": "code",
   "execution_count": 24,
   "metadata": {},
   "outputs": [
    {
     "name": "stdout",
     "output_type": "stream",
     "text": [
      "Индекс массы тела: 19.841269841269845.\n"
     ]
    }
   ],
   "source": [
    "# solution 1 – no special string formatting\n",
    "print(\"Индекс массы тела: \", bmi, \".\", sep=\"\")"
   ]
  },
  {
   "cell_type": "code",
   "execution_count": 25,
   "metadata": {},
   "outputs": [
    {
     "name": "stdout",
     "output_type": "stream",
     "text": [
      "Индекс массы тела: 19.841269841269845.\n"
     ]
    }
   ],
   "source": [
    "# solution 2 – with f-strings\n",
    "print(f\"Индекс массы тела: {bmi}.\")"
   ]
  },
  {
   "cell_type": "code",
   "execution_count": 26,
   "metadata": {},
   "outputs": [
    {
     "name": "stdout",
     "output_type": "stream",
     "text": [
      "Индекс массы тела: 19.841270.\n"
     ]
    }
   ],
   "source": [
    "# solution 3 – with 'classical' string formatting\n",
    "print(\"Индекс массы тела: %f.\" %bmi)"
   ]
  }
 ],
 "metadata": {
  "kernelspec": {
   "display_name": "Python 3",
   "language": "python",
   "name": "python3"
  },
  "language_info": {
   "codemirror_mode": {
    "name": "ipython",
    "version": 3
   },
   "file_extension": ".py",
   "mimetype": "text/x-python",
   "name": "python",
   "nbconvert_exporter": "python",
   "pygments_lexer": "ipython3",
   "version": "3.7.4"
  }
 },
 "nbformat": 4,
 "nbformat_minor": 2
}
