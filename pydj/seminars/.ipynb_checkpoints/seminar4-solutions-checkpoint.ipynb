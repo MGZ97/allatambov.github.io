{
 "cells": [
  {
   "cell_type": "markdown",
   "metadata": {},
   "source": [
    "## Программирование и анализ данных\n",
    "\n",
    "*Алла Тамбовцева, НИУ ВШЭ*\n",
    "\n",
    "## Семинар 4: условные конструкции и цикл `while`"
   ]
  },
  {
   "cell_type": "markdown",
   "metadata": {},
   "source": [
    "### Задача 1\n",
    "Напишите программу, которая просит пользователя ввести положительное число, и если пользователь вводит положительное число, выводит на экран сообщение \"Молодец!\", если нет – \"Это не положительное число.\".\n",
    "\n",
    "Считайте, что пользователь в любом случае вводит числа, а не какой-то текст."
   ]
  },
  {
   "cell_type": "code",
   "execution_count": 1,
   "metadata": {},
   "outputs": [
    {
     "name": "stdout",
     "output_type": "stream",
     "text": [
      "Enter a number: 8.9\n",
      "Молодец!\n"
     ]
    }
   ],
   "source": [
    "# float – так как число необязательно должно быть целым\n",
    "x = float(input(\"Enter a number: \"))\n",
    "if x > 0:\n",
    "    print(\"Молодец!\")\n",
    "else:\n",
    "    print(\"Это не положительное число.\")"
   ]
  },
  {
   "cell_type": "markdown",
   "metadata": {},
   "source": [
    "### Задача 2\n",
    "\n",
    "Пользователь вводит с клавиатуры два числа через пробел. Напишите код, который возвращает максимальное из двух введенных значений. \n",
    "\n",
    "**Пример: **\n",
    "\n",
    "Ввод: \n",
    "\n",
    "    Введите два числа: 5.7 8\n",
    "    \n",
    "Вывод: \n",
    "\n",
    "    8"
   ]
  },
  {
   "cell_type": "code",
   "execution_count": 2,
   "metadata": {},
   "outputs": [
    {
     "name": "stdout",
     "output_type": "stream",
     "text": [
      "Enter two numbers: 4 6.9\n",
      "6.9\n"
     ]
    }
   ],
   "source": [
    "# решение 1\n",
    "\n",
    "inp = input(\"Enter two numbers: \")\n",
    "L = inp.split()\n",
    "\n",
    "# float необходим, так как сравнивать должны числа, не строки\n",
    "if float(L[0]) > float(L[1]):\n",
    "    print(L[0])\n",
    "else:\n",
    "    print(L[1])"
   ]
  },
  {
   "cell_type": "code",
   "execution_count": 3,
   "metadata": {},
   "outputs": [
    {
     "name": "stdout",
     "output_type": "stream",
     "text": [
      "Enter two numbers: 7 1.2\n",
      "7.0\n"
     ]
    }
   ],
   "source": [
    "# решение 2\n",
    "\n",
    "inp = input(\"Enter two numbers: \")\n",
    "L = inp.split()\n",
    "\n",
    "nums = []\n",
    "for i in L:\n",
    "    nums.append(float(i))\n",
    "    \n",
    "if nums[0] > nums[1]:\n",
    "    print(nums[0])\n",
    "else:\n",
    "    print(nums[1]) "
   ]
  },
  {
   "cell_type": "markdown",
   "metadata": {},
   "source": [
    "*Дополнение: почему сравнивать строки, в которых сохранены числа, некорректно (даже если иногда работает правильно)*\n",
    "\n",
    "Python сравнивает строки посимвольно. Например, если мы попытаемся понять, какое слово «больше», `apple` или `banana`, мы увидим, что второе больше, так как первый символ – буква `b` – стоит дальше в алфавите. "
   ]
  },
  {
   "cell_type": "code",
   "execution_count": 4,
   "metadata": {},
   "outputs": [
    {
     "data": {
      "text/plain": [
       "True"
      ]
     },
     "execution_count": 4,
     "metadata": {},
     "output_type": "execute_result"
    }
   ],
   "source": [
    "'apple' < 'banana'"
   ]
  },
  {
   "cell_type": "markdown",
   "metadata": {},
   "source": [
    "Если мы сравним строки, состоящие из одной цифры, все будет логично:"
   ]
  },
  {
   "cell_type": "code",
   "execution_count": 5,
   "metadata": {},
   "outputs": [
    {
     "data": {
      "text/plain": [
       "False"
      ]
     },
     "execution_count": 5,
     "metadata": {},
     "output_type": "execute_result"
    }
   ],
   "source": [
    "'2' > '9'"
   ]
  },
  {
   "cell_type": "markdown",
   "metadata": {},
   "source": [
    "А если попытаемся сравнить строки `'11'` и `'100`, получим что-то странное:"
   ]
  },
  {
   "cell_type": "code",
   "execution_count": 6,
   "metadata": {},
   "outputs": [
    {
     "data": {
      "text/plain": [
       "True"
      ]
     },
     "execution_count": 6,
     "metadata": {},
     "output_type": "execute_result"
    }
   ],
   "source": [
    "'11' > '100'"
   ]
  },
  {
   "cell_type": "markdown",
   "metadata": {},
   "source": [
    "Почему строка `'11'` оказалась больше `'100'`? Потому что Python сравнивает строки посимвольно. На первом месте в обеих строках стоит 1, на втором месте в первой строке стоит 1, а во второй – 0. Число 1 больше, чем 0, поэтому строка `'11'` оказалась больше строки `'100'`."
   ]
  },
  {
   "cell_type": "markdown",
   "metadata": {},
   "source": [
    "### Задача 3\n",
    "\n",
    "Дан список `N` из целых чисел. Напишите код, который делает следующее: выводит каждый элемент списка на экран и для каждого элемента либо выводит комментарий \"Это четное число\", либо комментарии \"Это нечетное число\".\n",
    "\n",
    "*Подсказка:* оператор для нахождения остатка от деления – это `%`."
   ]
  },
  {
   "cell_type": "code",
   "execution_count": 7,
   "metadata": {},
   "outputs": [
    {
     "name": "stdout",
     "output_type": "stream",
     "text": [
      "5 Это нечетное число\n",
      "7 Это нечетное число\n",
      "8 Это четное число\n",
      "4 Это четное число\n",
      "3 Это нечетное число\n",
      "2 Это четное число\n",
      "0 Это четное число\n",
      "-1 Это нечетное число\n"
     ]
    }
   ],
   "source": [
    "N = [5, 7, 8, 4, 3, 2, 0, -1] \n",
    "for n in N:\n",
    "    if n % 2 == 0:\n",
    "        print(n, \"Это четное число\")\n",
    "    else:\n",
    "        print(n, \"Это нечетное число\")"
   ]
  },
  {
   "cell_type": "markdown",
   "metadata": {},
   "source": [
    "### Задача 4\n",
    "\n",
    "У питона есть набор любимых чисел.\n",
    "\n",
    "    favorites = [3, 7, 11, 23, 18, 48, 81]\n",
    "\n",
    "Напишите программу, которая просит пользователя ввести целое число, и если оно нравится питону, на экран будет выводиться сообщение: \"Мое любимое число!\", если нет ‒ \"Эх, ну почему?\"."
   ]
  },
  {
   "cell_type": "code",
   "execution_count": 8,
   "metadata": {},
   "outputs": [
    {
     "name": "stdout",
     "output_type": "stream",
     "text": [
      "Enter an integer: 7\n",
      "Мое любимое число!\n"
     ]
    }
   ],
   "source": [
    "favorites = [3, 7, 11, 23, 18, 48, 81]\n",
    "k = int(input(\"Enter an integer: \"))\n",
    "\n",
    "if k in favorites:\n",
    "    print(\"Мое любимое число!\")\n",
    "else:\n",
    "    print(\"Эх, ну почему?\") "
   ]
  },
  {
   "cell_type": "code",
   "execution_count": 9,
   "metadata": {},
   "outputs": [
    {
     "name": "stdout",
     "output_type": "stream",
     "text": [
      "Enter an integer: 4\n",
      "Эх, ну почему?\n"
     ]
    }
   ],
   "source": [
    "# альтернативное решение, если забыли про оператор in\n",
    "favorites = [3, 7, 11, 23, 18, 48, 81]\n",
    "k = int(input(\"Enter an integer: \"))\n",
    "\n",
    "# считаем число вхождений k в список favorites\n",
    "if favorites.count(k) > 0:\n",
    "    print(\"Мое любимое число!\")\n",
    "else:\n",
    "    print(\"Эх, ну почему?\")"
   ]
  },
  {
   "cell_type": "markdown",
   "metadata": {},
   "source": [
    "### Задача 5\n",
    "Напишите программу, которая запрашивает у пользователя пароль, и далее:\n",
    "\n",
    "* если пароль верный, выводит на экран сообщение \"Login success\".\n",
    "* если пароль неверный, выводит на экран сообщение \"Incorrect password, try again!\" до тех пор, пока пользователь не введет верный пароль."
   ]
  },
  {
   "cell_type": "code",
   "execution_count": 10,
   "metadata": {},
   "outputs": [
    {
     "name": "stdout",
     "output_type": "stream",
     "text": [
      "Enter your password: pass\n",
      "Incorrect password, try again!\n",
      "Enter your password: hse\n",
      "Incorrect password, try again!\n",
      "Enter your password: hsepassword\n",
      "Login success\n"
     ]
    }
   ],
   "source": [
    "# решение, аналогичное «угадайке»\n",
    "password = \"hsepassword\"\n",
    "\n",
    "while True:\n",
    "    attempt = input(\"Enter your password: \")\n",
    "    if attempt == password:\n",
    "        print(\"Login success\")\n",
    "        break\n",
    "    else:\n",
    "        print(\"Incorrect password, try again!\") "
   ]
  },
  {
   "cell_type": "code",
   "execution_count": 11,
   "metadata": {},
   "outputs": [
    {
     "name": "stdout",
     "output_type": "stream",
     "text": [
      "Enter your password: hse\n",
      "Incorrect password, try again!\n",
      "Enter your password: hsepasswor\n",
      "Incorrect password, try again!\n",
      "Enter your password: hsepassword\n",
      "Login success\n"
     ]
    }
   ],
   "source": [
    "# тоже решение с while, но без True,  \n",
    "# с обычным условием\n",
    "\n",
    "password = \"hsepassword\"\n",
    "attempt = input(\"Enter your password: \")\n",
    "\n",
    "while attempt != password:\n",
    "    print(\"Incorrect password, try again!\")\n",
    "    attempt = input(\"Enter your password: \")\n",
    "print(\"Login success\") "
   ]
  },
  {
   "cell_type": "markdown",
   "metadata": {},
   "source": [
    "*Дополнительно: на семинаре возник вопрос о том, как быть, если нужно добавить ограничение на число попыток. Всё просто – нужен цикл for, так как мы заранее знаем, сколько раз должен выполнится цикл (сами фиксируем число попыток).*"
   ]
  },
  {
   "cell_type": "code",
   "execution_count": 14,
   "metadata": {},
   "outputs": [
    {
     "name": "stdout",
     "output_type": "stream",
     "text": [
      "Enter your password: hse\n",
      "Incorrect password, try again!\n",
      "Enter your password: hse\n",
      "Incorrect password, try again!\n",
      "Enter your password: HSE\n",
      "Incorrect password, try again!\n"
     ]
    }
   ],
   "source": [
    "password = \"hsepassword\"\n",
    "\n",
    "# даем 3 попытки\n",
    "for i in range(0, 3):\n",
    "    attempt = input(\"Enter your password: \")\n",
    "    if attempt == password:\n",
    "        print(\"Login success\")\n",
    "        break\n",
    "    else:\n",
    "        print(\"Incorrect password, try again!\") "
   ]
  }
 ],
 "metadata": {
  "kernelspec": {
   "display_name": "Python 3",
   "language": "python",
   "name": "python3"
  },
  "language_info": {
   "codemirror_mode": {
    "name": "ipython",
    "version": 3
   },
   "file_extension": ".py",
   "mimetype": "text/x-python",
   "name": "python",
   "nbconvert_exporter": "python",
   "pygments_lexer": "ipython3",
   "version": "3.7.4"
  }
 },
 "nbformat": 4,
 "nbformat_minor": 2
}
