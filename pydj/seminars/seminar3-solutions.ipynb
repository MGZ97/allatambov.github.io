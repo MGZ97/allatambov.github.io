{
 "cells": [
  {
   "cell_type": "markdown",
   "metadata": {},
   "source": [
    "## Программирование и анализ данных\n",
    "\n",
    "*Алла Тамбовцева, НИУ ВШЭ*\n",
    "\n",
    "## Семинар 3: списки, циклы, методы на строках"
   ]
  },
  {
   "cell_type": "markdown",
   "metadata": {},
   "source": [
    "### Часть 1: списки и цикл for"
   ]
  },
  {
   "cell_type": "markdown",
   "metadata": {},
   "source": [
    "### Задача 1\n",
    "\n",
    "Дан список `L`:\n",
    "\n",
    "    L = [4, 8, 9, 0, 10, 12, 56, 6, 7]\n",
    "\n",
    "Напишите программу, которая запрашивает у пользователя с клавиатуры индекс элемента в списке `L`, новое значение этого элемента, а потом заменяет старое значение новым. Список `L` должен измениться.\n",
    "\n",
    "**Пример:** пользователь ввел числа 3 и 100, и список `L` стал таким: \n",
    "\n",
    "    L = [4, 8, 9, 100, 10, 12, 56, 6, 7]"
   ]
  },
  {
   "cell_type": "code",
   "execution_count": 1,
   "metadata": {},
   "outputs": [
    {
     "name": "stdout",
     "output_type": "stream",
     "text": [
      "Enter an index: 3\n",
      "Enter a new value: 100\n"
     ]
    }
   ],
   "source": [
    "L = [4, 8, 9, 0, 10, 12, 56, 6, 7]\n",
    "\n",
    "i = int(input(\"Enter an index: \"))\n",
    "n = int(input(\"Enter a new value: \"))\n",
    "\n",
    "L[i] = n"
   ]
  },
  {
   "cell_type": "markdown",
   "metadata": {},
   "source": [
    "### Задача 2\n",
    "\n",
    "Напишите программу, которая запрашивает у пользователя с клавиатуры два числа и возвращает список целых чисел, которые находятся в промежутке между этими числами (исключая указанные числа).\n",
    "\n",
    "**Пример:** пользователь ввел число 5 и число 9, ему вернулся список `[6, 7, 8]`. "
   ]
  },
  {
   "cell_type": "code",
   "execution_count": 4,
   "metadata": {},
   "outputs": [
    {
     "name": "stdout",
     "output_type": "stream",
     "text": [
      "Enter the first value: 5\n",
      "Enter the second value: 9\n",
      "[6, 7, 8]\n"
     ]
    }
   ],
   "source": [
    "n1 = int(input(\"Enter the first value: \"))\n",
    "n2 = int(input(\"Enter the second value: \"))\n",
    "print(list(range(n1+1, n2)))"
   ]
  },
  {
   "cell_type": "markdown",
   "metadata": {},
   "source": [
    "### Задача 3\n",
    "\n",
    "Напишите программу, которая запрашивает у пользователя с клавиатуры целое число $n$ и выводит на экран сумму квадратов целых чисел от 0 до $n$. В процессе решения списки создавать нельзя!"
   ]
  },
  {
   "cell_type": "code",
   "execution_count": 5,
   "metadata": {},
   "outputs": [
    {
     "name": "stdout",
     "output_type": "stream",
     "text": [
      "Enter an integer: 4\n",
      "30\n"
     ]
    }
   ],
   "source": [
    "n = int(input(\"Enter an integer: \"))\n",
    "summa = 0\n",
    "\n",
    "for i in range(n + 1):\n",
    "    summa = summa + i ** 2\n",
    "print(summa) "
   ]
  },
  {
   "cell_type": "code",
   "execution_count": 7,
   "metadata": {},
   "outputs": [
    {
     "name": "stdout",
     "output_type": "stream",
     "text": [
      "Enter an integer: 4\n",
      "30\n"
     ]
    }
   ],
   "source": [
    "# можно было бы решить и со списком,\n",
    "# но суть этой задачи состояла в том, чтобы\n",
    "# осознать, что цикл for можно использовать\n",
    "# и без списков\n",
    "\n",
    "n = int(input(\"Enter an integer: \"))\n",
    "squares = []\n",
    "\n",
    "for num in range(0, n+1):\n",
    "    squares.append(num ** 2)\n",
    "print(sum(squares))"
   ]
  },
  {
   "cell_type": "code",
   "execution_count": 11,
   "metadata": {},
   "outputs": [
    {
     "name": "stdout",
     "output_type": "stream",
     "text": [
      "5\n",
      "6\n",
      "11\n"
     ]
    }
   ],
   "source": [
    "# функция sum() возвращает сумму элементов списка\n",
    "# или подобной структуры (последовательность range, кортеж tuple)\n",
    "\n",
    "print(sum([2, 0, 1, 0, 2]))  # список\n",
    "print(sum(range(0, 4)))  # range\n",
    "print(sum((2, 0, 5, 4)))  # кортеж"
   ]
  },
  {
   "cell_type": "markdown",
   "metadata": {},
   "source": [
    "### Часть 2: методы на строках"
   ]
  },
  {
   "cell_type": "markdown",
   "metadata": {},
   "source": [
    "### Задача 1\n",
    "\n",
    "Напишите программу, которая запрашивает у пользователя его фамилию, имя, отчество, введенные в одну строчку через пробел, и выводит на экран сообщения:\n",
    "\n",
    "    Ваша фамилия: фамилия\n",
    "    Ваше имя: имя\n",
    "    Ваше отчество: отчество\n",
    "\n",
    "**Пример:**\n",
    "\n",
    "*Входные данные:*\n",
    "\n",
    "    Введите Ваши ФИО: Тамбовцева Алла Андреевна\n",
    "\n",
    "*Выходные данные:*\n",
    "\n",
    "    Ваша фамилия: Тамбовцева\n",
    "    Ваше имя: Алла\n",
    "    Ваше отчество: Андреевна"
   ]
  },
  {
   "cell_type": "code",
   "execution_count": 12,
   "metadata": {},
   "outputs": [
    {
     "name": "stdout",
     "output_type": "stream",
     "text": [
      "Enter your data: Тамбовцева Алла Андреевна\n"
     ]
    }
   ],
   "source": [
    "fio = input(\"Enter your data: \")\n",
    "fio_list = fio.split()"
   ]
  },
  {
   "cell_type": "code",
   "execution_count": 13,
   "metadata": {},
   "outputs": [
    {
     "name": "stdout",
     "output_type": "stream",
     "text": [
      "['Тамбовцева', 'Алла', 'Андреевна']\n"
     ]
    }
   ],
   "source": [
    "print(fio_list)  # список после разбиения"
   ]
  },
  {
   "cell_type": "code",
   "execution_count": 14,
   "metadata": {},
   "outputs": [
    {
     "name": "stdout",
     "output_type": "stream",
     "text": [
      "Ваша фамилия: Тамбовцева\n",
      "Ваше имя: Алла\n",
      "Ваше отчество: Андреевна\n"
     ]
    }
   ],
   "source": [
    "print(\"Ваша фамилия:\", fio_list[0])\n",
    "print(\"Ваше имя:\", fio_list[1])\n",
    "print(\"Ваше отчество:\", fio_list[2])"
   ]
  },
  {
   "cell_type": "code",
   "execution_count": 15,
   "metadata": {},
   "outputs": [
    {
     "name": "stdout",
     "output_type": "stream",
     "text": [
      "Enter your data: Тамбовцева Алла Андреевна\n",
      "Ваша фамилия: Тамбовцева\n",
      "Ваше имя: Алла\n",
      "Ваше отчество: Андреевна\n"
     ]
    }
   ],
   "source": [
    "# альтернативное решение – множественное присваивание\n",
    "# сразу каждый элемент списка сохраняем в переменную\n",
    "\n",
    "fio = input(\"Enter your data: \")\n",
    "f, i, o = fio.split()\n",
    "\n",
    "print(\"Ваша фамилия:\", f)\n",
    "print(\"Ваше имя:\", i)\n",
    "print(\"Ваше отчество:\", o)"
   ]
  },
  {
   "cell_type": "markdown",
   "metadata": {},
   "source": [
    "### Задача 2\n",
    "\n",
    "Напишите программу, которая берет строку \"1; 2; 3; 100\" и возвращает:\n",
    "\n",
    "* список из целых чисел\n",
    "* список из чисел с плавающей точкой"
   ]
  },
  {
   "cell_type": "code",
   "execution_count": 16,
   "metadata": {},
   "outputs": [
    {
     "data": {
      "text/plain": [
       "['1', '2', '3', '100']"
      ]
     },
     "execution_count": 16,
     "metadata": {},
     "output_type": "execute_result"
    }
   ],
   "source": [
    "s = \"1; 2; 3; 100\"\n",
    "L = s.split(\"; \")\n",
    "L"
   ]
  },
  {
   "cell_type": "code",
   "execution_count": 17,
   "metadata": {},
   "outputs": [
    {
     "name": "stdout",
     "output_type": "stream",
     "text": [
      "[1, 2, 3, 100]\n"
     ]
    }
   ],
   "source": [
    "L_int = []\n",
    "for j in L:\n",
    "    L_int.append(int(j))\n",
    "print(L_int)"
   ]
  },
  {
   "cell_type": "code",
   "execution_count": 18,
   "metadata": {},
   "outputs": [
    {
     "name": "stdout",
     "output_type": "stream",
     "text": [
      "[1.0, 2.0, 3.0, 100.0]\n"
     ]
    }
   ],
   "source": [
    "L_float = []\n",
    "for j in L:\n",
    "    L_float.append(float(j))\n",
    "print(L_float)"
   ]
  },
  {
   "cell_type": "markdown",
   "metadata": {},
   "source": [
    "### Задача 3\n",
    "\n",
    "Напишите программу, которая запрашивает у пользователя номер мобильного телефона, введенный через дефис, а возвращает номер, записанный без дефисов и пробелов.\n",
    "\n",
    "*Входные данные:*\n",
    "\n",
    "    8-900-123-45-67\n",
    "\n",
    "*Выходные данные:*\n",
    "\n",
    "    89001234567"
   ]
  },
  {
   "cell_type": "code",
   "execution_count": 19,
   "metadata": {},
   "outputs": [
    {
     "name": "stdout",
     "output_type": "stream",
     "text": [
      "Enter your phone number: 8-900-123-45-67\n",
      "89001234567\n"
     ]
    }
   ],
   "source": [
    "mobile = input(\"Enter your phone number: \")\n",
    "digits = mobile.split(\"-\")  # разделяем по дефису\n",
    "result = \"\".join(digits)  # склеиваем по «пустоте»\n",
    "print(result)"
   ]
  },
  {
   "cell_type": "code",
   "execution_count": 20,
   "metadata": {},
   "outputs": [
    {
     "name": "stdout",
     "output_type": "stream",
     "text": [
      "Enter your phone number: 8-900-123-45-67\n",
      "89001234567\n"
     ]
    }
   ],
   "source": [
    "# для тех, кто знаком с методом replace()\n",
    "# конечно, можно просто воспользоваться заменой\n",
    "mobile = input(\"Enter your phone number: \")\n",
    "mobile = mobile.replace(\"-\", \"\")\n",
    "print(mobile)"
   ]
  },
  {
   "cell_type": "markdown",
   "metadata": {},
   "source": [
    "### Задача 4\n",
    "\n",
    "Напишите программу, которая принимает на вход список слов такого вида:\n",
    "\n",
    "    words = [\"Speak \",\"to\", \"me \", \"of\", \"Florence\" ,\"And \", \"of\", \"the\", \"Renaissance\"]\n",
    "\n",
    "а возвращает список\n",
    "\n",
    "    words_clean = [\"speak\", \"to\", \"me\", \"of\", \"florence\", \"and\", \"of\", \"the\", \"renaissance\"]\n",
    "\n",
    "Другими словами, программа убирает пробелы в словах и приводит все слова к нижнему регистру.\n",
    "\n",
    "**Подсказка:** запросите `help()`  по  методам `.strip()` и `.lower()`."
   ]
  },
  {
   "cell_type": "code",
   "execution_count": 21,
   "metadata": {},
   "outputs": [],
   "source": [
    "words = [\"Speak \",\"to\", \"me \", \"of\", \"Florence\" ,\n",
    "         \"And \", \"of\", \"the\", \"Renaissance\"]"
   ]
  },
  {
   "cell_type": "code",
   "execution_count": 22,
   "metadata": {},
   "outputs": [
    {
     "name": "stdout",
     "output_type": "stream",
     "text": [
      "['speak', 'to', 'me', 'of', 'florence', 'and', 'of', 'the', 'renaissance']\n"
     ]
    }
   ],
   "source": [
    "words_clean = []\n",
    "for word in words:\n",
    "    clean = word.strip().lower()\n",
    "    words_clean.append(clean) \n",
    "print(words_clean)"
   ]
  }
 ],
 "metadata": {
  "kernelspec": {
   "display_name": "Python 3",
   "language": "python",
   "name": "python3"
  },
  "language_info": {
   "codemirror_mode": {
    "name": "ipython",
    "version": 3
   },
   "file_extension": ".py",
   "mimetype": "text/x-python",
   "name": "python",
   "nbconvert_exporter": "python",
   "pygments_lexer": "ipython3",
   "version": "3.7.4"
  }
 },
 "nbformat": 4,
 "nbformat_minor": 2
}
