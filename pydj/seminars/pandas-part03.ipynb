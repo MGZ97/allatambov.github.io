{
 "cells": [
  {
   "cell_type": "code",
   "execution_count": 2,
   "metadata": {},
   "outputs": [],
   "source": [
    "import pandas as pd\n",
    "tree = pd.read_csv(\"firtree.csv\")"
   ]
  },
  {
   "cell_type": "markdown",
   "metadata": {},
   "source": [
    "Переименуем столбец `'Unnamed: 0'`:"
   ]
  },
  {
   "cell_type": "code",
   "execution_count": 3,
   "metadata": {},
   "outputs": [],
   "source": [
    "tree.rename(columns = {'Unnamed: 0':'id'}, \n",
    "            inplace= True)"
   ]
  },
  {
   "cell_type": "markdown",
   "metadata": {},
   "source": [
    "Сгруппируем строки в датафрейме по столбцу `ftype`:"
   ]
  },
  {
   "cell_type": "code",
   "execution_count": 4,
   "metadata": {},
   "outputs": [
    {
     "data": {
      "text/plain": [
       "<pandas.core.groupby.generic.DataFrameGroupBy object at 0x120c01990>"
      ]
     },
     "execution_count": 4,
     "metadata": {},
     "output_type": "execute_result"
    }
   ],
   "source": [
    "tree.groupby(\"ftype\")"
   ]
  },
  {
   "cell_type": "markdown",
   "metadata": {},
   "source": [
    "Посмотрим, что внутри объекта типа `GroupBy`:"
   ]
  },
  {
   "cell_type": "code",
   "execution_count": 39,
   "metadata": {},
   "outputs": [
    {
     "data": {
      "text/plain": [
       "<pandas.core.groupby.generic.DataFrameGroupBy object at 0x116825b10>"
      ]
     },
     "execution_count": 39,
     "metadata": {},
     "output_type": "execute_result"
    }
   ],
   "source": [
    "for g in tree.groupby(\"ftype\"):\n",
    "    print(g)"
   ]
  },
  {
   "cell_type": "markdown",
   "metadata": {},
   "source": [
    "Используем перебор по названию группы и датафрейму, соответствующему этой группе и сохраним строки для каждой группы в отдельный файл `.csv.`:"
   ]
  },
  {
   "cell_type": "code",
   "execution_count": null,
   "metadata": {},
   "outputs": [],
   "source": [
    "for name, dat in tree.groupby(\"ftype\"):\n",
    "    dat.to_csv(name + \".csv\")"
   ]
  },
  {
   "cell_type": "markdown",
   "metadata": {},
   "source": [
    "Применим агрегирование – посчитаем число заполненных ячеек к каждом столбце по каждой группе:"
   ]
  },
  {
   "cell_type": "code",
   "execution_count": 5,
   "metadata": {},
   "outputs": [
    {
     "data": {
      "text/html": [
       "<div>\n",
       "<style scoped>\n",
       "    .dataframe tbody tr th:only-of-type {\n",
       "        vertical-align: middle;\n",
       "    }\n",
       "\n",
       "    .dataframe tbody tr th {\n",
       "        vertical-align: top;\n",
       "    }\n",
       "\n",
       "    .dataframe thead th {\n",
       "        text-align: right;\n",
       "    }\n",
       "</style>\n",
       "<table border=\"1\" class=\"dataframe\">\n",
       "  <thead>\n",
       "    <tr style=\"text-align: right;\">\n",
       "      <th></th>\n",
       "      <th>id</th>\n",
       "      <th>gender</th>\n",
       "      <th>height</th>\n",
       "      <th>score</th>\n",
       "      <th>expenses</th>\n",
       "      <th>wish</th>\n",
       "    </tr>\n",
       "    <tr>\n",
       "      <th>ftype</th>\n",
       "      <th></th>\n",
       "      <th></th>\n",
       "      <th></th>\n",
       "      <th></th>\n",
       "      <th></th>\n",
       "      <th></th>\n",
       "    </tr>\n",
       "  </thead>\n",
       "  <tbody>\n",
       "    <tr>\n",
       "      <td>ель обыкновенная</td>\n",
       "      <td>258</td>\n",
       "      <td>258</td>\n",
       "      <td>258</td>\n",
       "      <td>258</td>\n",
       "      <td>258</td>\n",
       "      <td>257</td>\n",
       "    </tr>\n",
       "    <tr>\n",
       "      <td>пихта Нобилис</td>\n",
       "      <td>326</td>\n",
       "      <td>326</td>\n",
       "      <td>326</td>\n",
       "      <td>326</td>\n",
       "      <td>326</td>\n",
       "      <td>325</td>\n",
       "    </tr>\n",
       "    <tr>\n",
       "      <td>сосна Крым</td>\n",
       "      <td>327</td>\n",
       "      <td>327</td>\n",
       "      <td>327</td>\n",
       "      <td>327</td>\n",
       "      <td>327</td>\n",
       "      <td>327</td>\n",
       "    </tr>\n",
       "    <tr>\n",
       "      <td>сосна датская</td>\n",
       "      <td>289</td>\n",
       "      <td>289</td>\n",
       "      <td>289</td>\n",
       "      <td>289</td>\n",
       "      <td>289</td>\n",
       "      <td>289</td>\n",
       "    </tr>\n",
       "  </tbody>\n",
       "</table>\n",
       "</div>"
      ],
      "text/plain": [
       "                   id  gender  height  score  expenses  wish\n",
       "ftype                                                       \n",
       "ель обыкновенная  258     258     258    258       258   257\n",
       "пихта Нобилис     326     326     326    326       326   325\n",
       "сосна Крым        327     327     327    327       327   327\n",
       "сосна датская     289     289     289    289       289   289"
      ]
     },
     "execution_count": 5,
     "metadata": {},
     "output_type": "execute_result"
    }
   ],
   "source": [
    "tree.groupby(\"ftype\").agg('count')"
   ]
  },
  {
   "cell_type": "markdown",
   "metadata": {},
   "source": [
    "А теперь ещё и среднее:"
   ]
  },
  {
   "cell_type": "code",
   "execution_count": 6,
   "metadata": {},
   "outputs": [
    {
     "data": {
      "text/html": [
       "<div>\n",
       "<style scoped>\n",
       "    .dataframe tbody tr th:only-of-type {\n",
       "        vertical-align: middle;\n",
       "    }\n",
       "\n",
       "    .dataframe tbody tr th {\n",
       "        vertical-align: top;\n",
       "    }\n",
       "\n",
       "    .dataframe thead tr th {\n",
       "        text-align: left;\n",
       "    }\n",
       "\n",
       "    .dataframe thead tr:last-of-type th {\n",
       "        text-align: right;\n",
       "    }\n",
       "</style>\n",
       "<table border=\"1\" class=\"dataframe\">\n",
       "  <thead>\n",
       "    <tr>\n",
       "      <th></th>\n",
       "      <th colspan=\"2\" halign=\"left\">id</th>\n",
       "      <th colspan=\"2\" halign=\"left\">height</th>\n",
       "      <th colspan=\"2\" halign=\"left\">score</th>\n",
       "      <th colspan=\"2\" halign=\"left\">expenses</th>\n",
       "    </tr>\n",
       "    <tr>\n",
       "      <th></th>\n",
       "      <th>count</th>\n",
       "      <th>mean</th>\n",
       "      <th>count</th>\n",
       "      <th>mean</th>\n",
       "      <th>count</th>\n",
       "      <th>mean</th>\n",
       "      <th>count</th>\n",
       "      <th>mean</th>\n",
       "    </tr>\n",
       "    <tr>\n",
       "      <th>ftype</th>\n",
       "      <th></th>\n",
       "      <th></th>\n",
       "      <th></th>\n",
       "      <th></th>\n",
       "      <th></th>\n",
       "      <th></th>\n",
       "      <th></th>\n",
       "      <th></th>\n",
       "    </tr>\n",
       "  </thead>\n",
       "  <tbody>\n",
       "    <tr>\n",
       "      <td>ель обыкновенная</td>\n",
       "      <td>258</td>\n",
       "      <td>575.895349</td>\n",
       "      <td>258</td>\n",
       "      <td>155.503876</td>\n",
       "      <td>258</td>\n",
       "      <td>2.980620</td>\n",
       "      <td>258</td>\n",
       "      <td>1603.813953</td>\n",
       "    </tr>\n",
       "    <tr>\n",
       "      <td>пихта Нобилис</td>\n",
       "      <td>326</td>\n",
       "      <td>623.076687</td>\n",
       "      <td>326</td>\n",
       "      <td>160.101227</td>\n",
       "      <td>326</td>\n",
       "      <td>3.082822</td>\n",
       "      <td>326</td>\n",
       "      <td>1634.463190</td>\n",
       "    </tr>\n",
       "    <tr>\n",
       "      <td>сосна Крым</td>\n",
       "      <td>327</td>\n",
       "      <td>596.599388</td>\n",
       "      <td>327</td>\n",
       "      <td>160.657492</td>\n",
       "      <td>327</td>\n",
       "      <td>2.987768</td>\n",
       "      <td>327</td>\n",
       "      <td>1572.076453</td>\n",
       "    </tr>\n",
       "    <tr>\n",
       "      <td>сосна датская</td>\n",
       "      <td>289</td>\n",
       "      <td>601.411765</td>\n",
       "      <td>289</td>\n",
       "      <td>159.280277</td>\n",
       "      <td>289</td>\n",
       "      <td>2.958478</td>\n",
       "      <td>289</td>\n",
       "      <td>1709.916955</td>\n",
       "    </tr>\n",
       "  </tbody>\n",
       "</table>\n",
       "</div>"
      ],
      "text/plain": [
       "                    id             height             score            \\\n",
       "                 count        mean  count        mean count      mean   \n",
       "ftype                                                                   \n",
       "ель обыкновенная   258  575.895349    258  155.503876   258  2.980620   \n",
       "пихта Нобилис      326  623.076687    326  160.101227   326  3.082822   \n",
       "сосна Крым         327  596.599388    327  160.657492   327  2.987768   \n",
       "сосна датская      289  601.411765    289  159.280277   289  2.958478   \n",
       "\n",
       "                 expenses               \n",
       "                    count         mean  \n",
       "ftype                                   \n",
       "ель обыкновенная      258  1603.813953  \n",
       "пихта Нобилис         326  1634.463190  \n",
       "сосна Крым            327  1572.076453  \n",
       "сосна датская         289  1709.916955  "
      ]
     },
     "execution_count": 6,
     "metadata": {},
     "output_type": "execute_result"
    }
   ],
   "source": [
    "tree.groupby(\"ftype\").agg(['count', 'mean'])"
   ]
  },
  {
   "cell_type": "markdown",
   "metadata": {},
   "source": [
    "И медиану заодно:"
   ]
  },
  {
   "cell_type": "code",
   "execution_count": 7,
   "metadata": {},
   "outputs": [
    {
     "data": {
      "text/html": [
       "<div>\n",
       "<style scoped>\n",
       "    .dataframe tbody tr th:only-of-type {\n",
       "        vertical-align: middle;\n",
       "    }\n",
       "\n",
       "    .dataframe tbody tr th {\n",
       "        vertical-align: top;\n",
       "    }\n",
       "\n",
       "    .dataframe thead tr th {\n",
       "        text-align: left;\n",
       "    }\n",
       "\n",
       "    .dataframe thead tr:last-of-type th {\n",
       "        text-align: right;\n",
       "    }\n",
       "</style>\n",
       "<table border=\"1\" class=\"dataframe\">\n",
       "  <thead>\n",
       "    <tr>\n",
       "      <th></th>\n",
       "      <th colspan=\"3\" halign=\"left\">id</th>\n",
       "      <th colspan=\"3\" halign=\"left\">height</th>\n",
       "      <th colspan=\"3\" halign=\"left\">score</th>\n",
       "      <th colspan=\"3\" halign=\"left\">expenses</th>\n",
       "    </tr>\n",
       "    <tr>\n",
       "      <th></th>\n",
       "      <th>count</th>\n",
       "      <th>mean</th>\n",
       "      <th>median</th>\n",
       "      <th>count</th>\n",
       "      <th>mean</th>\n",
       "      <th>median</th>\n",
       "      <th>count</th>\n",
       "      <th>mean</th>\n",
       "      <th>median</th>\n",
       "      <th>count</th>\n",
       "      <th>mean</th>\n",
       "      <th>median</th>\n",
       "    </tr>\n",
       "    <tr>\n",
       "      <th>ftype</th>\n",
       "      <th></th>\n",
       "      <th></th>\n",
       "      <th></th>\n",
       "      <th></th>\n",
       "      <th></th>\n",
       "      <th></th>\n",
       "      <th></th>\n",
       "      <th></th>\n",
       "      <th></th>\n",
       "      <th></th>\n",
       "      <th></th>\n",
       "      <th></th>\n",
       "    </tr>\n",
       "  </thead>\n",
       "  <tbody>\n",
       "    <tr>\n",
       "      <td>ель обыкновенная</td>\n",
       "      <td>258</td>\n",
       "      <td>575.895349</td>\n",
       "      <td>570.5</td>\n",
       "      <td>258</td>\n",
       "      <td>155.503876</td>\n",
       "      <td>149.0</td>\n",
       "      <td>258</td>\n",
       "      <td>2.980620</td>\n",
       "      <td>3</td>\n",
       "      <td>258</td>\n",
       "      <td>1603.813953</td>\n",
       "      <td>1580</td>\n",
       "    </tr>\n",
       "    <tr>\n",
       "      <td>пихта Нобилис</td>\n",
       "      <td>326</td>\n",
       "      <td>623.076687</td>\n",
       "      <td>639.5</td>\n",
       "      <td>326</td>\n",
       "      <td>160.101227</td>\n",
       "      <td>159.5</td>\n",
       "      <td>326</td>\n",
       "      <td>3.082822</td>\n",
       "      <td>3</td>\n",
       "      <td>326</td>\n",
       "      <td>1634.463190</td>\n",
       "      <td>1634</td>\n",
       "    </tr>\n",
       "    <tr>\n",
       "      <td>сосна Крым</td>\n",
       "      <td>327</td>\n",
       "      <td>596.599388</td>\n",
       "      <td>614.0</td>\n",
       "      <td>327</td>\n",
       "      <td>160.657492</td>\n",
       "      <td>157.0</td>\n",
       "      <td>327</td>\n",
       "      <td>2.987768</td>\n",
       "      <td>3</td>\n",
       "      <td>327</td>\n",
       "      <td>1572.076453</td>\n",
       "      <td>1552</td>\n",
       "    </tr>\n",
       "    <tr>\n",
       "      <td>сосна датская</td>\n",
       "      <td>289</td>\n",
       "      <td>601.411765</td>\n",
       "      <td>557.0</td>\n",
       "      <td>289</td>\n",
       "      <td>159.280277</td>\n",
       "      <td>159.0</td>\n",
       "      <td>289</td>\n",
       "      <td>2.958478</td>\n",
       "      <td>3</td>\n",
       "      <td>289</td>\n",
       "      <td>1709.916955</td>\n",
       "      <td>1795</td>\n",
       "    </tr>\n",
       "  </tbody>\n",
       "</table>\n",
       "</div>"
      ],
      "text/plain": [
       "                    id                    height                    score  \\\n",
       "                 count        mean median  count        mean median count   \n",
       "ftype                                                                       \n",
       "ель обыкновенная   258  575.895349  570.5    258  155.503876  149.0   258   \n",
       "пихта Нобилис      326  623.076687  639.5    326  160.101227  159.5   326   \n",
       "сосна Крым         327  596.599388  614.0    327  160.657492  157.0   327   \n",
       "сосна датская      289  601.411765  557.0    289  159.280277  159.0   289   \n",
       "\n",
       "                                  expenses                      \n",
       "                      mean median    count         mean median  \n",
       "ftype                                                           \n",
       "ель обыкновенная  2.980620      3      258  1603.813953   1580  \n",
       "пихта Нобилис     3.082822      3      326  1634.463190   1634  \n",
       "сосна Крым        2.987768      3      327  1572.076453   1552  \n",
       "сосна датская     2.958478      3      289  1709.916955   1795  "
      ]
     },
     "execution_count": 7,
     "metadata": {},
     "output_type": "execute_result"
    }
   ],
   "source": [
    "tree.groupby(\"ftype\").agg(['count', 'mean', 'median'])"
   ]
  },
  {
   "cell_type": "markdown",
   "metadata": {},
   "source": [
    "Теперь сообщим pandas, какую именно характеристику для какого именно столбца считать:"
   ]
  },
  {
   "cell_type": "code",
   "execution_count": 8,
   "metadata": {},
   "outputs": [
    {
     "data": {
      "text/html": [
       "<div>\n",
       "<style scoped>\n",
       "    .dataframe tbody tr th:only-of-type {\n",
       "        vertical-align: middle;\n",
       "    }\n",
       "\n",
       "    .dataframe tbody tr th {\n",
       "        vertical-align: top;\n",
       "    }\n",
       "\n",
       "    .dataframe thead tr th {\n",
       "        text-align: left;\n",
       "    }\n",
       "\n",
       "    .dataframe thead tr:last-of-type th {\n",
       "        text-align: right;\n",
       "    }\n",
       "</style>\n",
       "<table border=\"1\" class=\"dataframe\">\n",
       "  <thead>\n",
       "    <tr>\n",
       "      <th></th>\n",
       "      <th>id</th>\n",
       "      <th>height</th>\n",
       "      <th>score</th>\n",
       "    </tr>\n",
       "    <tr>\n",
       "      <th></th>\n",
       "      <th>count</th>\n",
       "      <th>mean</th>\n",
       "      <th>median</th>\n",
       "    </tr>\n",
       "    <tr>\n",
       "      <th>ftype</th>\n",
       "      <th></th>\n",
       "      <th></th>\n",
       "      <th></th>\n",
       "    </tr>\n",
       "  </thead>\n",
       "  <tbody>\n",
       "    <tr>\n",
       "      <td>ель обыкновенная</td>\n",
       "      <td>258</td>\n",
       "      <td>155.503876</td>\n",
       "      <td>3</td>\n",
       "    </tr>\n",
       "    <tr>\n",
       "      <td>пихта Нобилис</td>\n",
       "      <td>326</td>\n",
       "      <td>160.101227</td>\n",
       "      <td>3</td>\n",
       "    </tr>\n",
       "    <tr>\n",
       "      <td>сосна Крым</td>\n",
       "      <td>327</td>\n",
       "      <td>160.657492</td>\n",
       "      <td>3</td>\n",
       "    </tr>\n",
       "    <tr>\n",
       "      <td>сосна датская</td>\n",
       "      <td>289</td>\n",
       "      <td>159.280277</td>\n",
       "      <td>3</td>\n",
       "    </tr>\n",
       "  </tbody>\n",
       "</table>\n",
       "</div>"
      ],
      "text/plain": [
       "                    id      height  score\n",
       "                 count        mean median\n",
       "ftype                                    \n",
       "ель обыкновенная   258  155.503876      3\n",
       "пихта Нобилис      326  160.101227      3\n",
       "сосна Крым         327  160.657492      3\n",
       "сосна датская      289  159.280277      3"
      ]
     },
     "execution_count": 8,
     "metadata": {},
     "output_type": "execute_result"
    }
   ],
   "source": [
    "res = tree.groupby(\"ftype\").agg({'id' : ['count'],\n",
    "                           'height' : ['mean'], \n",
    "                           'score' : ['median']})\n",
    "res"
   ]
  },
  {
   "cell_type": "markdown",
   "metadata": {},
   "source": [
    "Сохранили результат в переменную `res`. Посмотрим на её структуру: выведем названия столбцов и строк:"
   ]
  },
  {
   "cell_type": "code",
   "execution_count": 9,
   "metadata": {},
   "outputs": [
    {
     "data": {
      "text/plain": [
       "MultiIndex([(    'id',  'count'),\n",
       "            ('height',   'mean'),\n",
       "            ( 'score', 'median')],\n",
       "           )"
      ]
     },
     "execution_count": 9,
     "metadata": {},
     "output_type": "execute_result"
    }
   ],
   "source": [
    "res.columns"
   ]
  },
  {
   "cell_type": "code",
   "execution_count": 10,
   "metadata": {},
   "outputs": [
    {
     "data": {
      "text/plain": [
       "Index(['ель обыкновенная', 'пихта Нобилис', 'сосна Крым', 'сосна датская'], dtype='object', name='ftype')"
      ]
     },
     "execution_count": 10,
     "metadata": {},
     "output_type": "execute_result"
    }
   ],
   "source": [
    "res.index"
   ]
  },
  {
   "cell_type": "code",
   "execution_count": 11,
   "metadata": {},
   "outputs": [
    {
     "data": {
      "text/html": [
       "<div>\n",
       "<style scoped>\n",
       "    .dataframe tbody tr th:only-of-type {\n",
       "        vertical-align: middle;\n",
       "    }\n",
       "\n",
       "    .dataframe tbody tr th {\n",
       "        vertical-align: top;\n",
       "    }\n",
       "\n",
       "    .dataframe thead th {\n",
       "        text-align: right;\n",
       "    }\n",
       "</style>\n",
       "<table border=\"1\" class=\"dataframe\">\n",
       "  <thead>\n",
       "    <tr style=\"text-align: right;\">\n",
       "      <th></th>\n",
       "      <th>mean</th>\n",
       "    </tr>\n",
       "    <tr>\n",
       "      <th>ftype</th>\n",
       "      <th></th>\n",
       "    </tr>\n",
       "  </thead>\n",
       "  <tbody>\n",
       "    <tr>\n",
       "      <td>ель обыкновенная</td>\n",
       "      <td>155.503876</td>\n",
       "    </tr>\n",
       "    <tr>\n",
       "      <td>пихта Нобилис</td>\n",
       "      <td>160.101227</td>\n",
       "    </tr>\n",
       "    <tr>\n",
       "      <td>сосна Крым</td>\n",
       "      <td>160.657492</td>\n",
       "    </tr>\n",
       "    <tr>\n",
       "      <td>сосна датская</td>\n",
       "      <td>159.280277</td>\n",
       "    </tr>\n",
       "  </tbody>\n",
       "</table>\n",
       "</div>"
      ],
      "text/plain": [
       "                        mean\n",
       "ftype                       \n",
       "ель обыкновенная  155.503876\n",
       "пихта Нобилис     160.101227\n",
       "сосна Крым        160.657492\n",
       "сосна датская     159.280277"
      ]
     },
     "execution_count": 11,
     "metadata": {},
     "output_type": "execute_result"
    }
   ],
   "source": [
    "res[\"height\"]"
   ]
  },
  {
   "cell_type": "code",
   "execution_count": 12,
   "metadata": {},
   "outputs": [
    {
     "data": {
      "text/plain": [
       "ftype\n",
       "ель обыкновенная    155.503876\n",
       "пихта Нобилис       160.101227\n",
       "сосна Крым          160.657492\n",
       "сосна датская       159.280277\n",
       "Name: mean, dtype: float64"
      ]
     },
     "execution_count": 12,
     "metadata": {},
     "output_type": "execute_result"
    }
   ],
   "source": [
    "res[\"height\"][\"mean\"]"
   ]
  },
  {
   "cell_type": "code",
   "execution_count": 13,
   "metadata": {},
   "outputs": [
    {
     "data": {
      "text/plain": [
       "id      count     258.000000\n",
       "height  mean      155.503876\n",
       "score   median      3.000000\n",
       "Name: ель обыкновенная, dtype: float64"
      ]
     },
     "execution_count": 13,
     "metadata": {},
     "output_type": "execute_result"
    }
   ],
   "source": [
    "res.loc['ель обыкновенная', :]"
   ]
  },
  {
   "cell_type": "code",
   "execution_count": 14,
   "metadata": {},
   "outputs": [],
   "source": [
    "res2 = tree.groupby([\"gender\", \"wish\"]).agg({'expenses': \n",
    "                                      ['count', 'mean', 'median']})"
   ]
  },
  {
   "cell_type": "code",
   "execution_count": 15,
   "metadata": {},
   "outputs": [
    {
     "data": {
      "text/html": [
       "<div>\n",
       "<style scoped>\n",
       "    .dataframe tbody tr th:only-of-type {\n",
       "        vertical-align: middle;\n",
       "    }\n",
       "\n",
       "    .dataframe tbody tr th {\n",
       "        vertical-align: top;\n",
       "    }\n",
       "\n",
       "    .dataframe thead tr th {\n",
       "        text-align: left;\n",
       "    }\n",
       "\n",
       "    .dataframe thead tr:last-of-type th {\n",
       "        text-align: right;\n",
       "    }\n",
       "</style>\n",
       "<table border=\"1\" class=\"dataframe\">\n",
       "  <thead>\n",
       "    <tr>\n",
       "      <th></th>\n",
       "      <th></th>\n",
       "      <th colspan=\"3\" halign=\"left\">expenses</th>\n",
       "    </tr>\n",
       "    <tr>\n",
       "      <th></th>\n",
       "      <th></th>\n",
       "      <th>count</th>\n",
       "      <th>mean</th>\n",
       "      <th>median</th>\n",
       "    </tr>\n",
       "    <tr>\n",
       "      <th>gender</th>\n",
       "      <th>wish</th>\n",
       "      <th></th>\n",
       "      <th></th>\n",
       "      <th></th>\n",
       "    </tr>\n",
       "  </thead>\n",
       "  <tbody>\n",
       "    <tr>\n",
       "      <td rowspan=\"2\" valign=\"top\">female</td>\n",
       "      <td>да</td>\n",
       "      <td>307</td>\n",
       "      <td>1710.781759</td>\n",
       "      <td>1754</td>\n",
       "    </tr>\n",
       "    <tr>\n",
       "      <td>нет</td>\n",
       "      <td>304</td>\n",
       "      <td>1567.052632</td>\n",
       "      <td>1519</td>\n",
       "    </tr>\n",
       "    <tr>\n",
       "      <td rowspan=\"2\" valign=\"top\">male</td>\n",
       "      <td>да</td>\n",
       "      <td>304</td>\n",
       "      <td>1659.345395</td>\n",
       "      <td>1680</td>\n",
       "    </tr>\n",
       "    <tr>\n",
       "      <td>нет</td>\n",
       "      <td>283</td>\n",
       "      <td>1571.915194</td>\n",
       "      <td>1512</td>\n",
       "    </tr>\n",
       "  </tbody>\n",
       "</table>\n",
       "</div>"
      ],
      "text/plain": [
       "            expenses                    \n",
       "               count         mean median\n",
       "gender wish                             \n",
       "female да        307  1710.781759   1754\n",
       "       нет       304  1567.052632   1519\n",
       "male   да        304  1659.345395   1680\n",
       "       нет       283  1571.915194   1512"
      ]
     },
     "execution_count": 15,
     "metadata": {},
     "output_type": "execute_result"
    }
   ],
   "source": [
    "res2"
   ]
  },
  {
   "cell_type": "code",
   "execution_count": 16,
   "metadata": {},
   "outputs": [
    {
     "data": {
      "text/plain": [
       "MultiIndex([('expenses',  'count'),\n",
       "            ('expenses',   'mean'),\n",
       "            ('expenses', 'median')],\n",
       "           )"
      ]
     },
     "execution_count": 16,
     "metadata": {},
     "output_type": "execute_result"
    }
   ],
   "source": [
    "res2.columns"
   ]
  },
  {
   "cell_type": "code",
   "execution_count": 17,
   "metadata": {},
   "outputs": [
    {
     "data": {
      "text/plain": [
       "MultiIndex([('female',  'да'),\n",
       "            ('female', 'нет'),\n",
       "            (  'male',  'да'),\n",
       "            (  'male', 'нет')],\n",
       "           names=['gender', 'wish'])"
      ]
     },
     "execution_count": 17,
     "metadata": {},
     "output_type": "execute_result"
    }
   ],
   "source": [
    "res2.index"
   ]
  },
  {
   "cell_type": "code",
   "execution_count": 18,
   "metadata": {},
   "outputs": [
    {
     "data": {
      "text/html": [
       "<div>\n",
       "<style scoped>\n",
       "    .dataframe tbody tr th:only-of-type {\n",
       "        vertical-align: middle;\n",
       "    }\n",
       "\n",
       "    .dataframe tbody tr th {\n",
       "        vertical-align: top;\n",
       "    }\n",
       "\n",
       "    .dataframe thead tr th {\n",
       "        text-align: left;\n",
       "    }\n",
       "\n",
       "    .dataframe thead tr:last-of-type th {\n",
       "        text-align: right;\n",
       "    }\n",
       "</style>\n",
       "<table border=\"1\" class=\"dataframe\">\n",
       "  <thead>\n",
       "    <tr>\n",
       "      <th></th>\n",
       "      <th colspan=\"3\" halign=\"left\">expenses</th>\n",
       "    </tr>\n",
       "    <tr>\n",
       "      <th></th>\n",
       "      <th>count</th>\n",
       "      <th>mean</th>\n",
       "      <th>median</th>\n",
       "    </tr>\n",
       "    <tr>\n",
       "      <th>gender</th>\n",
       "      <th></th>\n",
       "      <th></th>\n",
       "      <th></th>\n",
       "    </tr>\n",
       "  </thead>\n",
       "  <tbody>\n",
       "    <tr>\n",
       "      <td>female</td>\n",
       "      <td>307</td>\n",
       "      <td>1710.781759</td>\n",
       "      <td>1754</td>\n",
       "    </tr>\n",
       "    <tr>\n",
       "      <td>male</td>\n",
       "      <td>304</td>\n",
       "      <td>1659.345395</td>\n",
       "      <td>1680</td>\n",
       "    </tr>\n",
       "  </tbody>\n",
       "</table>\n",
       "</div>"
      ],
      "text/plain": [
       "       expenses                    \n",
       "          count         mean median\n",
       "gender                             \n",
       "female      307  1710.781759   1754\n",
       "male        304  1659.345395   1680"
      ]
     },
     "execution_count": 18,
     "metadata": {},
     "output_type": "execute_result"
    }
   ],
   "source": [
    "res2.xs('да', level = 'wish')"
   ]
  },
  {
   "cell_type": "code",
   "execution_count": 19,
   "metadata": {},
   "outputs": [
    {
     "data": {
      "text/html": [
       "<div>\n",
       "<style scoped>\n",
       "    .dataframe tbody tr th:only-of-type {\n",
       "        vertical-align: middle;\n",
       "    }\n",
       "\n",
       "    .dataframe tbody tr th {\n",
       "        vertical-align: top;\n",
       "    }\n",
       "\n",
       "    .dataframe thead tr th {\n",
       "        text-align: left;\n",
       "    }\n",
       "\n",
       "    .dataframe thead tr:last-of-type th {\n",
       "        text-align: right;\n",
       "    }\n",
       "</style>\n",
       "<table border=\"1\" class=\"dataframe\">\n",
       "  <thead>\n",
       "    <tr>\n",
       "      <th></th>\n",
       "      <th colspan=\"3\" halign=\"left\">expenses</th>\n",
       "    </tr>\n",
       "    <tr>\n",
       "      <th></th>\n",
       "      <th>count</th>\n",
       "      <th>mean</th>\n",
       "      <th>median</th>\n",
       "    </tr>\n",
       "    <tr>\n",
       "      <th>wish</th>\n",
       "      <th></th>\n",
       "      <th></th>\n",
       "      <th></th>\n",
       "    </tr>\n",
       "  </thead>\n",
       "  <tbody>\n",
       "    <tr>\n",
       "      <td>да</td>\n",
       "      <td>307</td>\n",
       "      <td>1710.781759</td>\n",
       "      <td>1754</td>\n",
       "    </tr>\n",
       "    <tr>\n",
       "      <td>нет</td>\n",
       "      <td>304</td>\n",
       "      <td>1567.052632</td>\n",
       "      <td>1519</td>\n",
       "    </tr>\n",
       "  </tbody>\n",
       "</table>\n",
       "</div>"
      ],
      "text/plain": [
       "     expenses                    \n",
       "        count         mean median\n",
       "wish                             \n",
       "да        307  1710.781759   1754\n",
       "нет       304  1567.052632   1519"
      ]
     },
     "execution_count": 19,
     "metadata": {},
     "output_type": "execute_result"
    }
   ],
   "source": [
    "res2.xs('female', level = 'gender')"
   ]
  },
  {
   "cell_type": "code",
   "execution_count": 20,
   "metadata": {},
   "outputs": [
    {
     "data": {
      "text/plain": [
       "307"
      ]
     },
     "execution_count": 20,
     "metadata": {},
     "output_type": "execute_result"
    }
   ],
   "source": [
    "res2.xs('female', level = 'gender')['expenses'].iloc[0,0]"
   ]
  },
  {
   "cell_type": "code",
   "execution_count": 21,
   "metadata": {},
   "outputs": [
    {
     "data": {
      "text/plain": [
       "307"
      ]
     },
     "execution_count": 21,
     "metadata": {},
     "output_type": "execute_result"
    }
   ],
   "source": [
    "res2.xs('female', level = 'gender')['expenses'].loc[\"да\", 'count']"
   ]
  }
 ],
 "metadata": {
  "kernelspec": {
   "display_name": "Python 3",
   "language": "python",
   "name": "python3"
  },
  "language_info": {
   "codemirror_mode": {
    "name": "ipython",
    "version": 3
   },
   "file_extension": ".py",
   "mimetype": "text/x-python",
   "name": "python",
   "nbconvert_exporter": "python",
   "pygments_lexer": "ipython3",
   "version": "3.7.4"
  }
 },
 "nbformat": 4,
 "nbformat_minor": 2
}
