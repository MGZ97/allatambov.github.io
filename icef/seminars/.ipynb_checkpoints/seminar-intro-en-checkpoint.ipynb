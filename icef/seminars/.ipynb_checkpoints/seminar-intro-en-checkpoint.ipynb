{
 "cells": [
  {
   "cell_type": "markdown",
   "metadata": {},
   "source": [
    "# Programming and Data Analysis\n",
    "\n",
    "*Alla Tambovtseva, NRU HSE*\n",
    "\n",
    "\n",
    "## Seminar 1\n",
    "\n",
    "*Note: a program here is a chunk of working code. For convenience you can regard a program as a cell with code.* \n"
   ]
  },
  {
   "cell_type": "markdown",
   "metadata": {},
   "source": [
    "### Problem 0\n",
    "\n",
    "Solve using Python:\n",
    "\n",
    "* $\\log(25)$, $\\log(\\exp(3))$, $\\log_{10}1000$;\n",
    "* $\\pi^3$, $123^4$; \n",
    "* $\\sqrt{459}$."
   ]
  },
  {
   "cell_type": "markdown",
   "metadata": {},
   "source": [
    "### Problem 1\n",
    "\n",
    "In the variables `a` и `b` we store some numbers. Write a code that will swap the values of these variables. You can create new variables in this task.\n",
    "\n",
    "**Example:**"
   ]
  },
  {
   "cell_type": "code",
   "execution_count": 1,
   "metadata": {},
   "outputs": [],
   "source": [
    "# before\n",
    "a = 2\n",
    "b = 5"
   ]
  },
  {
   "cell_type": "code",
   "execution_count": 2,
   "metadata": {},
   "outputs": [
    {
     "name": "stdout",
     "output_type": "stream",
     "text": [
      "5\n",
      "2\n"
     ]
    }
   ],
   "source": [
    "# after\n",
    "print(a)\n",
    "print(b)"
   ]
  },
  {
   "cell_type": "markdown",
   "metadata": {},
   "source": [
    "### Problem 2\n",
    "\n",
    "Write a code that takes a natural logarithm of GDP that is stored in the variable `gdp` and rounds the result to two decimal places."
   ]
  },
  {
   "cell_type": "markdown",
   "metadata": {},
   "source": [
    "### Problem 3\n",
    "\n",
    "In the variable `fh` we store the value of the political freedom index (provided by *Freedom House*) and in the variable `p`\n",
    "we store the value of another index Polity IV. Write a code that will calculate the value of a new index `Freedom`:\n",
    "\n",
    "$$\n",
    "\\text{Freedom} = 0.4 \\cdot \\text{Freedom House} + 0.6 \\cdot \\text{Polity IV}\n",
    "$$"
   ]
  },
  {
   "cell_type": "markdown",
   "metadata": {},
   "source": [
    "### Problem 4\n",
    "\n",
    "When the spring came, a python decided to do sunbathing every day. However, he knew that the sun is very active in spring, so it is dangerous to spend a lot of time on the sun. He developed the following scheme: on the first day he should spend one minute outside, on the second day – four minutes, on the third day – seven minutes, and so on. So, he should increase the time spent outside by three minutes every day. \n",
    "\n",
    "Write a code that will allow to calculate how many minutes the python would spend on sunbathing every day\n",
    "\n",
    "*Note:* your code should print the number of a day and the number of minutes. You should not use loops here, but you can run a cell with your code many times. "
   ]
  },
  {
   "cell_type": "markdown",
   "metadata": {},
   "source": [
    "### Problem 5\n",
    "\n",
    "Write a code that asks a user to enter his/her name and surname and print out the following message:"
   ]
  },
  {
   "cell_type": "markdown",
   "metadata": {},
   "source": [
    "```Name Surname```, welcome!"
   ]
  },
  {
   "cell_type": "markdown",
   "metadata": {},
   "source": [
    "### Problem 6\n",
    "\n",
    "Write a code that asks a user to enter his/her height in centimeters and his/her weight in kilos (one value per line) and prints out the message like this:\n",
    "\n",
    "    Body mass index: [value].\n",
    "    \n",
    "where instead of `[value]` we put the estimated value of Body mass index. \n",
    "\n",
    "Body mass index is calculated in the following way:\n",
    "\n",
    "$$\n",
    "\\text{BMI} = \\text{m} / \\text{h}^2, \n",
    "$$\n",
    "\n",
    "where `m` is the person's weight, `h` is the person's height *in meters*."
   ]
  }
 ],
 "metadata": {
  "kernelspec": {
   "display_name": "Python 3",
   "language": "python",
   "name": "python3"
  },
  "language_info": {
   "codemirror_mode": {
    "name": "ipython",
    "version": 3
   },
   "file_extension": ".py",
   "mimetype": "text/x-python",
   "name": "python",
   "nbconvert_exporter": "python",
   "pygments_lexer": "ipython3",
   "version": "3.7.4"
  }
 },
 "nbformat": 4,
 "nbformat_minor": 2
}
