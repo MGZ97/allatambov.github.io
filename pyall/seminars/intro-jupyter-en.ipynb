{
 "cells": [
  {
   "cell_type": "markdown",
   "metadata": {},
   "source": [
    "# Programming and Data Analysis (Python)\n",
    "\n",
    "*Alla Tambovtseva, NRU HSE*"
   ]
  },
  {
   "cell_type": "markdown",
   "metadata": {},
   "source": [
    "### Introduction to Jupyter Notebook\n",
    "\n",
    "Jupyter Notebook to some point resembles a text editor: there is a menu, a panel of instruments and a working space consisting of cells. Cells can contain pieces of code and texts. Comments in code cells should start with the symbol `#`.\n",
    "\n",
    "An example of code cell:"
   ]
  },
  {
   "cell_type": "code",
   "execution_count": 1,
   "metadata": {},
   "outputs": [
    {
     "name": "stdout",
     "output_type": "stream",
     "text": [
      "3 0.2\n"
     ]
    }
   ],
   "source": [
    "a = 3 # create variable a and assign a value 3\n",
    "b = 0.2 \n",
    "\n",
    "# comment 1\n",
    "# comment 2\n",
    "\n",
    "print(a, b) # print out values of a и b"
   ]
  },
  {
   "cell_type": "markdown",
   "metadata": {},
   "source": [
    "By default the type of a cell is *Code*, it can be seen from the panel under the menu. So as to change the type of a cell, we should click on the arrow and choose a type we want. There are four variants: *Code*, *Markdown*, *RawNBConvert*, and *Heading*.\n",
    "\n",
    "* *Code*: cell with Python code;\n",
    "* *Markdown*: cell with beautiful text, Markdown markup language;\n",
    "* *RawNBConvert*: cell with raw text, no italics/bold text;\n",
    "* *Heading*: not up-to-date, used to be for headings, now we create them using *Markdown*."
   ]
  },
  {
   "cell_type": "markdown",
   "metadata": {},
   "source": [
    "For examples of cells with text (Markdown markup language, you can read [here](https://jupyter-notebook.readthedocs.io/en/latest/examples/Notebook/Working%20With%20Markdown%20Cells.html) and [here](http://nestacms.com/docs/creating-content/markdown-cheat-sheet)) see below."
   ]
  },
  {
   "cell_type": "markdown",
   "metadata": {},
   "source": [
    "### What can we do with Markdown?\n",
    "\n",
    "Create headings of different levels.\n",
    "\n",
    "Input:\n",
    "\n",
    "    # Heading 1\n",
    "    ## Heading 2\n",
    "    ### Heading 3\n",
    "    \n",
    "Output:"
   ]
  },
  {
   "cell_type": "markdown",
   "metadata": {},
   "source": [
    "# Heading 1\n",
    "## Heading 2\n",
    "### Heading 3"
   ]
  },
  {
   "cell_type": "markdown",
   "metadata": {},
   "source": [
    "Mark parts of a text *italics* and **bold style**. Or even <s>cross</s> it out. To do it you can try this:\n",
    "\n",
    "       Mark parts of a text *italics* and **bold style**. Or even <s>cross</s> it out."
   ]
  },
  {
   "cell_type": "markdown",
   "metadata": {},
   "source": [
    "Add lists of different types. \n",
    "\n",
    "**Non-numbered list** \n",
    "\n",
    "Input:\n",
    "\n",
    "    * point 1\n",
    "    * point 2\n",
    "    * point 3\n",
    "\n",
    "Output:\n",
    "\n",
    "* point 1\n",
    "* point 2\n",
    "* point 3"
   ]
  },
  {
   "cell_type": "markdown",
   "metadata": {},
   "source": [
    "**Numbered list**\n",
    "\n",
    "Input:\n",
    "\n",
    "    1. Firstly,...\n",
    "    2. Secondly,...\n",
    "    3. Thirdly,...\n",
    "    \n",
    "Output: \n",
    "\n",
    "1. Firstly,...\n",
    "2. Secondly,...\n",
    "3. Secondly,...\n"
   ]
  },
  {
   "cell_type": "markdown",
   "metadata": {},
   "source": [
    "For those who are familiar with LaTeX: we can add formulas using LaTeX syntax (having LaTeX installed is not needed, texts are compiled inside Jupyter Notebook):\n",
    "\n",
    "$$(x+y)^2 = x^2 + 2xy + y^2$$\n",
    "\n",
    "$$\\Delta = I_{2018} - I_{2017}$$\n",
    "\n",
    "$$P(A|B) = \\frac{P(A \\cap B)}{P(B)}$$\n",
    "\n",
    "$$\\sin(\\alpha)^2 + cos(\\alpha)^2 = 1$$\n",
    "\n",
    "Formulas above were obtained using the following lines:\n",
    "\n",
    "    $$(x+y)^2 = x^2 + 2xy + y^2$$\n",
    "\n",
    "    $$\\Delta = I_{2018} - I_{2017}$$\n",
    "\n",
    "    $$P(A|B) = \\frac{P(A \\cap B)}{P(B)}$$\n",
    "\n",
    "    $$\\sin(\\alpha)^2 + cos(\\alpha)^2 = 1$$"
   ]
  },
  {
   "cell_type": "markdown",
   "metadata": {},
   "source": [
    "We can add **links** as well. Expression `[Jupyter](http://jupyter.org)` will render the link [Jupyter](http://jupyter.org), expression `<http://jupyter.org/>` will return the link <http://jupyter.org/>."
   ]
  },
  {
   "cell_type": "markdown",
   "metadata": {},
   "source": [
    "And, of course, we can add images!"
   ]
  },
  {
   "cell_type": "markdown",
   "metadata": {},
   "source": [
    "For instance, in such a way:\n",
    "\n",
    "`![title](test.png) `"
   ]
  },
  {
   "cell_type": "markdown",
   "metadata": {},
   "source": [
    "![title](test.png) "
   ]
  },
  {
   "cell_type": "markdown",
   "metadata": {},
   "source": [
    "Or in this way (HTML syntax, for those who are familiar):\n",
    "\n",
    "`<img src =\"test.png\" alt =\"Test picture\">`\n",
    "    \n",
    "<img src =\"test.png\" alt =\"Test picture\">"
   ]
  },
  {
   "cell_type": "markdown",
   "metadata": {},
   "source": [
    "*Note:* the part with *alt* (alternative) is used to add some text instead of a picture if it is not rendered properly."
   ]
  },
  {
   "cell_type": "markdown",
   "metadata": {},
   "source": [
    "### Keyboard shortcuts"
   ]
  },
  {
   "cell_type": "markdown",
   "metadata": {},
   "source": [
    "In Jupyter Notebook there are keyboard shortcuts that help to add or delete cells, change their type and so on. So as to work in the mode allowing to use shortcuts, we have to exit the editing mode (press *Esc*) and then try the combination of keys. To return to the editing mode, we can click on a cell twice or choose it and press *Enter*. All the useful combinations you can find in the menu (*Help - Keyboard Shortcuts*)."
   ]
  },
  {
   "cell_type": "markdown",
   "metadata": {},
   "source": [
    "### If you get lost"
   ]
  },
  {
   "cell_type": "markdown",
   "metadata": {},
   "source": [
    "How to find out where Jupyter stores notebooks, i.e. files with the extention `.ipynb`. We can import the module *os* and look at the current working directory:"
   ]
  },
  {
   "cell_type": "code",
   "execution_count": null,
   "metadata": {},
   "outputs": [],
   "source": [
    "import os\n",
    "os.getcwd()"
   ]
  },
  {
   "cell_type": "markdown",
   "metadata": {},
   "source": [
    "Via `import` we will import Python modules, libraries or certain functions. Besides, we can import the text of Python philosophy \"The Zen of Python\":"
   ]
  },
  {
   "cell_type": "code",
   "execution_count": 5,
   "metadata": {},
   "outputs": [
    {
     "name": "stdout",
     "output_type": "stream",
     "text": [
      "The Zen of Python, by Tim Peters\n",
      "\n",
      "Beautiful is better than ugly.\n",
      "Explicit is better than implicit.\n",
      "Simple is better than complex.\n",
      "Complex is better than complicated.\n",
      "Flat is better than nested.\n",
      "Sparse is better than dense.\n",
      "Readability counts.\n",
      "Special cases aren't special enough to break the rules.\n",
      "Although practicality beats purity.\n",
      "Errors should never pass silently.\n",
      "Unless explicitly silenced.\n",
      "In the face of ambiguity, refuse the temptation to guess.\n",
      "There should be one-- and preferably only one --obvious way to do it.\n",
      "Although that way may not be obvious at first unless you're Dutch.\n",
      "Now is better than never.\n",
      "Although never is often better than *right* now.\n",
      "If the implementation is hard to explain, it's a bad idea.\n",
      "If the implementation is easy to explain, it may be a good idea.\n",
      "Namespaces are one honking great idea -- let's do more of those!\n"
     ]
    }
   ],
   "source": [
    "import this"
   ]
  }
 ],
 "metadata": {
  "kernelspec": {
   "display_name": "Python 3",
   "language": "python",
   "name": "python3"
  },
  "language_info": {
   "codemirror_mode": {
    "name": "ipython",
    "version": 3
   },
   "file_extension": ".py",
   "mimetype": "text/x-python",
   "name": "python",
   "nbconvert_exporter": "python",
   "pygments_lexer": "ipython3",
   "version": "3.6.8"
  }
 },
 "nbformat": 4,
 "nbformat_minor": 2
}
