{
 "cells": [
  {
   "cell_type": "code",
   "execution_count": 2,
   "metadata": {},
   "outputs": [
    {
     "data": {
      "text/plain": [
       "[(1, 23), (2, 34), (3, 45), (4, 67), (5, 21)]"
      ]
     },
     "execution_count": 2,
     "metadata": {},
     "output_type": "execute_result"
    }
   ],
   "source": [
    "list(zip([1, 2, 3, 4, 5], [23, 34, 45, 67, 21]))  "
   ]
  },
  {
   "cell_type": "code",
   "execution_count": 3,
   "metadata": {},
   "outputs": [
    {
     "data": {
      "text/plain": [
       "{1: 23, 2: 34, 3: 45, 4: 67, 5: 21}"
      ]
     },
     "execution_count": 3,
     "metadata": {},
     "output_type": "execute_result"
    }
   ],
   "source": [
    "dict(zip([1, 2, 3, 4, 5], [23, 34, 45, 67, 21])) "
   ]
  },
  {
   "cell_type": "code",
   "execution_count": 4,
   "metadata": {},
   "outputs": [],
   "source": [
    "cnt = [\"Andorra\", \"Belarus\", \"Denmark\", \n",
    "       \"Kenya\", \"Jamaica\", \"Romania\"]\n",
    "fh = [1.0, 6.0, 1.0, 4.0, 2.5, 2.0] "
   ]
  },
  {
   "cell_type": "code",
   "execution_count": 7,
   "metadata": {},
   "outputs": [
    {
     "data": {
      "text/plain": [
       "{'Andorra': 1.0,\n",
       " 'Belarus': 6.0,\n",
       " 'Denmark': 1.0,\n",
       " 'Kenya': 4.0,\n",
       " 'Jamaica': 2.5,\n",
       " 'Romania': 2.0}"
      ]
     },
     "execution_count": 7,
     "metadata": {},
     "output_type": "execute_result"
    }
   ],
   "source": [
    "free_data = dict(zip(cnt, fh)) \n",
    "free_data"
   ]
  },
  {
   "cell_type": "code",
   "execution_count": 8,
   "metadata": {},
   "outputs": [],
   "source": [
    "pairs = [(2, 4), (4, 6), (0, 1), (5, 2), (9, 1), (3, 8)] "
   ]
  },
  {
   "cell_type": "code",
   "execution_count": 9,
   "metadata": {},
   "outputs": [],
   "source": [
    "calc = {} "
   ]
  },
  {
   "cell_type": "code",
   "execution_count": 10,
   "metadata": {},
   "outputs": [
    {
     "data": {
      "text/plain": [
       "{(2, 4): 8, (4, 6): 24, (0, 1): 0, (5, 2): 10, (9, 1): 9, (3, 8): 24}"
      ]
     },
     "execution_count": 10,
     "metadata": {},
     "output_type": "execute_result"
    }
   ],
   "source": [
    "for p in pairs:\n",
    "    calc[p] = p[0] * p[1] \n",
    "calc"
   ]
  },
  {
   "cell_type": "code",
   "execution_count": 12,
   "metadata": {},
   "outputs": [
    {
     "data": {
      "text/plain": [
       "{(2, 4): 8, (4, 6): 24, (0, 1): 0, (5, 2): 10, (9, 1): 9, (3, 8): 24}"
      ]
     },
     "execution_count": 12,
     "metadata": {},
     "output_type": "execute_result"
    }
   ],
   "source": [
    "pairs2 = [[2, 4], [4, 6], [0, 1], [5, 2], [9, 1], [3, 8]]\n",
    "calc = {} \n",
    "for p in pairs2:\n",
    "    calc[tuple(p)] = p[0] * p[1] \n",
    "calc"
   ]
  },
  {
   "cell_type": "code",
   "execution_count": 13,
   "metadata": {},
   "outputs": [],
   "source": [
    "grades = {'Anna': 4, 'Bob': 3, 'Claire': 5, 'Dick': 2, 'Elena': 5, \n",
    "         'Fred': 5, 'George': 4, 'Kristina': 3, 'Nick': 2, \n",
    "         'Ursula': 4, 'Viktor': 5} "
   ]
  },
  {
   "cell_type": "code",
   "execution_count": 15,
   "metadata": {},
   "outputs": [
    {
     "name": "stdout",
     "output_type": "stream",
     "text": [
      "Anna 4\n",
      "Bob 3\n",
      "Claire 5\n",
      "Dick 2\n",
      "Elena 5\n",
      "Fred 5\n",
      "George 4\n",
      "Kristina 3\n",
      "Nick 2\n",
      "Ursula 4\n",
      "Viktor 5\n"
     ]
    }
   ],
   "source": [
    "excel = []\n",
    "good = []\n",
    "satisf = []\n",
    "bad = []\n",
    "\n",
    "for i in grades:\n",
    "    print(i, grades[i])\n",
    "    if grades[i] == 5:\n",
    "        excel.append(i)\n",
    "    if grades[i] == 4:\n",
    "        good.append(i)\n",
    "    if grades[i] == 3:\n",
    "        satisf.append(i)\n",
    "    if grades[i] == 2:\n",
    "        bad.append(i) "
   ]
  },
  {
   "cell_type": "code",
   "execution_count": 19,
   "metadata": {},
   "outputs": [
    {
     "name": "stdout",
     "output_type": "stream",
     "text": [
      "excel = ['Claire', 'Elena', 'Fred', 'Viktor'] ['Anna', 'George', 'Ursula'] ['Bob', 'Kristina'] ['Dick', 'Nick']\n"
     ]
    }
   ],
   "source": [
    "print('excel =', excel, good, satisf, bad) "
   ]
  },
  {
   "cell_type": "code",
   "execution_count": 17,
   "metadata": {},
   "outputs": [
    {
     "name": "stdout",
     "output_type": "stream",
     "text": [
      "Anna 4\n",
      "Bob 3\n",
      "Claire 5\n",
      "Dick 2\n",
      "Elena 5\n",
      "Fred 5\n",
      "George 4\n",
      "Kristina 3\n",
      "Nick 2\n",
      "Ursula 4\n",
      "Viktor 5\n"
     ]
    }
   ],
   "source": [
    "excel = []\n",
    "good = []\n",
    "satisf = []\n",
    "bad = []\n",
    "\n",
    "for name, grade in grades.items():\n",
    "    print(name, grade)\n",
    "    if grade == 5:\n",
    "        excel.append(name)\n",
    "    if grade == 4:\n",
    "        good.append(name)\n",
    "    if grade == 3:\n",
    "        satisf.append(name)\n",
    "    if grade == 2:\n",
    "        bad.append(name) "
   ]
  },
  {
   "cell_type": "code",
   "execution_count": 20,
   "metadata": {},
   "outputs": [],
   "source": [
    "grades = {'Anna': 4, 'Bob': 3, 'Claire': 5, 'Dick': 2, 'Elena': 5, \n",
    "         'Fred': 5, 'George': 4, 'Kristina': 3, 'Nick': 2, \n",
    "         'Ursula': 4, 'Viktor': 5} "
   ]
  },
  {
   "cell_type": "code",
   "execution_count": 26,
   "metadata": {},
   "outputs": [],
   "source": [
    "students = ['Anna', 'Bob', 'Claire', 'Dick', \n",
    "           'Elena', 'Alex', 'Fred', 'Greorge', 'Kristina',\n",
    "           'Nick', 'Ursula', 'Viktor', 'Max'] "
   ]
  },
  {
   "cell_type": "markdown",
   "metadata": {},
   "source": [
    "Для каждого студента в `students` вывести на экран его имя и оценку за контрольную из словаря `grades`. Если студент работу не писал (его нет в `grades`), то выводим сообщение: `[Студент] работу не писал(а).`"
   ]
  },
  {
   "cell_type": "code",
   "execution_count": 24,
   "metadata": {},
   "outputs": [
    {
     "data": {
      "text/plain": [
       "'Not found'"
      ]
     },
     "execution_count": 24,
     "metadata": {},
     "output_type": "execute_result"
    }
   ],
   "source": [
    "#|grades['Max']\n",
    "grades.get('Max', 'Not found')  "
   ]
  },
  {
   "cell_type": "code",
   "execution_count": 29,
   "metadata": {},
   "outputs": [
    {
     "name": "stdout",
     "output_type": "stream",
     "text": [
      "Anna 4\n",
      "Bob 3\n",
      "Claire 5\n",
      "Dick 2\n",
      "Elena 5\n",
      "Alex работу не писал(а).\n",
      "Fred 5\n",
      "Greorge работу не писал(а).\n",
      "Kristina 3\n",
      "Nick 2\n",
      "Ursula 4\n",
      "Viktor 5\n",
      "Max работу не писал(а).\n"
     ]
    }
   ],
   "source": [
    "for s in students:\n",
    "    message = \"работу не писал(а).\"\n",
    "    print(s, grades.get(s, message)) "
   ]
  },
  {
   "cell_type": "code",
   "execution_count": 30,
   "metadata": {},
   "outputs": [
    {
     "name": "stdout",
     "output_type": "stream",
     "text": [
      "1 tea\n",
      "2 coffee\n",
      "3 juice\n",
      "4 milk\n"
     ]
    }
   ],
   "source": [
    "drinks = ['tea', 'coffee', 'juice', 'milk'] \n",
    "for i in range(len(drinks)):\n",
    "    print(i + 1, drinks[i]) "
   ]
  },
  {
   "cell_type": "code",
   "execution_count": 31,
   "metadata": {},
   "outputs": [
    {
     "name": "stdout",
     "output_type": "stream",
     "text": [
      "1 tea\n",
      "2 coffee\n",
      "3 juice\n",
      "4 milk\n"
     ]
    }
   ],
   "source": [
    "for i in drinks:\n",
    "    ind = drinks.index(i)\n",
    "    print(ind + 1, i) "
   ]
  },
  {
   "cell_type": "code",
   "execution_count": 36,
   "metadata": {},
   "outputs": [
    {
     "data": {
      "text/plain": [
       "[(0, 'tea'), (1, 'coffee'), (2, 'juice'), (3, 'milk')]"
      ]
     },
     "execution_count": 36,
     "metadata": {},
     "output_type": "execute_result"
    }
   ],
   "source": [
    "list(enumerate(drinks)) "
   ]
  },
  {
   "cell_type": "code",
   "execution_count": 34,
   "metadata": {},
   "outputs": [
    {
     "name": "stdout",
     "output_type": "stream",
     "text": [
      "1 tea\n",
      "2 coffee\n",
      "3 juice\n",
      "4 milk\n"
     ]
    }
   ],
   "source": [
    "for i, d in enumerate(drinks):\n",
    "    print(i + 1, d) "
   ]
  },
  {
   "cell_type": "markdown",
   "metadata": {},
   "source": [
    "Генераторы списков или списковые включения (*list comprehensions*) "
   ]
  },
  {
   "cell_type": "code",
   "execution_count": 40,
   "metadata": {},
   "outputs": [
    {
     "data": {
      "text/plain": [
       "[1, 4, 9, 16, 36]"
      ]
     },
     "execution_count": 40,
     "metadata": {},
     "output_type": "execute_result"
    }
   ],
   "source": [
    "nums = [-1, 2, 3, -4, 6]\n",
    "squares = []\n",
    "for n in nums:\n",
    "    squares.append(n ** 2) \n",
    "squares"
   ]
  },
  {
   "cell_type": "code",
   "execution_count": 42,
   "metadata": {},
   "outputs": [
    {
     "data": {
      "text/plain": [
       "[1, 4, 9, 16, 36]"
      ]
     },
     "execution_count": 42,
     "metadata": {},
     "output_type": "execute_result"
    }
   ],
   "source": [
    "squares = [n ** 2 for n in nums]  \n",
    "squares"
   ]
  },
  {
   "cell_type": "code",
   "execution_count": 52,
   "metadata": {},
   "outputs": [
    {
     "name": "stdout",
     "output_type": "stream",
     "text": [
      "539 ms ± 15.6 ms per loop (mean ± std. dev. of 7 runs, 1 loop each)\n"
     ]
    }
   ],
   "source": [
    "%%timeit\n",
    "nums = range(0, 10000000) \n",
    "binary = [1 if n > 0 else 0 for n in nums] \n",
    "binary "
   ]
  },
  {
   "cell_type": "code",
   "execution_count": 55,
   "metadata": {},
   "outputs": [
    {
     "name": "stdout",
     "output_type": "stream",
     "text": [
      "853 ms ± 17.3 ms per loop (mean ± std. dev. of 7 runs, 1 loop each)\n"
     ]
    }
   ],
   "source": [
    "%%timeit\n",
    "binary = []\n",
    "nums = range(0, 10000000) \n",
    "for n in nums:\n",
    "    if n > 0:\n",
    "        binary.append(1)\n",
    "    else:\n",
    "        binary.append(0) \n",
    "binary"
   ]
  },
  {
   "cell_type": "code",
   "execution_count": 54,
   "metadata": {},
   "outputs": [
    {
     "data": {
      "text/plain": [
       "[0, 1, 1, 0, 1]"
      ]
     },
     "execution_count": 54,
     "metadata": {},
     "output_type": "execute_result"
    }
   ],
   "source": [
    "binary"
   ]
  },
  {
   "cell_type": "code",
   "execution_count": 56,
   "metadata": {},
   "outputs": [
    {
     "name": "stdout",
     "output_type": "stream",
     "text": [
      "7\n",
      "5\n",
      "4\n",
      "5\n",
      "6\n"
     ]
    }
   ],
   "source": [
    "n = [4, 5, 6]\n",
    "m = [7, 5]\n",
    "c = m + n\n",
    "for d in c:\n",
    "    print(d)"
   ]
  },
  {
   "cell_type": "code",
   "execution_count": 57,
   "metadata": {},
   "outputs": [
    {
     "name": "stdout",
     "output_type": "stream",
     "text": [
      "9\n",
      "5.7\n",
      "[1, 4]\n",
      "b\n",
      "6\n"
     ]
    }
   ],
   "source": [
    "my_list = [7, 5, '9', 5.7, [1,4], 'b', 6] \n",
    "for i in my_list[2:]:\n",
    "    print(i) "
   ]
  },
  {
   "cell_type": "code",
   "execution_count": 64,
   "metadata": {},
   "outputs": [],
   "source": [
    "age = 14\n",
    "if age > 18:\n",
    "    print('Yes, you can')\n",
    "elif age > 16:\n",
    "    print('Yes, you also can') \n",
    "else:\n",
    "    print('No, you cannot') "
   ]
  },
  {
   "cell_type": "code",
   "execution_count": 65,
   "metadata": {},
   "outputs": [
    {
     "name": "stdout",
     "output_type": "stream",
     "text": [
      "['x', 'y', 'z', 'w']\n"
     ]
    }
   ],
   "source": [
    "my_list = ['x', 'y', 'z']\n",
    "if my_list[-1] == 'y':\n",
    "    my_list[1] = 5\n",
    "else:\n",
    "    my_list.append('w')\n",
    "print(my_list) "
   ]
  },
  {
   "cell_type": "code",
   "execution_count": null,
   "metadata": {},
   "outputs": [],
   "source": [
    "numbers = [3, 4, 5, 6, 7, 8]\n",
    "if numbers[2] == 4:\n",
    "    print(1)\n",
    "elif len(numbers) == 5:\n",
    "    print(2)\n",
    "elif numbers[-1] == 8:\n",
    "    print(3)\n",
    "else:\n",
    "    print(4)"
   ]
  },
  {
   "cell_type": "code",
   "execution_count": 67,
   "metadata": {},
   "outputs": [
    {
     "name": "stdout",
     "output_type": "stream",
     "text": [
      "[5, 6, 7]\n"
     ]
    }
   ],
   "source": [
    "a = []\n",
    "for b in range(5, 8):\n",
    "    a.append(b)\n",
    "print(a) "
   ]
  },
  {
   "cell_type": "code",
   "execution_count": 68,
   "metadata": {},
   "outputs": [
    {
     "name": "stdout",
     "output_type": "stream",
     "text": [
      "[5, 6, 7]\n"
     ]
    }
   ],
   "source": [
    "k = [5, 6]\n",
    "l = [7, 8, 9]\n",
    "c = k + l[:1] # k + [l[0]] \n",
    "print(c) "
   ]
  },
  {
   "cell_type": "code",
   "execution_count": 69,
   "metadata": {},
   "outputs": [
    {
     "name": "stdout",
     "output_type": "stream",
     "text": [
      "[5, 6, 8, 7]\n"
     ]
    }
   ],
   "source": [
    "m = [5, 6, 8]\n",
    "if m[-1] == 6:\n",
    "    m[-1] == 7\n",
    "else:\n",
    "    m.append(7) \n",
    "print(m) "
   ]
  },
  {
   "cell_type": "code",
   "execution_count": 70,
   "metadata": {},
   "outputs": [],
   "source": [
    "x = 10\n",
    "if x > 20:\n",
    "    print('YES') "
   ]
  },
  {
   "cell_type": "code",
   "execution_count": 71,
   "metadata": {},
   "outputs": [],
   "source": [
    "my_list = [1, 5, 6]\n",
    "\n",
    "if len(my_list) > 3:\n",
    "    my_list.extend([3, 5])\n",
    "else:\n",
    "    my_list.extend([7, 9]) "
   ]
  },
  {
   "cell_type": "code",
   "execution_count": 72,
   "metadata": {},
   "outputs": [
    {
     "data": {
      "text/plain": [
       "[1, 5, 6, 7, 9]"
      ]
     },
     "execution_count": 72,
     "metadata": {},
     "output_type": "execute_result"
    }
   ],
   "source": [
    "my_list"
   ]
  },
  {
   "cell_type": "code",
   "execution_count": 77,
   "metadata": {},
   "outputs": [],
   "source": [
    "a = [5, 6]\n",
    "b = [6, 7]\n",
    "c = a[1:] + b # 6 + b"
   ]
  },
  {
   "cell_type": "code",
   "execution_count": 78,
   "metadata": {},
   "outputs": [
    {
     "data": {
      "text/plain": [
       "[6, 6, 7]"
      ]
     },
     "execution_count": 78,
     "metadata": {},
     "output_type": "execute_result"
    }
   ],
   "source": [
    "c"
   ]
  },
  {
   "cell_type": "code",
   "execution_count": 79,
   "metadata": {},
   "outputs": [
    {
     "data": {
      "text/plain": [
       "[5, 6, 7, 8]"
      ]
     },
     "execution_count": 79,
     "metadata": {},
     "output_type": "execute_result"
    }
   ],
   "source": [
    "m = [4, 5, 6, 7, 8, 9, 10]\n",
    "m[1:5] "
   ]
  },
  {
   "cell_type": "code",
   "execution_count": 80,
   "metadata": {},
   "outputs": [
    {
     "name": "stdout",
     "output_type": "stream",
     "text": [
      "[5, 6, 7]\n"
     ]
    }
   ],
   "source": [
    "n = [6, 7]\n",
    "if n[0] == 6:\n",
    "    n = [5] + n\n",
    "else:\n",
    "    n[0] == 5\n",
    "print(n) "
   ]
  },
  {
   "cell_type": "code",
   "execution_count": null,
   "metadata": {},
   "outputs": [],
   "source": [
    " "
   ]
  }
 ],
 "metadata": {
  "kernelspec": {
   "display_name": "Python 3",
   "language": "python",
   "name": "python3"
  },
  "language_info": {
   "codemirror_mode": {
    "name": "ipython",
    "version": 3
   },
   "file_extension": ".py",
   "mimetype": "text/x-python",
   "name": "python",
   "nbconvert_exporter": "python",
   "pygments_lexer": "ipython3",
   "version": "3.7.4"
  }
 },
 "nbformat": 4,
 "nbformat_minor": 2
}
