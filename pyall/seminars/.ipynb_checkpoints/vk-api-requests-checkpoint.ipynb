{
 "cells": [
  {
   "cell_type": "markdown",
   "metadata": {},
   "source": [
    "## Работа с запросами к API ВКонтакте средствами библиотеки `requests`\n",
    "\n",
    "*Алла Тамбовцева, НИУ ВШЭ*"
   ]
  },
  {
   "cell_type": "markdown",
   "metadata": {},
   "source": [
    "### Введение в API ВКонтакте"
   ]
  },
  {
   "cell_type": "markdown",
   "metadata": {},
   "source": [
    "Сегодня мы немного поработаем с API. API – программный интерфейс приложения, сокращение от *Application Programming Interface*. Этот интерфейс позволяет выполнять различные операции автоматически, через приложение. Если API нам нужен исключительно как источник данных, можно писать запросы, позволяющие обратиться к хранилищу информации внутри API. Если мы хотим управлять приложением, которое будет выполнять какие-то действия, удаленно, можно написать код, который будет, например, автоматически отвечать на сообщения, когда мы не онлайн, лайкать новый пост друга через 30 секунд после его появления, пересылать на почту фотографии, которые выложили участники диалога и прочее.\n",
    "\n",
    "Мы будем работать с API социальной сети ВКонтакте. Использовать API для написания и приема сообщений средствами Python мы не будем, а рассмотрим API как источник данных, позволяющий выгрузить данные о пользователи или посты со страницы сообщества."
   ]
  },
  {
   "cell_type": "markdown",
   "metadata": {},
   "source": [
    "Для работы нам понадобятся две библиотеки: библиотека `requests` для формирования запросов, и библиотека `pandas` для преобразования словаря, который мы получим на основе JSON-файла, в удобный для работы датафрейм."
   ]
  },
  {
   "cell_type": "code",
   "execution_count": 1,
   "metadata": {},
   "outputs": [],
   "source": [
    "import requests\n",
    "import pandas as pd"
   ]
  },
  {
   "cell_type": "markdown",
   "metadata": {},
   "source": [
    "Посмотрим на документацию API ВКонтакте и познакомимся с запросами: \n",
    "\n",
    "https://vk.com/dev.php?method=api_requests"
   ]
  },
  {
   "cell_type": "markdown",
   "metadata": {},
   "source": [
    "Если мы посмотрим на пример запроса, увидим, что он представляет собой особого вида ссылку:\n",
    "\n",
    "`https://api.vk.com/method/METHOD_NAME?PARAMETERS&access_token=ACCESS_TOKEN&v=V`\n",
    "\n",
    "В этой ссылке мы указываем:\n",
    "\n",
    "* метод (`METHOD_NAME`): какого вида запрос хотим сделать;\n",
    "* параметры запроса (`PARAMETERS`): какие данные хотим получить;\n",
    "* токен доступа (`ACCESS_TOKEN`): токен доступа;\n",
    "* версия API (`V`): к какой версии API обращаемся (есть в документации методов)."
   ]
  },
  {
   "cell_type": "markdown",
   "metadata": {},
   "source": [
    "Другими словами, запрос – это обычная строка, которую мы можем сформировать, вставить в адресную строку в браузере и получить результат! Однако, чтобы на наш запрос получить ответ, нужно иметь доступ к API. Иногда API бывают совсем открытыми, но чаще всего, необходимо запрашивать доступ (без доступа можно обойтись, но тогда функционал будет сильно ограничен, и мы не сможем получать содержательную информацию).\n",
    "\n",
    "**Для получения токена доступа:**\n",
    "\n",
    "1. Создать приложение ВКонтакте (пройти по ссылке). Дать название, выбрать *Standalone-приложение*.\n",
    "2. Включить приложение, сделать публичным (*Настройки - Состояние и выбрать в выпадающем меню Приложение включено и видно всем*).\n",
    "3. Авторизоваться: скопировать строку ниже в браузер, в `client id` вместо 1 выставить id своего приложения (первая строка в настроках ‒ ID приложения). Если не хочется ни в чем ограничивать свое приложение, можно оставить `scope=all` (у приложения будет доступ ко всему, к чему есть доступ у пользователя).\n",
    "\n",
    "    `https://oauth.vk.com/authorize?client_id=1&display=page&redirect_uri=http://oauth.vk.com/blank.html&scope=all&response_type=token`\n",
    "\n",
    "    Скопировать `access token` из обновленной адресной строки (все после `access_token=` и до `&expires_in`, без `&`). Никому не показывать! По этому токену можно получить доступ ко всему аккаунту."
   ]
  },
  {
   "cell_type": "markdown",
   "metadata": {},
   "source": [
    "Итак, теперь попробуем сохранить в переменные название метода, параметры, токен доступа и версию API."
   ]
  },
  {
   "cell_type": "markdown",
   "metadata": {},
   "source": [
    "### Пример 1: информация о пользователях"
   ]
  },
  {
   "cell_type": "markdown",
   "metadata": {},
   "source": [
    "Мы попробуем получить информацию о пользователе по его имени (*screen_name*), которое мы видим в ссылке на его страницу. Для этого нам потребуется метод `users.get` (см. весь перечень методов [здесь](https://vk.com/dev/methods)), параметр `user_ids` для указания id или имени пользователя и версия 5.103 (взята из документации по методу `users.get`)."
   ]
  },
  {
   "cell_type": "code",
   "execution_count": 2,
   "metadata": {},
   "outputs": [],
   "source": [
    "METHOD_NAME = \"users.get\"\n",
    "PARAMETERS = \"user_ids=allatamb\"  # enter some id or screen name\n",
    "ACCESS_TOKEN = \"17a30857f701b6a12edd17c5e970340f64e6f23bb0c94abd34c54c8b54be209518e9e7f4206b120997d95\" # enter token here\n",
    "V = \"5.103\""
   ]
  },
  {
   "cell_type": "markdown",
   "metadata": {},
   "source": [
    "Формируем запрос – подставляем в шаблон запроса (ссылка, которую мы видели в самом начале) значения переменных выше. Удобнее всего это сделать через f-строки:"
   ]
  },
  {
   "cell_type": "code",
   "execution_count": 3,
   "metadata": {},
   "outputs": [],
   "source": [
    "request = f\"https://api.vk.com/method/{METHOD_NAME}?{PARAMETERS}&access_token={ACCESS_TOKEN}&v={V}\""
   ]
  },
  {
   "cell_type": "markdown",
   "metadata": {},
   "source": [
    "Если бы мы не пользовались Python (что неудобно, но технически возможно), мы бы скопировали ссылку выше в адресную строку браузера и посмотрели на результат:"
   ]
  },
  {
   "cell_type": "code",
   "execution_count": 4,
   "metadata": {},
   "outputs": [
    {
     "name": "stdout",
     "output_type": "stream",
     "text": [
      "https://api.vk.com/method/users.get?user_ids=allatamb&access_token=17a30857f701b6a12edd17c5e970340f64e6f23bb0c94abd34c54c8b54be209518e9e7f4206b120997d95&v=5.103\n"
     ]
    }
   ],
   "source": [
    "print(request)"
   ]
  },
  {
   "cell_type": "markdown",
   "metadata": {},
   "source": [
    "Но мы поступим иначе – отправим запрос с помощью функции `get()` из библиотеки `requests` (как раньше подставляли в эту функцию ссылку на страницу, которую хотели парсить с помощью BeautifulSoup):"
   ]
  },
  {
   "cell_type": "code",
   "execution_count": 5,
   "metadata": {},
   "outputs": [
    {
     "name": "stdout",
     "output_type": "stream",
     "text": [
      "<Response [200]>\n"
     ]
    }
   ],
   "source": [
    "response = requests.get(request)\n",
    "print(response)"
   ]
  },
  {
   "cell_type": "markdown",
   "metadata": {},
   "source": [
    "Теперь посмотрим на содержимое ответа (*contents*):"
   ]
  },
  {
   "cell_type": "code",
   "execution_count": 6,
   "metadata": {},
   "outputs": [
    {
     "name": "stdout",
     "output_type": "stream",
     "text": [
      "b'{\"response\":[{\"id\":20473269,\"first_name\":\"\\xd0\\x90\\xd0\\xbb\\xd0\\xbb\\xd0\\xb0\",\"last_name\":\"\\xd0\\xa2\\xd0\\xb0\\xd0\\xbc\\xd0\\xb1\\xd0\\xbe\\xd0\\xb2\\xd1\\x86\\xd0\\xb5\\xd0\\xb2\\xd0\\xb0\",\"is_closed\":false,\"can_access_closed\":true}]}'\n"
     ]
    }
   ],
   "source": [
    "response_str = response.content\n",
    "print(response_str) # байтовая строка"
   ]
  },
  {
   "cell_type": "markdown",
   "metadata": {},
   "source": [
    "Содержимое ответа – это JSON-файл, что расшифровывается как *JavaScript Object Notation*. Изначально этот формат хранения данных использовался в языке JavaScript, но теперь он потерял привязку к конкретному языку программирования и стал универсальным. *Object* здесь можно понимать как некоторую структуру хранения данных (список, кортеж, словарь), которая записывается в специальном виде, внешне напоминающим обычную строку.\n",
    "\n",
    "Выгрузим из `response` json-файл:"
   ]
  },
  {
   "cell_type": "code",
   "execution_count": 8,
   "metadata": {},
   "outputs": [],
   "source": [
    "data = response.json()"
   ]
  },
  {
   "cell_type": "markdown",
   "metadata": {},
   "source": [
    "Несложно заметить, что мы получили обычный словарь. Выберем из него запись с ключом *response*, поскольку именно там хранятся все данные:"
   ]
  },
  {
   "cell_type": "code",
   "execution_count": 9,
   "metadata": {},
   "outputs": [
    {
     "name": "stdout",
     "output_type": "stream",
     "text": [
      "[{'id': 20473269, 'first_name': 'Алла', 'last_name': 'Тамбовцева', 'is_closed': False, 'can_access_closed': True}]\n"
     ]
    }
   ],
   "source": [
    "print(data[\"response\"])"
   ]
  },
  {
   "cell_type": "markdown",
   "metadata": {},
   "source": [
    "Получили список из одного элемента. Его можно извлечь:"
   ]
  },
  {
   "cell_type": "code",
   "execution_count": null,
   "metadata": {},
   "outputs": [],
   "source": [
    "print(data[\"response\"][0])"
   ]
  },
  {
   "cell_type": "markdown",
   "metadata": {},
   "source": [
    "Теперь можем вызывать из полученного словаря записи по ключам: "
   ]
  },
  {
   "cell_type": "code",
   "execution_count": null,
   "metadata": {},
   "outputs": [],
   "source": [
    "data[\"response\"][0][\"last_name\"]"
   ]
  },
  {
   "cell_type": "markdown",
   "metadata": {},
   "source": [
    "При желании можем преобразовать словарь в датафрейм pandas, но давайте сделаем это для более объемного примера – выберем сразу несколько пользователей и больше полей с данными:"
   ]
  },
  {
   "cell_type": "code",
   "execution_count": null,
   "metadata": {},
   "outputs": [],
   "source": [
    "users = [\"allatamb\", \"navasilyonok\"]  # список строк\n",
    "users_all = \",\".join(users)  # объединяем в одну строку по запятой\n",
    "print(users_all)"
   ]
  },
  {
   "cell_type": "code",
   "execution_count": null,
   "metadata": {},
   "outputs": [],
   "source": [
    "fields = [\"bdate\", \"city\", \"universities\"]\n",
    "fields_all = \",\".join(fields)\n",
    "print(fields_all)"
   ]
  },
  {
   "cell_type": "code",
   "execution_count": null,
   "metadata": {},
   "outputs": [],
   "source": [
    "METHOD_NAME = \"users.get\"\n",
    "PARAMETERS = \"user_ids=\" + users_all + '&' + 'fields=' + fields_all"
   ]
  },
  {
   "cell_type": "code",
   "execution_count": null,
   "metadata": {},
   "outputs": [],
   "source": [
    "request = f\"https://api.vk.com/method/{METHOD_NAME}?{PARAMETERS}&access_token={ACCESS_TOKEN}&v={V}\""
   ]
  },
  {
   "cell_type": "code",
   "execution_count": null,
   "metadata": {},
   "outputs": [],
   "source": [
    "response = requests.get(request)\n",
    "data = response.json()\n",
    "data"
   ]
  },
  {
   "cell_type": "code",
   "execution_count": null,
   "metadata": {},
   "outputs": [],
   "source": [
    "df = pd.DataFrame(data['response'])\n",
    "df"
   ]
  },
  {
   "cell_type": "code",
   "execution_count": null,
   "metadata": {},
   "outputs": [],
   "source": [
    "df[\"City\"] = df[\"city\"].apply(lambda x: x[\"title\"])\n",
    "df['Univ'] = df[\"universities\"].apply(lambda x: x[0][\"name\"]) \n",
    "df[\"Year\"] = df[\"universities\"].apply(lambda x: x[0][\"graduation\"]) "
   ]
  },
  {
   "cell_type": "markdown",
   "metadata": {},
   "source": [
    "### Пример 2:  список друзей"
   ]
  },
  {
   "cell_type": "code",
   "execution_count": null,
   "metadata": {},
   "outputs": [],
   "source": [
    "### Ваш код, маэстро"
   ]
  },
  {
   "cell_type": "markdown",
   "metadata": {},
   "source": [
    "### Пример 3: посты со стены сообщества"
   ]
  },
  {
   "cell_type": "code",
   "execution_count": null,
   "metadata": {},
   "outputs": [],
   "source": [
    "group = 'hseofficial'\n",
    "count = '100'"
   ]
  },
  {
   "cell_type": "code",
   "execution_count": null,
   "metadata": {},
   "outputs": [],
   "source": [
    "METHOD_NAME = \"wall.get\"\n",
    "PARAMETERS = \"domain=\" + group + '&' + 'count=' + count"
   ]
  },
  {
   "cell_type": "code",
   "execution_count": null,
   "metadata": {},
   "outputs": [],
   "source": [
    "req = f\"https://api.vk.com/method/{METHOD_NAME}?{PARAMETERS}&access_token={ACCESS_TOKEN}&v={V}\""
   ]
  },
  {
   "cell_type": "code",
   "execution_count": null,
   "metadata": {},
   "outputs": [],
   "source": [
    "resp = requests.get(req)\n",
    "data = resp.json()"
   ]
  },
  {
   "cell_type": "code",
   "execution_count": null,
   "metadata": {},
   "outputs": [],
   "source": [
    "res = data['response']['items'] \n",
    "res"
   ]
  },
  {
   "cell_type": "code",
   "execution_count": null,
   "metadata": {},
   "outputs": [],
   "source": [
    "data['response']['items'][0] "
   ]
  },
  {
   "cell_type": "code",
   "execution_count": null,
   "metadata": {},
   "outputs": [],
   "source": [
    "posts = pd.DataFrame(res) "
   ]
  },
  {
   "cell_type": "code",
   "execution_count": null,
   "metadata": {},
   "outputs": [],
   "source": [
    "posts[\"nlikes\"] = posts[\"likes\"].apply(lambda x: int(x[\"count\"]))\n",
    "posts[\"nreposts\"] = posts[\"reposts\"].apply(lambda x: int(x[\"count\"]))\n",
    "posts[\"nviews\"] = posts[\"views\"].apply(lambda x: int(x[\"count\"]))"
   ]
  },
  {
   "cell_type": "code",
   "execution_count": null,
   "metadata": {},
   "outputs": [],
   "source": [
    "posts"
   ]
  },
  {
   "cell_type": "code",
   "execution_count": null,
   "metadata": {},
   "outputs": [],
   "source": [
    "# renew parameters and run\n",
    "\n",
    "offset = '100'\n",
    "PARAMETERS = \"domain=\" + group + '&' + 'count=' + count + 'offset=' + offset\n",
    "\n",
    "# your code here"
   ]
  }
 ],
 "metadata": {
  "kernelspec": {
   "display_name": "Python 3",
   "language": "python",
   "name": "python3"
  },
  "language_info": {
   "codemirror_mode": {
    "name": "ipython",
    "version": 3
   },
   "file_extension": ".py",
   "mimetype": "text/x-python",
   "name": "python",
   "nbconvert_exporter": "python",
   "pygments_lexer": "ipython3",
   "version": "3.7.4"
  }
 },
 "nbformat": 4,
 "nbformat_minor": 2
}
